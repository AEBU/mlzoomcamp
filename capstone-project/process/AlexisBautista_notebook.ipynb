{
  "cells": [
    {
      "cell_type": "markdown",
      "source": [
        "# Scholarship Budget"
      ],
      "metadata": {
        "id": "T7jrEduYh7vc"
      }
    },
    {
      "cell_type": "markdown",
      "source": [
        "## Data download"
      ],
      "metadata": {
        "id": "NPaoe33IkapV"
      }
    },
    {
      "cell_type": "code",
      "source": [
        "data_download = 'https://raw.githubusercontent.com/AEBU/mlzoomcamp/main/capstone-project/senescyt_becas_2022febrero.zip'\n",
        "data_output_zip = 'scolarships_ec.zip'\n",
        "filename = 'senescyt_becas_2022febrero.csv'\n",
        "\n",
        "!wget $data_download -O $data_output_zip\n",
        "!unzip $data_output_zip"
      ],
      "metadata": {
        "id": "zsjUdjUaiXeb"
      },
      "execution_count": null,
      "outputs": []
    },
    {
      "cell_type": "code",
      "source": [
        "!head $filename"
      ],
      "metadata": {
        "colab": {
          "base_uri": "https://localhost:8080/"
        },
        "id": "yT9VhgZiimcK",
        "outputId": "657251d9-6db8-4614-867b-21f9631e0afa"
      },
      "execution_count": 23,
      "outputs": [
        {
          "output_type": "stream",
          "name": "stdout",
          "text": [
            ";8;9;10;11;12;13;14;;30;31;5239,51;436,6258333;35;36;23;24;25;26;28;29;60;ESCUELA SUPERIOR POLITECNICA DE CHIMBORAZOCAMPUS MORONA SANTIAGO ;68;62;63;172;64;65;66;78;83;84;184;190;191;203;182;;;;;;;;;;;;;;;;;;;;;;;;;;;;;;;;;;;;;;;;;;;;;;;;;;;;;;;;;;;;;;;;;;;;;;;;;;;;;;;;;;;;;;;;;;;;;;;;;;;;;;;;;\r\n",
            "ID UNICO;ETNIA;GENERO;DISCAPACIDAD;TIPO DISCAPACIDAD;PORCENTAJE DISCAPACIDAD;ESTADO CIVIL;FECHA DE NACIMIENTO;PROVINCIA NACIMIENTO HOMOLOGADA;PROVINCIA NACIMIENTO;CANTON NACIMIENTO;ZONA SENPLADES LUGAR NACIMIENTO;PROVINCIA RESIDENCIA HOMOLOGADA;PROVINCIA RESIDENCIA;CANTON RESIDENCIA;PROGRAMA GENERAL;SUBPROGRAMA;CONVOCATORIA;COMPONENTE;DESTINO;FINANCIAMIENTO;CENTRO ESTUDIOS BECA;IES DE ESTUDIOS HOMOLOGADA;PAIS DE ESTUDIOS;NIVEL DE ESTUDIOS ;NIVEL DETALLADO;CARRERA ;AREA DE ESTUDIO ;SUBAREA DE ESTUDIO ;AREA ESTUDIO DETALLADO ;FECHA DE SUSCRIPCION;FECHA INICIO FINANCIAMIENTO;FECHA FIN FINANCIAMIENTO;MONTO CONTRATADO;FECHA INICIO ESTUDIOS;FECHA FIN ESTUDIOS;ESTADO ESTUDIANTE;ESTADO BECA;;;;;;;;;;;;;;;;;;;;;;;;;;;;;;;;;;;;;;;;;;;;;;;;;;;;;;;;;;;;;;;;;;;;;;;;;;;;;;;;;;;;;;;;;;;;;;;;;;;;;;;;;\r\n",
            "1111111083;AFRODESCENDIENTE;MASCULINO;NO;-;-;SOLTERO(A);02/11/1982;PICHINCHA;PICHINCHA;QUITO;ZONA 9;PICHINCHA;PICHINCHA;QUITO;PROGRAMA DE BECAS SENESCYT;ELOY ALFARO;-;HAITI;NACIONAL;SENESCYT;UNIVERSIDAD CENTRAL DEL ECUADOR;UNIVERSIDAD CENTRAL DEL ECUADOR;ECUADOR;PREGRADO;PREGRADO;MEDICINA GENERAL INTEGRAL;SALUD Y BIENESTAR;SALUD;MEDICINA;05/01/2013;28/12/2012;30/08/2014; 18.475 ;01/09/2006;30/08/2014;TERMINO ESTUDIOS;TERMINO ESTUDIOS / COMPENSACION;;;;;;;;;;;;;;;;;;;;;;;;;;;;;;;;;;;;;;;;;;;;;;;;;;;;;;;;;;;;;;;;;;;;;;;;;;;;;;;;;;;;;;;;;;;;;;;;;;;;;;;;;\r\n",
            "1111122538;MESTIZO;FEMENINO;NO;-;-;SOLTERO(A);01/03/1987;EXTERIOR;EXTERIOR;EXTERIOR;EXTERIOR;PICHINCHA;PICHINCHA;QUITO;COOPERACION INTERNACIONAL;RECIPROCIDAD;-;VENEZUELA;NACIONAL;SENESCYT;INSTITUTO DE ALTOS ESTUDIOS NACIONALES;INSTITUTO DE ALTOS ESTUDIOS NACIONALES;ECUADOR;POSTGRADO;MAESTRIA;RELACIONES INTERNACIONALES E INTEGRACION;CIENCIAS SOCIALES, PERIODISMO E INFORMACION;CIENCIAS SOCIALES Y DEL COMPORTAMIENTO;CIENCIAS POLITICAS Y EDUCACION CIVICA;10/10/2011;10/10/2011;09/08/2013; 6.160 ;10/10/2011;09/08/2013;TERMINO ESTUDIOS;TERMINO ESTUDIOS / COMPENSACION;;;;;;;;;;;;;;;;;;;;;;;;;;;;;;;;;;;;;;;;;;;;;;;;;;;;;;;;;;;;;;;;;;;;;;;;;;;;;;;;;;;;;;;;;;;;;;;;;;;;;;;;;\r\n",
            "1111134392;MESTIZO;FEMENINO;NO;-;-;SOLTERO(A);02/03/1991;LOJA;LOJA;LOJA;ZONA 7;LOJA;LOJA;LOJA;COOPERACION INTERNACIONAL;RECIPROCIDAD;-;PERU;NACIONAL;SENESCYT;UNIVERSIDAD NACIONAL DE LOJA;UNIVERSIDAD NACIONAL DE LOJA;ECUADOR;PREGRADO;PREGRADO;MEDICINA;SALUD Y BIENESTAR;SALUD;MEDICINA;28/02/2012;01/02/2012;01/07/2015; 18.223 ;01/02/2012;01/07/2015;TERMINO ESTUDIOS;TERMINO ESTUDIOS / COMPENSACION;;;;;;;;;;;;;;;;;;;;;;;;;;;;;;;;;;;;;;;;;;;;;;;;;;;;;;;;;;;;;;;;;;;;;;;;;;;;;;;;;;;;;;;;;;;;;;;;;;;;;;;;;\r\n",
            "1111144329;MESTIZO;FEMENINO;NO;-;-;SOLTERO(A);16/06/1991;LOJA;LOJA;LOJA;ZONA 7;LOJA;LOJA;LOJA;COOPERACION INTERNACIONAL;RECIPROCIDAD;-;PERU;NACIONAL;SENESCYT;UNIVERSIDAD NACIONAL DE LOJA;UNIVERSIDAD NACIONAL DE LOJA;ECUADOR;PREGRADO;PREGRADO;MEDICINA;SALUD Y BIENESTAR;SALUD;MEDICINA;28/02/2012;01/02/2012;01/07/2015; 18.223 ;01/02/2012;01/07/2015;TERMINO ESTUDIOS;TERMINO ESTUDIOS / COMPENSACION;;;;;;;;;;;;;;;;;;;;;;;;;;;;;;;;;;;;;;;;;;;;;;;;;;;;;;;;;;;;;;;;;;;;;;;;;;;;;;;;;;;;;;;;;;;;;;;;;;;;;;;;;\r\n",
            "1111154365;MESTIZO;MASCULINO;NO;-;-;SOLTERO(A);27/03/1990;LOJA;LOJA;LOJA;ZONA 7;LOJA;LOJA;LOJA;COOPERACION INTERNACIONAL;RECIPROCIDAD;-;PERU;NACIONAL;SENESCYT;UNIVERSIDAD NACIONAL DE LOJA;UNIVERSIDAD NACIONAL DE LOJA;ECUADOR;PREGRADO;PREGRADO;MEDICINA;SALUD Y BIENESTAR;SALUD;MEDICINA;28/02/2012;01/02/2012;01/07/2016; 23.964 ;01/02/2012;01/07/2016;TERMINO ESTUDIOS;TERMINO ESTUDIOS / COMPENSACION;;;;;;;;;;;;;;;;;;;;;;;;;;;;;;;;;;;;;;;;;;;;;;;;;;;;;;;;;;;;;;;;;;;;;;;;;;;;;;;;;;;;;;;;;;;;;;;;;;;;;;;;;\r\n",
            "1111165192;MESTIZO;FEMENINO;NO;-;-;SOLTERO(A);11/07/1992;LOJA;LOJA;LOJA;ZONA 7;LOJA;LOJA;LOJA;COOPERACION INTERNACIONAL;RECIPROCIDAD;-;PERU;NACIONAL;SENESCYT;UNIVERSIDAD NACIONAL DE LOJA;UNIVERSIDAD NACIONAL DE LOJA;ECUADOR;PREGRADO;PREGRADO;CONTABILIDAD Y AUDITORIA;ADMINISTRACION DE EMPRESAS Y DERECHO;EDUCACION COMERCIAL Y ADMINISTRACION;CONTABILIDAD E IMPUESTOS;28/02/2012;01/02/2012;01/07/2017; 29.705 ;01/02/2012;01/07/2017;TERMINO ESTUDIOS;TERMINO ESTUDIOS / COMPENSACION;;;;;;;;;;;;;;;;;;;;;;;;;;;;;;;;;;;;;;;;;;;;;;;;;;;;;;;;;;;;;;;;;;;;;;;;;;;;;;;;;;;;;;;;;;;;;;;;;;;;;;;;;\r\n",
            "1111175247;MESTIZO;MASCULINO;NO;-;-;SOLTERO(A);23/03/1991;LOJA;LOJA;LOJA;ZONA 7;LOJA;LOJA;LOJA;COOPERACION INTERNACIONAL;RECIPROCIDAD;-;PERU;NACIONAL;SENESCYT;UNIVERSIDAD NACIONAL DE LOJA;UNIVERSIDAD NACIONAL DE LOJA;ECUADOR;PREGRADO;PREGRADO;MEDICINA;SALUD Y BIENESTAR;SALUD;MEDICINA;28/02/2012;01/02/2012;01/05/2016; 23.964 ;01/02/2012;01/05/2016;TERMINO ESTUDIOS;TERMINO ESTUDIOS / COMPENSACION;;;;;;;;;;;;;;;;;;;;;;;;;;;;;;;;;;;;;;;;;;;;;;;;;;;;;;;;;;;;;;;;;;;;;;;;;;;;;;;;;;;;;;;;;;;;;;;;;;;;;;;;;\r\n",
            "1111185283;MESTIZO;MASCULINO;NO;-;-;SOLTERO(A);17/10/1990;LOJA;LOJA;LOJA;ZONA 7;LOJA;LOJA;LOJA;COOPERACION INTERNACIONAL;RECIPROCIDAD;-;PERU;NACIONAL;SENESCYT;UNIVERSIDAD NACIONAL DE LOJA;UNIVERSIDAD NACIONAL DE LOJA;ECUADOR;PREGRADO;PREGRADO;MEDICINA;SALUD Y BIENESTAR;SALUD;MEDICINA;28/02/2012;01/02/2012;01/07/2015; 18.223 ;01/02/2012;01/07/2015;TERMINO ESTUDIOS;TERMINO ESTUDIOS / COMPENSACION;;;;;;;;;;;;;;;;;;;;;;;;;;;;;;;;;;;;;;;;;;;;;;;;;;;;;;;;;;;;;;;;;;;;;;;;;;;;;;;;;;;;;;;;;;;;;;;;;;;;;;;;;\r\n"
          ]
        }
      ]
    },
    {
      "cell_type": "markdown",
      "metadata": {
        "id": "qlObsOX_tDUJ"
      },
      "source": [
        "## Importing libraries"
      ]
    },
    {
      "cell_type": "code",
      "execution_count": 71,
      "metadata": {
        "id": "uTTSuejkwE_a"
      },
      "outputs": [],
      "source": [
        "#@ IMPORTING LIBRARIES AND DEPENDENCIES:\n",
        "\n",
        "import pandas as pd\n",
        "import numpy as np\n",
        "import seaborn as sns\n",
        "import plotly.express as px\n",
        "\n",
        "from sklearn.tree import export_text\n",
        "from sklearn.metrics import mutual_info_score\n",
        "\n",
        "from datetime import datetime\n",
        "from datetime import date\n",
        "from tqdm.auto import tqdm\n",
        "from matplotlib import pyplot as plt\n",
        "from sklearn.model_selection import train_test_split\n",
        "from sklearn.feature_extraction import DictVectorizer\n",
        "from sklearn.linear_model import LinearRegression\n",
        "from sklearn.linear_model import Ridge\n",
        "\n",
        "\n",
        "from IPython.display import display\n",
        "\n",
        "%matplotlib inline"
      ]
    },
    {
      "cell_type": "markdown",
      "source": [
        "### Define functions"
      ],
      "metadata": {
        "id": "kksEZck0nqBc"
      }
    },
    {
      "cell_type": "code",
      "source": [
        "def calculate_age(date_age, type_calculate = 1):\n",
        "    try: \n",
        "        if type_calculate == 1:\n",
        "            birth_day = pd.to_datetime(date_age, format='%d/%m/%Y')\n",
        "            today = date.today()\n",
        "            return today.year - birth_day.year - ((today.month, today.day) < (birth_day.month, birth_day.day))\n",
        "        elif type_calculate == 2:\n",
        "            return pd.to_datetime(date_age, format='%d/%m/%Y')\n",
        "    except Exception as e:\n",
        "        print(e)\n",
        "        return np.nan\n",
        "\n",
        "\n",
        "def change_replace(str_replace, str_input_replace, str_out_replace):\n",
        "    try: \n",
        "        return str_replace.replace(str_input_replace,str_out_replace )\n",
        "    except Exception as e:\n",
        "        return str_replace\n",
        "        \n",
        "def mutual_info_amount_score(series):\n",
        "    return mutual_info_score(series, df_full_train.monto_contratado)        \n",
        "\n",
        "def rmse(y, y_pred):\n",
        "    se = (y - y_pred) ** 2\n",
        "    mse = se.mean()\n",
        "    return np.sqrt(mse)    \n",
        "    "
      ],
      "metadata": {
        "id": "Z10P7Fz6npfI"
      },
      "execution_count": 70,
      "outputs": []
    },
    {
      "cell_type": "markdown",
      "metadata": {
        "id": "XLCEmN7dtF9o"
      },
      "source": [
        "## Data Preparation"
      ]
    },
    {
      "cell_type": "code",
      "execution_count": 25,
      "metadata": {
        "colab": {
          "base_uri": "https://localhost:8080/",
          "height": 334
        },
        "id": "kwDJtY6UwR5_",
        "outputId": "b6a8ff10-b183-4f79-8d07-e0ac183eb1a2"
      },
      "outputs": [
        {
          "output_type": "execute_result",
          "data": {
            "text/plain": [
              "     ID UNICO             ETNIA     GENERO DISCAPACIDAD TIPO DISCAPACIDAD  \\\n",
              "0  1111111083  AFRODESCENDIENTE  MASCULINO           NO                 -   \n",
              "1  1111122538           MESTIZO   FEMENINO           NO                 -   \n",
              "2  1111134392           MESTIZO   FEMENINO           NO                 -   \n",
              "3  1111144329           MESTIZO   FEMENINO           NO                 -   \n",
              "4  1111154365           MESTIZO  MASCULINO           NO                 -   \n",
              "\n",
              "  PORCENTAJE DISCAPACIDAD ESTADO CIVIL FECHA DE NACIMIENTO  \\\n",
              "0                       -   SOLTERO(A)          02/11/1982   \n",
              "1                       -   SOLTERO(A)          01/03/1987   \n",
              "2                       -   SOLTERO(A)          02/03/1991   \n",
              "3                       -   SOLTERO(A)          16/06/1991   \n",
              "4                       -   SOLTERO(A)          27/03/1990   \n",
              "\n",
              "  PROVINCIA NACIMIENTO HOMOLOGADA PROVINCIA NACIMIENTO  ... Unnamed: 133  \\\n",
              "0                       PICHINCHA            PICHINCHA  ...          NaN   \n",
              "1                        EXTERIOR             EXTERIOR  ...          NaN   \n",
              "2                            LOJA                 LOJA  ...          NaN   \n",
              "3                            LOJA                 LOJA  ...          NaN   \n",
              "4                            LOJA                 LOJA  ...          NaN   \n",
              "\n",
              "  Unnamed: 134 Unnamed: 135 Unnamed: 136 Unnamed: 137 Unnamed: 138  \\\n",
              "0          NaN          NaN          NaN          NaN          NaN   \n",
              "1          NaN          NaN          NaN          NaN          NaN   \n",
              "2          NaN          NaN          NaN          NaN          NaN   \n",
              "3          NaN          NaN          NaN          NaN          NaN   \n",
              "4          NaN          NaN          NaN          NaN          NaN   \n",
              "\n",
              "  Unnamed: 139 Unnamed: 140 Unnamed: 141 Unnamed: 142  \n",
              "0          NaN          NaN          NaN          NaN  \n",
              "1          NaN          NaN          NaN          NaN  \n",
              "2          NaN          NaN          NaN          NaN  \n",
              "3          NaN          NaN          NaN          NaN  \n",
              "4          NaN          NaN          NaN          NaN  \n",
              "\n",
              "[5 rows x 143 columns]"
            ],
            "text/html": [
              "\n",
              "  <div id=\"df-ed7cb434-e777-443f-82fd-b058bc16b47e\">\n",
              "    <div class=\"colab-df-container\">\n",
              "      <div>\n",
              "<style scoped>\n",
              "    .dataframe tbody tr th:only-of-type {\n",
              "        vertical-align: middle;\n",
              "    }\n",
              "\n",
              "    .dataframe tbody tr th {\n",
              "        vertical-align: top;\n",
              "    }\n",
              "\n",
              "    .dataframe thead th {\n",
              "        text-align: right;\n",
              "    }\n",
              "</style>\n",
              "<table border=\"1\" class=\"dataframe\">\n",
              "  <thead>\n",
              "    <tr style=\"text-align: right;\">\n",
              "      <th></th>\n",
              "      <th>ID UNICO</th>\n",
              "      <th>ETNIA</th>\n",
              "      <th>GENERO</th>\n",
              "      <th>DISCAPACIDAD</th>\n",
              "      <th>TIPO DISCAPACIDAD</th>\n",
              "      <th>PORCENTAJE DISCAPACIDAD</th>\n",
              "      <th>ESTADO CIVIL</th>\n",
              "      <th>FECHA DE NACIMIENTO</th>\n",
              "      <th>PROVINCIA NACIMIENTO HOMOLOGADA</th>\n",
              "      <th>PROVINCIA NACIMIENTO</th>\n",
              "      <th>...</th>\n",
              "      <th>Unnamed: 133</th>\n",
              "      <th>Unnamed: 134</th>\n",
              "      <th>Unnamed: 135</th>\n",
              "      <th>Unnamed: 136</th>\n",
              "      <th>Unnamed: 137</th>\n",
              "      <th>Unnamed: 138</th>\n",
              "      <th>Unnamed: 139</th>\n",
              "      <th>Unnamed: 140</th>\n",
              "      <th>Unnamed: 141</th>\n",
              "      <th>Unnamed: 142</th>\n",
              "    </tr>\n",
              "  </thead>\n",
              "  <tbody>\n",
              "    <tr>\n",
              "      <th>0</th>\n",
              "      <td>1111111083</td>\n",
              "      <td>AFRODESCENDIENTE</td>\n",
              "      <td>MASCULINO</td>\n",
              "      <td>NO</td>\n",
              "      <td>-</td>\n",
              "      <td>-</td>\n",
              "      <td>SOLTERO(A)</td>\n",
              "      <td>02/11/1982</td>\n",
              "      <td>PICHINCHA</td>\n",
              "      <td>PICHINCHA</td>\n",
              "      <td>...</td>\n",
              "      <td>NaN</td>\n",
              "      <td>NaN</td>\n",
              "      <td>NaN</td>\n",
              "      <td>NaN</td>\n",
              "      <td>NaN</td>\n",
              "      <td>NaN</td>\n",
              "      <td>NaN</td>\n",
              "      <td>NaN</td>\n",
              "      <td>NaN</td>\n",
              "      <td>NaN</td>\n",
              "    </tr>\n",
              "    <tr>\n",
              "      <th>1</th>\n",
              "      <td>1111122538</td>\n",
              "      <td>MESTIZO</td>\n",
              "      <td>FEMENINO</td>\n",
              "      <td>NO</td>\n",
              "      <td>-</td>\n",
              "      <td>-</td>\n",
              "      <td>SOLTERO(A)</td>\n",
              "      <td>01/03/1987</td>\n",
              "      <td>EXTERIOR</td>\n",
              "      <td>EXTERIOR</td>\n",
              "      <td>...</td>\n",
              "      <td>NaN</td>\n",
              "      <td>NaN</td>\n",
              "      <td>NaN</td>\n",
              "      <td>NaN</td>\n",
              "      <td>NaN</td>\n",
              "      <td>NaN</td>\n",
              "      <td>NaN</td>\n",
              "      <td>NaN</td>\n",
              "      <td>NaN</td>\n",
              "      <td>NaN</td>\n",
              "    </tr>\n",
              "    <tr>\n",
              "      <th>2</th>\n",
              "      <td>1111134392</td>\n",
              "      <td>MESTIZO</td>\n",
              "      <td>FEMENINO</td>\n",
              "      <td>NO</td>\n",
              "      <td>-</td>\n",
              "      <td>-</td>\n",
              "      <td>SOLTERO(A)</td>\n",
              "      <td>02/03/1991</td>\n",
              "      <td>LOJA</td>\n",
              "      <td>LOJA</td>\n",
              "      <td>...</td>\n",
              "      <td>NaN</td>\n",
              "      <td>NaN</td>\n",
              "      <td>NaN</td>\n",
              "      <td>NaN</td>\n",
              "      <td>NaN</td>\n",
              "      <td>NaN</td>\n",
              "      <td>NaN</td>\n",
              "      <td>NaN</td>\n",
              "      <td>NaN</td>\n",
              "      <td>NaN</td>\n",
              "    </tr>\n",
              "    <tr>\n",
              "      <th>3</th>\n",
              "      <td>1111144329</td>\n",
              "      <td>MESTIZO</td>\n",
              "      <td>FEMENINO</td>\n",
              "      <td>NO</td>\n",
              "      <td>-</td>\n",
              "      <td>-</td>\n",
              "      <td>SOLTERO(A)</td>\n",
              "      <td>16/06/1991</td>\n",
              "      <td>LOJA</td>\n",
              "      <td>LOJA</td>\n",
              "      <td>...</td>\n",
              "      <td>NaN</td>\n",
              "      <td>NaN</td>\n",
              "      <td>NaN</td>\n",
              "      <td>NaN</td>\n",
              "      <td>NaN</td>\n",
              "      <td>NaN</td>\n",
              "      <td>NaN</td>\n",
              "      <td>NaN</td>\n",
              "      <td>NaN</td>\n",
              "      <td>NaN</td>\n",
              "    </tr>\n",
              "    <tr>\n",
              "      <th>4</th>\n",
              "      <td>1111154365</td>\n",
              "      <td>MESTIZO</td>\n",
              "      <td>MASCULINO</td>\n",
              "      <td>NO</td>\n",
              "      <td>-</td>\n",
              "      <td>-</td>\n",
              "      <td>SOLTERO(A)</td>\n",
              "      <td>27/03/1990</td>\n",
              "      <td>LOJA</td>\n",
              "      <td>LOJA</td>\n",
              "      <td>...</td>\n",
              "      <td>NaN</td>\n",
              "      <td>NaN</td>\n",
              "      <td>NaN</td>\n",
              "      <td>NaN</td>\n",
              "      <td>NaN</td>\n",
              "      <td>NaN</td>\n",
              "      <td>NaN</td>\n",
              "      <td>NaN</td>\n",
              "      <td>NaN</td>\n",
              "      <td>NaN</td>\n",
              "    </tr>\n",
              "  </tbody>\n",
              "</table>\n",
              "<p>5 rows × 143 columns</p>\n",
              "</div>\n",
              "      <button class=\"colab-df-convert\" onclick=\"convertToInteractive('df-ed7cb434-e777-443f-82fd-b058bc16b47e')\"\n",
              "              title=\"Convert this dataframe to an interactive table.\"\n",
              "              style=\"display:none;\">\n",
              "        \n",
              "  <svg xmlns=\"http://www.w3.org/2000/svg\" height=\"24px\"viewBox=\"0 0 24 24\"\n",
              "       width=\"24px\">\n",
              "    <path d=\"M0 0h24v24H0V0z\" fill=\"none\"/>\n",
              "    <path d=\"M18.56 5.44l.94 2.06.94-2.06 2.06-.94-2.06-.94-.94-2.06-.94 2.06-2.06.94zm-11 1L8.5 8.5l.94-2.06 2.06-.94-2.06-.94L8.5 2.5l-.94 2.06-2.06.94zm10 10l.94 2.06.94-2.06 2.06-.94-2.06-.94-.94-2.06-.94 2.06-2.06.94z\"/><path d=\"M17.41 7.96l-1.37-1.37c-.4-.4-.92-.59-1.43-.59-.52 0-1.04.2-1.43.59L10.3 9.45l-7.72 7.72c-.78.78-.78 2.05 0 2.83L4 21.41c.39.39.9.59 1.41.59.51 0 1.02-.2 1.41-.59l7.78-7.78 2.81-2.81c.8-.78.8-2.07 0-2.86zM5.41 20L4 18.59l7.72-7.72 1.47 1.35L5.41 20z\"/>\n",
              "  </svg>\n",
              "      </button>\n",
              "      \n",
              "  <style>\n",
              "    .colab-df-container {\n",
              "      display:flex;\n",
              "      flex-wrap:wrap;\n",
              "      gap: 12px;\n",
              "    }\n",
              "\n",
              "    .colab-df-convert {\n",
              "      background-color: #E8F0FE;\n",
              "      border: none;\n",
              "      border-radius: 50%;\n",
              "      cursor: pointer;\n",
              "      display: none;\n",
              "      fill: #1967D2;\n",
              "      height: 32px;\n",
              "      padding: 0 0 0 0;\n",
              "      width: 32px;\n",
              "    }\n",
              "\n",
              "    .colab-df-convert:hover {\n",
              "      background-color: #E2EBFA;\n",
              "      box-shadow: 0px 1px 2px rgba(60, 64, 67, 0.3), 0px 1px 3px 1px rgba(60, 64, 67, 0.15);\n",
              "      fill: #174EA6;\n",
              "    }\n",
              "\n",
              "    [theme=dark] .colab-df-convert {\n",
              "      background-color: #3B4455;\n",
              "      fill: #D2E3FC;\n",
              "    }\n",
              "\n",
              "    [theme=dark] .colab-df-convert:hover {\n",
              "      background-color: #434B5C;\n",
              "      box-shadow: 0px 1px 3px 1px rgba(0, 0, 0, 0.15);\n",
              "      filter: drop-shadow(0px 1px 2px rgba(0, 0, 0, 0.3));\n",
              "      fill: #FFFFFF;\n",
              "    }\n",
              "  </style>\n",
              "\n",
              "      <script>\n",
              "        const buttonEl =\n",
              "          document.querySelector('#df-ed7cb434-e777-443f-82fd-b058bc16b47e button.colab-df-convert');\n",
              "        buttonEl.style.display =\n",
              "          google.colab.kernel.accessAllowed ? 'block' : 'none';\n",
              "\n",
              "        async function convertToInteractive(key) {\n",
              "          const element = document.querySelector('#df-ed7cb434-e777-443f-82fd-b058bc16b47e');\n",
              "          const dataTable =\n",
              "            await google.colab.kernel.invokeFunction('convertToInteractive',\n",
              "                                                     [key], {});\n",
              "          if (!dataTable) return;\n",
              "\n",
              "          const docLinkHtml = 'Like what you see? Visit the ' +\n",
              "            '<a target=\"_blank\" href=https://colab.research.google.com/notebooks/data_table.ipynb>data table notebook</a>'\n",
              "            + ' to learn more about interactive tables.';\n",
              "          element.innerHTML = '';\n",
              "          dataTable['output_type'] = 'display_data';\n",
              "          await google.colab.output.renderOutput(dataTable, element);\n",
              "          const docLink = document.createElement('div');\n",
              "          docLink.innerHTML = docLinkHtml;\n",
              "          element.appendChild(docLink);\n",
              "        }\n",
              "      </script>\n",
              "    </div>\n",
              "  </div>\n",
              "  "
            ]
          },
          "metadata": {},
          "execution_count": 25
        }
      ],
      "source": [
        "df_scolaships = pd.read_csv(filename, encoding='latin-1', sep=';', skiprows=1, dtype=str)\n",
        "df_scolaships.head()"
      ]
    },
    {
      "cell_type": "code",
      "execution_count": null,
      "metadata": {
        "id": "NUTmH5FN0FVI"
      },
      "outputs": [],
      "source": [
        "#@ FILTER ONLY NECCESARY FEATURES\n",
        "df_scolaships = df_scolaships.iloc[: , 0:38].dropna(subset=['ID UNICO','ETNIA','GENERO'])\n",
        "df_scolaships.head().T"
      ]
    },
    {
      "cell_type": "code",
      "execution_count": 31,
      "metadata": {
        "id": "kRNNbkup0epI"
      },
      "outputs": [],
      "source": [
        "#@ Variable standardization\n",
        "df_scolaships.columns = df_scolaships.columns.str.lower().str.strip().str.replace(' ', '_')\n",
        "string_columns = list(df_scolaships.dtypes[df_scolaships.dtypes == 'object'].index)\n",
        "\n",
        "for col in string_columns:\n",
        "    # df_scolaships[col] = df_scolaships[col].str.lower().str.replace(' ', '_')\n",
        "    df_scolaships[col] = df_scolaships[col].str.lower().str.strip()\\\n",
        "                        .replace('no registrado', np.nan)\\\n",
        "                        .replace('%', '')\\\n",
        "                        .replace('-', None)"
      ]
    },
    {
      "cell_type": "code",
      "execution_count": 28,
      "metadata": {
        "colab": {
          "base_uri": "https://localhost:8080/"
        },
        "id": "z7x09oIox3wn",
        "outputId": "35c5a734-1499-414a-8a25-d1cf314d8723"
      },
      "outputs": [
        {
          "output_type": "execute_result",
          "data": {
            "text/plain": [
              "Index(['id_unico', 'etnia', 'genero', 'discapacidad', 'tipo_discapacidad',\n",
              "       'porcentaje_discapacidad', 'estado_civil', 'fecha_de_nacimiento',\n",
              "       'provincia_nacimiento_homologada', 'provincia_nacimiento',\n",
              "       'canton_nacimiento', 'zona_senplades_lugar_nacimiento',\n",
              "       'provincia_residencia_homologada', 'provincia_residencia',\n",
              "       'canton_residencia', 'programa_general', 'subprograma', 'convocatoria',\n",
              "       'componente', 'destino', 'financiamiento', 'centro_estudios_beca',\n",
              "       'ies_de_estudios_homologada', 'pais_de_estudios', 'nivel_de_estudios',\n",
              "       'nivel_detallado', 'carrera', 'area_de_estudio', 'subarea_de_estudio',\n",
              "       'area_estudio_detallado', 'fecha_de_suscripcion',\n",
              "       'fecha_inicio_financiamiento', 'fecha_fin_financiamiento',\n",
              "       'monto_contratado', 'fecha_inicio_estudios', 'fecha_fin_estudios',\n",
              "       'estado_estudiante', 'estado_beca'],\n",
              "      dtype='object')"
            ]
          },
          "metadata": {},
          "execution_count": 28
        }
      ],
      "source": [
        "df_scolaships.columns"
      ]
    },
    {
      "cell_type": "code",
      "execution_count": 29,
      "metadata": {
        "colab": {
          "base_uri": "https://localhost:8080/"
        },
        "id": "3fOLS1kszmdK",
        "outputId": "3588e483-9d4f-480b-d434-c69b1d4b98e6"
      },
      "outputs": [
        {
          "output_type": "stream",
          "name": "stdout",
          "text": [
            "<class 'pandas.core.frame.DataFrame'>\n",
            "Int64Index: 42116 entries, 0 to 42115\n",
            "Data columns (total 38 columns):\n",
            " #   Column                           Non-Null Count  Dtype \n",
            "---  ------                           --------------  ----- \n",
            " 0   id_unico                         42116 non-null  object\n",
            " 1   etnia                            42048 non-null  object\n",
            " 2   genero                           42116 non-null  object\n",
            " 3   discapacidad                     42011 non-null  object\n",
            " 4   tipo_discapacidad                25993 non-null  object\n",
            " 5   porcentaje_discapacidad          25992 non-null  object\n",
            " 6   estado_civil                     42015 non-null  object\n",
            " 7   fecha_de_nacimiento              42020 non-null  object\n",
            " 8   provincia_nacimiento_homologada  42115 non-null  object\n",
            " 9   provincia_nacimiento             42116 non-null  object\n",
            " 10  canton_nacimiento                42116 non-null  object\n",
            " 11  zona_senplades_lugar_nacimiento  42107 non-null  object\n",
            " 12  provincia_residencia_homologada  42116 non-null  object\n",
            " 13  provincia_residencia             42116 non-null  object\n",
            " 14  canton_residencia                42116 non-null  object\n",
            " 15  programa_general                 42116 non-null  object\n",
            " 16  subprograma                      42116 non-null  object\n",
            " 17  convocatoria                     42116 non-null  object\n",
            " 18  componente                       42116 non-null  object\n",
            " 19  destino                          42116 non-null  object\n",
            " 20  financiamiento                   42116 non-null  object\n",
            " 21  centro_estudios_beca             42116 non-null  object\n",
            " 22  ies_de_estudios_homologada       42116 non-null  object\n",
            " 23  pais_de_estudios                 42116 non-null  object\n",
            " 24  nivel_de_estudios                42116 non-null  object\n",
            " 25  nivel_detallado                  42116 non-null  object\n",
            " 26  carrera                          42116 non-null  object\n",
            " 27  area_de_estudio                  42116 non-null  object\n",
            " 28  subarea_de_estudio               42116 non-null  object\n",
            " 29  area_estudio_detallado           42116 non-null  object\n",
            " 30  fecha_de_suscripcion             42114 non-null  object\n",
            " 31  fecha_inicio_financiamiento      42085 non-null  object\n",
            " 32  fecha_fin_financiamiento         42085 non-null  object\n",
            " 33  monto_contratado                 42023 non-null  object\n",
            " 34  fecha_inicio_estudios            42116 non-null  object\n",
            " 35  fecha_fin_estudios               42116 non-null  object\n",
            " 36  estado_estudiante                42116 non-null  object\n",
            " 37  estado_beca                      42116 non-null  object\n",
            "dtypes: object(38)\n",
            "memory usage: 12.5+ MB\n"
          ]
        }
      ],
      "source": [
        "df_scolaships.info()"
      ]
    },
    {
      "cell_type": "code",
      "execution_count": 30,
      "metadata": {
        "colab": {
          "base_uri": "https://localhost:8080/"
        },
        "id": "_8-FcQdb0U14",
        "outputId": "9eab9607-4b0c-4517-d7d4-ecd87805f38d"
      },
      "outputs": [
        {
          "output_type": "execute_result",
          "data": {
            "text/plain": [
              "id_unico                               0\n",
              "etnia                                 68\n",
              "genero                                 0\n",
              "discapacidad                         105\n",
              "tipo_discapacidad                  16123\n",
              "porcentaje_discapacidad            16124\n",
              "estado_civil                         101\n",
              "fecha_de_nacimiento                   96\n",
              "provincia_nacimiento_homologada        1\n",
              "provincia_nacimiento                   0\n",
              "canton_nacimiento                      0\n",
              "zona_senplades_lugar_nacimiento        9\n",
              "provincia_residencia_homologada        0\n",
              "provincia_residencia                   0\n",
              "canton_residencia                      0\n",
              "programa_general                       0\n",
              "subprograma                            0\n",
              "convocatoria                           0\n",
              "componente                             0\n",
              "destino                                0\n",
              "financiamiento                         0\n",
              "centro_estudios_beca                   0\n",
              "ies_de_estudios_homologada             0\n",
              "pais_de_estudios                       0\n",
              "nivel_de_estudios                      0\n",
              "nivel_detallado                        0\n",
              "carrera                                0\n",
              "area_de_estudio                        0\n",
              "subarea_de_estudio                     0\n",
              "area_estudio_detallado                 0\n",
              "fecha_de_suscripcion                   2\n",
              "fecha_inicio_financiamiento           31\n",
              "fecha_fin_financiamiento              31\n",
              "monto_contratado                      93\n",
              "fecha_inicio_estudios                  0\n",
              "fecha_fin_estudios                     0\n",
              "estado_estudiante                      0\n",
              "estado_beca                            0\n",
              "dtype: int64"
            ]
          },
          "metadata": {},
          "execution_count": 30
        }
      ],
      "source": [
        "df_scolaships.isnull().sum()"
      ]
    },
    {
      "cell_type": "markdown",
      "metadata": {
        "id": "9-s23z3Xv4yK"
      },
      "source": [
        "## Data Cleaning - Missing data"
      ]
    },
    {
      "cell_type": "code",
      "execution_count": 32,
      "metadata": {
        "colab": {
          "base_uri": "https://localhost:8080/"
        },
        "id": "8UNLoCgru1g-",
        "outputId": "30eae739-c8b1-4a53-a59c-fdd01a23f807"
      },
      "outputs": [
        {
          "output_type": "execute_result",
          "data": {
            "text/plain": [
              "42116"
            ]
          },
          "metadata": {},
          "execution_count": 32
        }
      ],
      "source": [
        "len(df_scolaships)"
      ]
    },
    {
      "cell_type": "code",
      "execution_count": 33,
      "metadata": {
        "colab": {
          "base_uri": "https://localhost:8080/"
        },
        "id": "-35S8_Axu5DI",
        "outputId": "f736949a-3f94-42ea-cd13-e85652810a15"
      },
      "outputs": [
        {
          "output_type": "execute_result",
          "data": {
            "text/plain": [
              "42023"
            ]
          },
          "metadata": {},
          "execution_count": 33
        }
      ],
      "source": [
        "df_scolaships.dropna(subset=['monto_contratado'], inplace=True)\n",
        "len(df_scolaships)"
      ]
    },
    {
      "cell_type": "code",
      "execution_count": 54,
      "metadata": {
        "id": "MO3HNQetMbYh"
      },
      "outputs": [],
      "source": [
        "df_scolaships['tipo_discapacidad'] = df_scolaships['tipo_discapacidad'].replace('-', 'ninguna').replace('0', 'ninguna').fillna('ninguna')\n",
        "df_scolaships['porcentaje_discapacidad'] = df_scolaships['porcentaje_discapacidad'].str.replace('%', '').str.replace('-', '0').fillna('0')\n",
        "df_scolaships['etnia'] = df_scolaships['etnia'].fillna('no_definida')\n",
        "df_scolaships['discapacidad'] = df_scolaships['discapacidad'].fillna('no')\n",
        "df_scolaships['provincia_nacimiento_homologada'] = df_scolaships['provincia_nacimiento_homologada'].fillna('pichincha') # Se reemplaza con la moda"
      ]
    },
    {
      "cell_type": "markdown",
      "metadata": {
        "id": "YRyfDf4EvuQI"
      },
      "source": [
        "## Change variables types"
      ]
    },
    {
      "cell_type": "code",
      "execution_count": 36,
      "metadata": {
        "id": "fU4y1V9Y-GXc"
      },
      "outputs": [],
      "source": [
        "df_scolaships['age'] = df_scolaships.fecha_de_nacimiento.apply(lambda x: calculate_age(x))\n",
        "df_scolaships['fecha_inicio_estudios_rec'] =  pd.to_datetime(df_scolaships['fecha_inicio_financiamiento'], format='%d/%m/%Y') \n",
        "df_scolaships['anio_inicio_estudios'] =  pd.DatetimeIndex(df_scolaships['fecha_inicio_estudios_rec']).year\n",
        "df_scolaships['age'] = df_scolaships.age.astype('float32')"
      ]
    },
    {
      "cell_type": "code",
      "execution_count": 37,
      "metadata": {
        "id": "FNBsywvFAdfs"
      },
      "outputs": [],
      "source": [
        "# df_scolaships.age = df_scolaships.fecha_de_nacimiento.apply(lambda x: calculate_age(x))\n",
        "# df_scolaships['age'] = pd.to_datetime(df_scolaships['fecha_de_nacimiento'], format='%d/%m/%Y')\n",
        "df_scolaships.monto_contratado =df_scolaships.monto_contratado.apply(lambda x: change_replace(x,'.',''))\n",
        "df_scolaships.monto_contratado = df_scolaships.monto_contratado.astype('float32')"
      ]
    },
    {
      "cell_type": "code",
      "execution_count": 38,
      "metadata": {
        "colab": {
          "base_uri": "https://localhost:8080/",
          "height": 542
        },
        "id": "xeGHx6i9ODKZ",
        "outputId": "debcb4d2-a2fa-49b4-f1d9-de8c463ea0e6"
      },
      "outputs": [
        {
          "output_type": "display_data",
          "data": {
            "text/html": [
              "<html>\n",
              "<head><meta charset=\"utf-8\" /></head>\n",
              "<body>\n",
              "    <div>            <script src=\"https://cdnjs.cloudflare.com/ajax/libs/mathjax/2.7.5/MathJax.js?config=TeX-AMS-MML_SVG\"></script><script type=\"text/javascript\">if (window.MathJax) {MathJax.Hub.Config({SVG: {font: \"STIX-Web\"}});}</script>                <script type=\"text/javascript\">window.PlotlyConfig = {MathJaxConfig: 'local'};</script>\n",
              "        <script src=\"https://cdn.plot.ly/plotly-2.8.3.min.js\"></script>                <div id=\"e52f1709-be65-4485-9054-c1217c925169\" class=\"plotly-graph-div\" style=\"height:525px; width:100%;\"></div>            <script type=\"text/javascript\">                                    window.PLOTLYENV=window.PLOTLYENV || {};                                    if (document.getElementById(\"e52f1709-be65-4485-9054-c1217c925169\")) {                    Plotly.newPlot(                        \"e52f1709-be65-4485-9054-c1217c925169\",                        [{\"hovertemplate\":\"fecha_inicio_estudios_rec=%{x}<br>id_unico=%{y}<extra></extra>\",\"legendgroup\":\"\",\"line\":{\"color\":\"#636efa\",\"dash\":\"solid\"},\"marker\":{\"symbol\":\"circle\"},\"mode\":\"lines\",\"name\":\"\",\"showlegend\":false,\"x\":[\"2001-05-15T00:00:00\",\"2002-09-01T00:00:00\",\"2004-08-01T00:00:00\",\"2004-09-01T00:00:00\",\"2004-10-01T00:00:00\",\"2005-08-21T00:00:00\",\"2005-09-01T00:00:00\",\"2005-10-01T00:00:00\",\"2005-10-05T00:00:00\",\"2005-10-09T00:00:00\",\"2005-11-01T00:00:00\",\"2006-03-01T00:00:00\",\"2006-04-01T00:00:00\",\"2006-04-11T00:00:00\",\"2006-05-01T00:00:00\",\"2006-06-10T00:00:00\",\"2006-07-01T00:00:00\",\"2006-09-25T00:00:00\",\"2006-10-01T00:00:00\",\"2006-10-22T00:00:00\",\"2007-01-01T00:00:00\",\"2007-01-05T00:00:00\",\"2007-03-01T00:00:00\",\"2007-04-01T00:00:00\",\"2007-05-25T00:00:00\",\"2007-07-01T00:00:00\",\"2007-08-01T00:00:00\",\"2007-08-04T00:00:00\",\"2007-09-01T00:00:00\",\"2007-09-11T00:00:00\",\"2007-10-01T00:00:00\",\"2007-10-05T00:00:00\",\"2007-10-25T00:00:00\",\"2007-10-28T00:00:00\",\"2007-11-10T00:00:00\",\"2007-12-01T00:00:00\",\"2008-01-01T00:00:00\",\"2008-01-15T00:00:00\",\"2008-01-16T00:00:00\",\"2008-02-01T00:00:00\",\"2008-02-12T00:00:00\",\"2008-02-29T00:00:00\",\"2008-03-01T00:00:00\",\"2008-03-24T00:00:00\",\"2008-03-31T00:00:00\",\"2008-04-01T00:00:00\",\"2008-04-11T00:00:00\",\"2008-05-01T00:00:00\",\"2008-07-01T00:00:00\",\"2008-08-01T00:00:00\",\"2008-08-02T00:00:00\",\"2008-09-01T00:00:00\",\"2008-09-08T00:00:00\",\"2008-10-01T00:00:00\",\"2008-10-16T00:00:00\",\"2008-10-22T00:00:00\",\"2008-10-31T00:00:00\",\"2008-11-01T00:00:00\",\"2008-11-07T00:00:00\",\"2008-11-08T00:00:00\",\"2008-11-10T00:00:00\",\"2008-11-22T00:00:00\",\"2008-11-27T00:00:00\",\"2008-12-01T00:00:00\",\"2009-01-01T00:00:00\",\"2009-01-02T00:00:00\",\"2009-01-05T00:00:00\",\"2009-01-07T00:00:00\",\"2009-01-08T00:00:00\",\"2009-01-12T00:00:00\",\"2009-01-24T00:00:00\",\"2009-01-25T00:00:00\",\"2009-01-29T00:00:00\",\"2009-02-01T00:00:00\",\"2009-02-02T00:00:00\",\"2009-02-03T00:00:00\",\"2009-02-05T00:00:00\",\"2009-02-06T00:00:00\",\"2009-02-25T00:00:00\",\"2009-03-01T00:00:00\",\"2009-03-17T00:00:00\",\"2009-04-01T00:00:00\",\"2009-06-01T00:00:00\",\"2009-06-02T00:00:00\",\"2009-06-15T00:00:00\",\"2009-06-17T00:00:00\",\"2009-06-20T00:00:00\",\"2009-06-29T00:00:00\",\"2009-07-01T00:00:00\",\"2009-08-01T00:00:00\",\"2009-08-09T00:00:00\",\"2009-08-15T00:00:00\",\"2009-08-31T00:00:00\",\"2009-09-01T00:00:00\",\"2009-09-07T00:00:00\",\"2009-09-14T00:00:00\",\"2009-09-15T00:00:00\",\"2009-09-16T00:00:00\",\"2009-09-18T00:00:00\",\"2009-09-26T00:00:00\",\"2009-09-28T00:00:00\",\"2009-10-01T00:00:00\",\"2009-10-05T00:00:00\",\"2009-10-06T00:00:00\",\"2009-10-12T00:00:00\",\"2009-10-23T00:00:00\",\"2009-11-01T00:00:00\",\"2009-11-03T00:00:00\",\"2009-11-09T00:00:00\",\"2009-11-17T00:00:00\",\"2009-11-26T00:00:00\",\"2009-12-01T00:00:00\",\"2009-12-12T00:00:00\",\"2010-01-01T00:00:00\",\"2010-01-02T00:00:00\",\"2010-01-05T00:00:00\",\"2010-01-06T00:00:00\",\"2010-01-16T00:00:00\",\"2010-01-18T00:00:00\",\"2010-01-20T00:00:00\",\"2010-01-30T00:00:00\",\"2010-02-01T00:00:00\",\"2010-02-02T00:00:00\",\"2010-02-08T00:00:00\",\"2010-02-09T00:00:00\",\"2010-02-28T00:00:00\",\"2010-03-01T00:00:00\",\"2010-03-02T00:00:00\",\"2010-03-15T00:00:00\",\"2010-03-22T00:00:00\",\"2010-03-30T00:00:00\",\"2010-04-01T00:00:00\",\"2010-04-07T00:00:00\",\"2010-04-10T00:00:00\",\"2010-05-01T00:00:00\",\"2010-05-12T00:00:00\",\"2010-05-20T00:00:00\",\"2010-05-27T00:00:00\",\"2010-05-31T00:00:00\",\"2010-06-01T00:00:00\",\"2010-06-08T00:00:00\",\"2010-07-01T00:00:00\",\"2010-07-03T00:00:00\",\"2010-07-09T00:00:00\",\"2010-08-01T00:00:00\",\"2010-08-25T00:00:00\",\"2010-08-31T00:00:00\",\"2010-09-01T00:00:00\",\"2010-09-07T00:00:00\",\"2010-09-09T00:00:00\",\"2010-09-10T00:00:00\",\"2010-09-13T00:00:00\",\"2010-09-16T00:00:00\",\"2010-09-20T00:00:00\",\"2010-09-27T00:00:00\",\"2010-09-30T00:00:00\",\"2010-10-01T00:00:00\",\"2010-10-04T00:00:00\",\"2010-10-05T00:00:00\",\"2010-10-06T00:00:00\",\"2010-10-07T00:00:00\",\"2010-10-10T00:00:00\",\"2010-10-13T00:00:00\",\"2010-10-15T00:00:00\",\"2010-10-18T00:00:00\",\"2010-10-19T00:00:00\",\"2010-10-25T00:00:00\",\"2010-10-26T00:00:00\",\"2010-10-31T00:00:00\",\"2010-11-01T00:00:00\",\"2010-11-20T00:00:00\",\"2010-12-01T00:00:00\",\"2011-01-01T00:00:00\",\"2011-01-05T00:00:00\",\"2011-01-09T00:00:00\",\"2011-01-10T00:00:00\",\"2011-01-11T00:00:00\",\"2011-01-12T00:00:00\",\"2011-01-17T00:00:00\",\"2011-01-18T00:00:00\",\"2011-01-31T00:00:00\",\"2011-02-01T00:00:00\",\"2011-02-07T00:00:00\",\"2011-02-14T00:00:00\",\"2011-03-01T00:00:00\",\"2011-03-03T00:00:00\",\"2011-03-10T00:00:00\",\"2011-03-28T00:00:00\",\"2011-04-01T00:00:00\",\"2011-04-11T00:00:00\",\"2011-04-26T00:00:00\",\"2011-05-02T00:00:00\",\"2011-07-01T00:00:00\",\"2011-08-01T00:00:00\",\"2011-08-05T00:00:00\",\"2011-08-08T00:00:00\",\"2011-08-09T00:00:00\",\"2011-08-15T00:00:00\",\"2011-08-19T00:00:00\",\"2011-08-21T00:00:00\",\"2011-08-22T00:00:00\",\"2011-08-25T00:00:00\",\"2011-08-28T00:00:00\",\"2011-08-29T00:00:00\",\"2011-09-01T00:00:00\",\"2011-09-02T00:00:00\",\"2011-09-03T00:00:00\",\"2011-09-05T00:00:00\",\"2011-09-06T00:00:00\",\"2011-09-07T00:00:00\",\"2011-09-08T00:00:00\",\"2011-09-09T00:00:00\",\"2011-09-10T00:00:00\",\"2011-09-12T00:00:00\",\"2011-09-14T00:00:00\",\"2011-09-15T00:00:00\",\"2011-09-16T00:00:00\",\"2011-09-19T00:00:00\",\"2011-09-20T00:00:00\",\"2011-09-22T00:00:00\",\"2011-09-23T00:00:00\",\"2011-09-26T00:00:00\",\"2011-09-27T00:00:00\",\"2011-09-28T00:00:00\",\"2011-09-29T00:00:00\",\"2011-09-30T00:00:00\",\"2011-10-01T00:00:00\",\"2011-10-02T00:00:00\",\"2011-10-03T00:00:00\",\"2011-10-04T00:00:00\",\"2011-10-05T00:00:00\",\"2011-10-07T00:00:00\",\"2011-10-10T00:00:00\",\"2011-10-11T00:00:00\",\"2011-10-13T00:00:00\",\"2011-10-17T00:00:00\",\"2011-10-18T00:00:00\",\"2011-10-24T00:00:00\",\"2011-10-27T00:00:00\",\"2011-10-31T00:00:00\",\"2011-11-01T00:00:00\",\"2011-11-02T00:00:00\",\"2011-11-09T00:00:00\",\"2011-11-14T00:00:00\",\"2011-11-15T00:00:00\",\"2011-11-18T00:00:00\",\"2011-11-20T00:00:00\",\"2011-12-01T00:00:00\",\"2011-12-05T00:00:00\",\"2011-12-10T00:00:00\",\"2011-12-25T00:00:00\",\"2012-01-01T00:00:00\",\"2012-01-02T00:00:00\",\"2012-01-03T00:00:00\",\"2012-01-05T00:00:00\",\"2012-01-09T00:00:00\",\"2012-01-10T00:00:00\",\"2012-01-11T00:00:00\",\"2012-01-13T00:00:00\",\"2012-01-16T00:00:00\",\"2012-01-17T00:00:00\",\"2012-01-23T00:00:00\",\"2012-01-27T00:00:00\",\"2012-01-28T00:00:00\",\"2012-01-29T00:00:00\",\"2012-01-30T00:00:00\",\"2012-01-31T00:00:00\",\"2012-02-01T00:00:00\",\"2012-02-04T00:00:00\",\"2012-02-06T00:00:00\",\"2012-02-10T00:00:00\",\"2012-02-13T00:00:00\",\"2012-02-20T00:00:00\",\"2012-02-24T00:00:00\",\"2012-02-27T00:00:00\",\"2012-02-28T00:00:00\",\"2012-03-01T00:00:00\",\"2012-03-02T00:00:00\",\"2012-03-03T00:00:00\",\"2012-03-05T00:00:00\",\"2012-03-08T00:00:00\",\"2012-03-09T00:00:00\",\"2012-03-10T00:00:00\",\"2012-03-12T00:00:00\",\"2012-03-15T00:00:00\",\"2012-03-16T00:00:00\",\"2012-03-19T00:00:00\",\"2012-03-20T00:00:00\",\"2012-03-22T00:00:00\",\"2012-03-26T00:00:00\",\"2012-03-29T00:00:00\",\"2012-04-01T00:00:00\",\"2012-04-02T00:00:00\",\"2012-04-03T00:00:00\",\"2012-04-06T00:00:00\",\"2012-04-09T00:00:00\",\"2012-04-12T00:00:00\",\"2012-04-15T00:00:00\",\"2012-04-16T00:00:00\",\"2012-04-23T00:00:00\",\"2012-04-30T00:00:00\",\"2012-05-01T00:00:00\",\"2012-05-02T00:00:00\",\"2012-05-07T00:00:00\",\"2012-05-14T00:00:00\",\"2012-05-19T00:00:00\",\"2012-05-20T00:00:00\",\"2012-05-21T00:00:00\",\"2012-05-31T00:00:00\",\"2012-06-01T00:00:00\",\"2012-06-04T00:00:00\",\"2012-06-05T00:00:00\",\"2012-06-08T00:00:00\",\"2012-06-18T00:00:00\",\"2012-06-19T00:00:00\",\"2012-06-28T00:00:00\",\"2012-06-30T00:00:00\",\"2012-07-01T00:00:00\",\"2012-07-02T00:00:00\",\"2012-07-06T00:00:00\",\"2012-07-10T00:00:00\",\"2012-07-14T00:00:00\",\"2012-07-15T00:00:00\",\"2012-07-16T00:00:00\",\"2012-07-17T00:00:00\",\"2012-07-19T00:00:00\",\"2012-07-22T00:00:00\",\"2012-07-23T00:00:00\",\"2012-07-25T00:00:00\",\"2012-07-27T00:00:00\",\"2012-07-28T00:00:00\",\"2012-07-30T00:00:00\",\"2012-08-01T00:00:00\",\"2012-08-02T00:00:00\",\"2012-08-04T00:00:00\",\"2012-08-05T00:00:00\",\"2012-08-06T00:00:00\",\"2012-08-07T00:00:00\",\"2012-08-10T00:00:00\",\"2012-08-13T00:00:00\",\"2012-08-14T00:00:00\",\"2012-08-15T00:00:00\",\"2012-08-16T00:00:00\",\"2012-08-17T00:00:00\",\"2012-08-19T00:00:00\",\"2012-08-20T00:00:00\",\"2012-08-21T00:00:00\",\"2012-08-22T00:00:00\",\"2012-08-23T00:00:00\",\"2012-08-24T00:00:00\",\"2012-08-27T00:00:00\",\"2012-08-28T00:00:00\",\"2012-08-29T00:00:00\",\"2012-08-30T00:00:00\",\"2012-08-31T00:00:00\",\"2012-09-01T00:00:00\",\"2012-09-02T00:00:00\",\"2012-09-03T00:00:00\",\"2012-09-04T00:00:00\",\"2012-09-05T00:00:00\",\"2012-09-06T00:00:00\",\"2012-09-07T00:00:00\",\"2012-09-08T00:00:00\",\"2012-09-09T00:00:00\",\"2012-09-10T00:00:00\",\"2012-09-11T00:00:00\",\"2012-09-12T00:00:00\",\"2012-09-13T00:00:00\",\"2012-09-14T00:00:00\",\"2012-09-15T00:00:00\",\"2012-09-16T00:00:00\",\"2012-09-17T00:00:00\",\"2012-09-18T00:00:00\",\"2012-09-19T00:00:00\",\"2012-09-20T00:00:00\",\"2012-09-21T00:00:00\",\"2012-09-22T00:00:00\",\"2012-09-24T00:00:00\",\"2012-09-25T00:00:00\",\"2012-09-26T00:00:00\",\"2012-09-27T00:00:00\",\"2012-09-28T00:00:00\",\"2012-09-29T00:00:00\",\"2012-09-30T00:00:00\",\"2012-10-01T00:00:00\",\"2012-10-02T00:00:00\",\"2012-10-03T00:00:00\",\"2012-10-04T00:00:00\",\"2012-10-05T00:00:00\",\"2012-10-06T00:00:00\",\"2012-10-07T00:00:00\",\"2012-10-08T00:00:00\",\"2012-10-09T00:00:00\",\"2012-10-10T00:00:00\",\"2012-10-11T00:00:00\",\"2012-10-12T00:00:00\",\"2012-10-13T00:00:00\",\"2012-10-15T00:00:00\",\"2012-10-17T00:00:00\",\"2012-10-18T00:00:00\",\"2012-10-19T00:00:00\",\"2012-10-20T00:00:00\",\"2012-10-22T00:00:00\",\"2012-10-24T00:00:00\",\"2012-10-25T00:00:00\",\"2012-10-27T00:00:00\",\"2012-10-28T00:00:00\",\"2012-10-29T00:00:00\",\"2012-10-30T00:00:00\",\"2012-11-01T00:00:00\",\"2012-11-02T00:00:00\",\"2012-11-05T00:00:00\",\"2012-11-07T00:00:00\",\"2012-11-09T00:00:00\",\"2012-11-12T00:00:00\",\"2012-11-13T00:00:00\",\"2012-11-14T00:00:00\",\"2012-11-15T00:00:00\",\"2012-11-16T00:00:00\",\"2012-11-17T00:00:00\",\"2012-11-19T00:00:00\",\"2012-11-24T00:00:00\",\"2012-11-26T00:00:00\",\"2012-11-27T00:00:00\",\"2012-11-28T00:00:00\",\"2012-11-29T00:00:00\",\"2012-11-30T00:00:00\",\"2012-12-01T00:00:00\",\"2012-12-03T00:00:00\",\"2012-12-04T00:00:00\",\"2012-12-05T00:00:00\",\"2012-12-07T00:00:00\",\"2012-12-08T00:00:00\",\"2012-12-09T00:00:00\",\"2012-12-10T00:00:00\",\"2012-12-12T00:00:00\",\"2012-12-13T00:00:00\",\"2012-12-14T00:00:00\",\"2012-12-15T00:00:00\",\"2012-12-17T00:00:00\",\"2012-12-18T00:00:00\",\"2012-12-19T00:00:00\",\"2012-12-21T00:00:00\",\"2012-12-22T00:00:00\",\"2012-12-24T00:00:00\",\"2012-12-26T00:00:00\",\"2012-12-27T00:00:00\",\"2012-12-28T00:00:00\",\"2012-12-29T00:00:00\",\"2013-01-01T00:00:00\",\"2013-01-02T00:00:00\",\"2013-01-03T00:00:00\",\"2013-01-04T00:00:00\",\"2013-01-05T00:00:00\",\"2013-01-07T00:00:00\",\"2013-01-08T00:00:00\",\"2013-01-09T00:00:00\",\"2013-01-10T00:00:00\",\"2013-01-11T00:00:00\",\"2013-01-12T00:00:00\",\"2013-01-13T00:00:00\",\"2013-01-14T00:00:00\",\"2013-01-15T00:00:00\",\"2013-01-17T00:00:00\",\"2013-01-18T00:00:00\",\"2013-01-19T00:00:00\",\"2013-01-20T00:00:00\",\"2013-01-21T00:00:00\",\"2013-01-22T00:00:00\",\"2013-01-23T00:00:00\",\"2013-01-25T00:00:00\",\"2013-01-27T00:00:00\",\"2013-01-28T00:00:00\",\"2013-01-29T00:00:00\",\"2013-01-30T00:00:00\",\"2013-01-31T00:00:00\",\"2013-02-01T00:00:00\",\"2013-02-02T00:00:00\",\"2013-02-04T00:00:00\",\"2013-02-05T00:00:00\",\"2013-02-06T00:00:00\",\"2013-02-08T00:00:00\",\"2013-02-11T00:00:00\",\"2013-02-13T00:00:00\",\"2013-02-14T00:00:00\",\"2013-02-15T00:00:00\",\"2013-02-18T00:00:00\",\"2013-02-19T00:00:00\",\"2013-02-20T00:00:00\",\"2013-02-21T00:00:00\",\"2013-02-22T00:00:00\",\"2013-02-25T00:00:00\",\"2013-02-26T00:00:00\",\"2013-02-27T00:00:00\",\"2013-02-28T00:00:00\",\"2013-03-01T00:00:00\",\"2013-03-02T00:00:00\",\"2013-03-03T00:00:00\",\"2013-03-04T00:00:00\",\"2013-03-05T00:00:00\",\"2013-03-06T00:00:00\",\"2013-03-07T00:00:00\",\"2013-03-08T00:00:00\",\"2013-03-09T00:00:00\",\"2013-03-10T00:00:00\",\"2013-03-11T00:00:00\",\"2013-03-12T00:00:00\",\"2013-03-13T00:00:00\",\"2013-03-14T00:00:00\",\"2013-03-15T00:00:00\",\"2013-03-16T00:00:00\",\"2013-03-17T00:00:00\",\"2013-03-18T00:00:00\",\"2013-03-19T00:00:00\",\"2013-03-20T00:00:00\",\"2013-03-22T00:00:00\",\"2013-03-23T00:00:00\",\"2013-03-25T00:00:00\",\"2013-03-26T00:00:00\",\"2013-03-27T00:00:00\",\"2013-03-28T00:00:00\",\"2013-03-29T00:00:00\",\"2013-03-30T00:00:00\",\"2013-03-31T00:00:00\",\"2013-04-01T00:00:00\",\"2013-04-02T00:00:00\",\"2013-04-03T00:00:00\",\"2013-04-04T00:00:00\",\"2013-04-05T00:00:00\",\"2013-04-06T00:00:00\",\"2013-04-07T00:00:00\",\"2013-04-08T00:00:00\",\"2013-04-09T00:00:00\",\"2013-04-10T00:00:00\",\"2013-04-11T00:00:00\",\"2013-04-13T00:00:00\",\"2013-04-15T00:00:00\",\"2013-04-16T00:00:00\",\"2013-04-19T00:00:00\",\"2013-04-20T00:00:00\",\"2013-04-21T00:00:00\",\"2013-04-22T00:00:00\",\"2013-04-23T00:00:00\",\"2013-04-24T00:00:00\",\"2013-04-25T00:00:00\",\"2013-04-26T00:00:00\",\"2013-04-29T00:00:00\",\"2013-04-30T00:00:00\",\"2013-05-01T00:00:00\",\"2013-05-02T00:00:00\",\"2013-05-03T00:00:00\",\"2013-05-04T00:00:00\",\"2013-05-05T00:00:00\",\"2013-05-06T00:00:00\",\"2013-05-07T00:00:00\",\"2013-05-08T00:00:00\",\"2013-05-09T00:00:00\",\"2013-05-10T00:00:00\",\"2013-05-11T00:00:00\",\"2013-05-12T00:00:00\",\"2013-05-13T00:00:00\",\"2013-05-14T00:00:00\",\"2013-05-15T00:00:00\",\"2013-05-16T00:00:00\",\"2013-05-17T00:00:00\",\"2013-05-20T00:00:00\",\"2013-05-21T00:00:00\",\"2013-05-22T00:00:00\",\"2013-05-23T00:00:00\",\"2013-05-26T00:00:00\",\"2013-05-27T00:00:00\",\"2013-05-28T00:00:00\",\"2013-05-29T00:00:00\",\"2013-05-30T00:00:00\",\"2013-05-31T00:00:00\",\"2013-06-01T00:00:00\",\"2013-06-02T00:00:00\",\"2013-06-03T00:00:00\",\"2013-06-04T00:00:00\",\"2013-06-05T00:00:00\",\"2013-06-06T00:00:00\",\"2013-06-07T00:00:00\",\"2013-06-08T00:00:00\",\"2013-06-10T00:00:00\",\"2013-06-11T00:00:00\",\"2013-06-12T00:00:00\",\"2013-06-13T00:00:00\",\"2013-06-14T00:00:00\",\"2013-06-15T00:00:00\",\"2013-06-16T00:00:00\",\"2013-06-18T00:00:00\",\"2013-06-19T00:00:00\",\"2013-06-20T00:00:00\",\"2013-06-21T00:00:00\",\"2013-06-22T00:00:00\",\"2013-06-24T00:00:00\",\"2013-06-25T00:00:00\",\"2013-06-26T00:00:00\",\"2013-06-27T00:00:00\",\"2013-06-28T00:00:00\",\"2013-07-01T00:00:00\",\"2013-07-02T00:00:00\",\"2013-07-03T00:00:00\",\"2013-07-04T00:00:00\",\"2013-07-05T00:00:00\",\"2013-07-07T00:00:00\",\"2013-07-08T00:00:00\",\"2013-07-09T00:00:00\",\"2013-07-10T00:00:00\",\"2013-07-11T00:00:00\",\"2013-07-12T00:00:00\",\"2013-07-14T00:00:00\",\"2013-07-15T00:00:00\",\"2013-07-16T00:00:00\",\"2013-07-17T00:00:00\",\"2013-07-18T00:00:00\",\"2013-07-19T00:00:00\",\"2013-07-20T00:00:00\",\"2013-07-21T00:00:00\",\"2013-07-22T00:00:00\",\"2013-07-23T00:00:00\",\"2013-07-24T00:00:00\",\"2013-07-25T00:00:00\",\"2013-07-26T00:00:00\",\"2013-07-28T00:00:00\",\"2013-07-29T00:00:00\",\"2013-07-30T00:00:00\",\"2013-07-31T00:00:00\",\"2013-08-01T00:00:00\",\"2013-08-02T00:00:00\",\"2013-08-03T00:00:00\",\"2013-08-04T00:00:00\",\"2013-08-05T00:00:00\",\"2013-08-06T00:00:00\",\"2013-08-07T00:00:00\",\"2013-08-08T00:00:00\",\"2013-08-09T00:00:00\",\"2013-08-10T00:00:00\",\"2013-08-11T00:00:00\",\"2013-08-12T00:00:00\",\"2013-08-13T00:00:00\",\"2013-08-14T00:00:00\",\"2013-08-15T00:00:00\",\"2013-08-16T00:00:00\",\"2013-08-17T00:00:00\",\"2013-08-18T00:00:00\",\"2013-08-19T00:00:00\",\"2013-08-20T00:00:00\",\"2013-08-21T00:00:00\",\"2013-08-22T00:00:00\",\"2013-08-23T00:00:00\",\"2013-08-24T00:00:00\",\"2013-08-25T00:00:00\",\"2013-08-26T00:00:00\",\"2013-08-27T00:00:00\",\"2013-08-28T00:00:00\",\"2013-08-29T00:00:00\",\"2013-08-30T00:00:00\",\"2013-08-31T00:00:00\",\"2013-09-01T00:00:00\",\"2013-09-02T00:00:00\",\"2013-09-03T00:00:00\",\"2013-09-04T00:00:00\",\"2013-09-05T00:00:00\",\"2013-09-06T00:00:00\",\"2013-09-07T00:00:00\",\"2013-09-08T00:00:00\",\"2013-09-09T00:00:00\",\"2013-09-10T00:00:00\",\"2013-09-11T00:00:00\",\"2013-09-12T00:00:00\",\"2013-09-13T00:00:00\",\"2013-09-14T00:00:00\",\"2013-09-15T00:00:00\",\"2013-09-16T00:00:00\",\"2013-09-17T00:00:00\",\"2013-09-18T00:00:00\",\"2013-09-19T00:00:00\",\"2013-09-20T00:00:00\",\"2013-09-21T00:00:00\",\"2013-09-22T00:00:00\",\"2013-09-23T00:00:00\",\"2013-09-24T00:00:00\",\"2013-09-25T00:00:00\",\"2013-09-26T00:00:00\",\"2013-09-27T00:00:00\",\"2013-09-28T00:00:00\",\"2013-09-29T00:00:00\",\"2013-09-30T00:00:00\",\"2013-10-01T00:00:00\",\"2013-10-02T00:00:00\",\"2013-10-03T00:00:00\",\"2013-10-04T00:00:00\",\"2013-10-05T00:00:00\",\"2013-10-06T00:00:00\",\"2013-10-07T00:00:00\",\"2013-10-08T00:00:00\",\"2013-10-09T00:00:00\",\"2013-10-10T00:00:00\",\"2013-10-13T00:00:00\",\"2013-10-14T00:00:00\",\"2013-10-15T00:00:00\",\"2013-10-16T00:00:00\",\"2013-10-17T00:00:00\",\"2013-10-18T00:00:00\",\"2013-10-19T00:00:00\",\"2013-10-20T00:00:00\",\"2013-10-21T00:00:00\",\"2013-10-22T00:00:00\",\"2013-10-23T00:00:00\",\"2013-10-24T00:00:00\",\"2013-10-25T00:00:00\",\"2013-10-27T00:00:00\",\"2013-10-28T00:00:00\",\"2013-10-29T00:00:00\",\"2013-10-30T00:00:00\",\"2013-10-31T00:00:00\",\"2013-11-01T00:00:00\",\"2013-11-02T00:00:00\",\"2013-11-04T00:00:00\",\"2013-11-05T00:00:00\",\"2013-11-06T00:00:00\",\"2013-11-07T00:00:00\",\"2013-11-08T00:00:00\",\"2013-11-11T00:00:00\",\"2013-11-12T00:00:00\",\"2013-11-13T00:00:00\",\"2013-11-14T00:00:00\",\"2013-11-15T00:00:00\",\"2013-11-16T00:00:00\",\"2013-11-17T00:00:00\",\"2013-11-18T00:00:00\",\"2013-11-19T00:00:00\",\"2013-11-20T00:00:00\",\"2013-11-21T00:00:00\",\"2013-11-22T00:00:00\",\"2013-11-25T00:00:00\",\"2013-11-26T00:00:00\",\"2013-11-27T00:00:00\",\"2013-11-28T00:00:00\",\"2013-11-29T00:00:00\",\"2013-11-30T00:00:00\",\"2013-12-01T00:00:00\",\"2013-12-02T00:00:00\",\"2013-12-03T00:00:00\",\"2013-12-04T00:00:00\",\"2013-12-05T00:00:00\",\"2013-12-06T00:00:00\",\"2013-12-07T00:00:00\",\"2013-12-09T00:00:00\",\"2013-12-10T00:00:00\",\"2013-12-11T00:00:00\",\"2013-12-12T00:00:00\",\"2013-12-13T00:00:00\",\"2013-12-14T00:00:00\",\"2013-12-15T00:00:00\",\"2013-12-16T00:00:00\",\"2013-12-17T00:00:00\",\"2013-12-18T00:00:00\",\"2013-12-19T00:00:00\",\"2013-12-20T00:00:00\",\"2013-12-22T00:00:00\",\"2013-12-23T00:00:00\",\"2013-12-24T00:00:00\",\"2013-12-26T00:00:00\",\"2013-12-27T00:00:00\",\"2013-12-28T00:00:00\",\"2013-12-29T00:00:00\",\"2013-12-30T00:00:00\",\"2014-01-01T00:00:00\",\"2014-01-02T00:00:00\",\"2014-01-03T00:00:00\",\"2014-01-04T00:00:00\",\"2014-01-05T00:00:00\",\"2014-01-06T00:00:00\",\"2014-01-07T00:00:00\",\"2014-01-08T00:00:00\",\"2014-01-09T00:00:00\",\"2014-01-10T00:00:00\",\"2014-01-11T00:00:00\",\"2014-01-12T00:00:00\",\"2014-01-13T00:00:00\",\"2014-01-14T00:00:00\",\"2014-01-15T00:00:00\",\"2014-01-16T00:00:00\",\"2014-01-17T00:00:00\",\"2014-01-18T00:00:00\",\"2014-01-19T00:00:00\",\"2014-01-20T00:00:00\",\"2014-01-21T00:00:00\",\"2014-01-22T00:00:00\",\"2014-01-23T00:00:00\",\"2014-01-24T00:00:00\",\"2014-01-25T00:00:00\",\"2014-01-26T00:00:00\",\"2014-01-27T00:00:00\",\"2014-01-28T00:00:00\",\"2014-01-29T00:00:00\",\"2014-01-30T00:00:00\",\"2014-01-31T00:00:00\",\"2014-02-01T00:00:00\",\"2014-02-02T00:00:00\",\"2014-02-03T00:00:00\",\"2014-02-04T00:00:00\",\"2014-02-05T00:00:00\",\"2014-02-06T00:00:00\",\"2014-02-07T00:00:00\",\"2014-02-08T00:00:00\",\"2014-02-09T00:00:00\",\"2014-02-10T00:00:00\",\"2014-02-11T00:00:00\",\"2014-02-12T00:00:00\",\"2014-02-13T00:00:00\",\"2014-02-14T00:00:00\",\"2014-02-15T00:00:00\",\"2014-02-16T00:00:00\",\"2014-02-17T00:00:00\",\"2014-02-18T00:00:00\",\"2014-02-19T00:00:00\",\"2014-02-20T00:00:00\",\"2014-02-21T00:00:00\",\"2014-02-22T00:00:00\",\"2014-02-23T00:00:00\",\"2014-02-24T00:00:00\",\"2014-02-25T00:00:00\",\"2014-02-26T00:00:00\",\"2014-02-27T00:00:00\",\"2014-02-28T00:00:00\",\"2014-03-01T00:00:00\",\"2014-03-03T00:00:00\",\"2014-03-04T00:00:00\",\"2014-03-05T00:00:00\",\"2014-03-06T00:00:00\",\"2014-03-07T00:00:00\",\"2014-03-08T00:00:00\",\"2014-03-10T00:00:00\",\"2014-03-12T00:00:00\",\"2014-03-13T00:00:00\",\"2014-03-14T00:00:00\",\"2014-03-15T00:00:00\",\"2014-03-16T00:00:00\",\"2014-03-17T00:00:00\",\"2014-03-18T00:00:00\",\"2014-03-19T00:00:00\",\"2014-03-21T00:00:00\",\"2014-03-22T00:00:00\",\"2014-03-24T00:00:00\",\"2014-03-25T00:00:00\",\"2014-03-28T00:00:00\",\"2014-03-29T00:00:00\",\"2014-03-30T00:00:00\",\"2014-03-31T00:00:00\",\"2014-04-01T00:00:00\",\"2014-04-02T00:00:00\",\"2014-04-03T00:00:00\",\"2014-04-04T00:00:00\",\"2014-04-07T00:00:00\",\"2014-04-08T00:00:00\",\"2014-04-09T00:00:00\",\"2014-04-10T00:00:00\",\"2014-04-11T00:00:00\",\"2014-04-13T00:00:00\",\"2014-04-14T00:00:00\",\"2014-04-15T00:00:00\",\"2014-04-16T00:00:00\",\"2014-04-17T00:00:00\",\"2014-04-18T00:00:00\",\"2014-04-20T00:00:00\",\"2014-04-21T00:00:00\",\"2014-04-23T00:00:00\",\"2014-04-24T00:00:00\",\"2014-04-25T00:00:00\",\"2014-04-28T00:00:00\",\"2014-04-29T00:00:00\",\"2014-04-30T00:00:00\",\"2014-05-01T00:00:00\",\"2014-05-03T00:00:00\",\"2014-05-04T00:00:00\",\"2014-05-05T00:00:00\",\"2014-05-06T00:00:00\",\"2014-05-07T00:00:00\",\"2014-05-08T00:00:00\",\"2014-05-09T00:00:00\",\"2014-05-11T00:00:00\",\"2014-05-12T00:00:00\",\"2014-05-13T00:00:00\",\"2014-05-14T00:00:00\",\"2014-05-15T00:00:00\",\"2014-05-16T00:00:00\",\"2014-05-17T00:00:00\",\"2014-05-19T00:00:00\",\"2014-05-20T00:00:00\",\"2014-05-23T00:00:00\",\"2014-05-26T00:00:00\",\"2014-05-27T00:00:00\",\"2014-05-28T00:00:00\",\"2014-05-30T00:00:00\",\"2014-05-31T00:00:00\",\"2014-06-01T00:00:00\",\"2014-06-02T00:00:00\",\"2014-06-03T00:00:00\",\"2014-06-04T00:00:00\",\"2014-06-05T00:00:00\",\"2014-06-06T00:00:00\",\"2014-06-09T00:00:00\",\"2014-06-10T00:00:00\",\"2014-06-13T00:00:00\",\"2014-06-15T00:00:00\",\"2014-06-16T00:00:00\",\"2014-06-17T00:00:00\",\"2014-06-21T00:00:00\",\"2014-06-22T00:00:00\",\"2014-06-23T00:00:00\",\"2014-06-24T00:00:00\",\"2014-06-25T00:00:00\",\"2014-06-27T00:00:00\",\"2014-06-28T00:00:00\",\"2014-06-30T00:00:00\",\"2014-07-01T00:00:00\",\"2014-07-02T00:00:00\",\"2014-07-04T00:00:00\",\"2014-07-05T00:00:00\",\"2014-07-06T00:00:00\",\"2014-07-07T00:00:00\",\"2014-07-08T00:00:00\",\"2014-07-09T00:00:00\",\"2014-07-10T00:00:00\",\"2014-07-12T00:00:00\",\"2014-07-13T00:00:00\",\"2014-07-14T00:00:00\",\"2014-07-15T00:00:00\",\"2014-07-16T00:00:00\",\"2014-07-17T00:00:00\",\"2014-07-18T00:00:00\",\"2014-07-19T00:00:00\",\"2014-07-20T00:00:00\",\"2014-07-21T00:00:00\",\"2014-07-22T00:00:00\",\"2014-07-23T00:00:00\",\"2014-07-24T00:00:00\",\"2014-07-25T00:00:00\",\"2014-07-26T00:00:00\",\"2014-07-27T00:00:00\",\"2014-07-28T00:00:00\",\"2014-07-29T00:00:00\",\"2014-07-30T00:00:00\",\"2014-07-31T00:00:00\",\"2014-08-01T00:00:00\",\"2014-08-02T00:00:00\",\"2014-08-03T00:00:00\",\"2014-08-04T00:00:00\",\"2014-08-05T00:00:00\",\"2014-08-06T00:00:00\",\"2014-08-07T00:00:00\",\"2014-08-08T00:00:00\",\"2014-08-09T00:00:00\",\"2014-08-10T00:00:00\",\"2014-08-11T00:00:00\",\"2014-08-12T00:00:00\",\"2014-08-13T00:00:00\",\"2014-08-14T00:00:00\",\"2014-08-15T00:00:00\",\"2014-08-16T00:00:00\",\"2014-08-17T00:00:00\",\"2014-08-18T00:00:00\",\"2014-08-19T00:00:00\",\"2014-08-20T00:00:00\",\"2014-08-21T00:00:00\",\"2014-08-22T00:00:00\",\"2014-08-23T00:00:00\",\"2014-08-24T00:00:00\",\"2014-08-25T00:00:00\",\"2014-08-26T00:00:00\",\"2014-08-27T00:00:00\",\"2014-08-28T00:00:00\",\"2014-08-29T00:00:00\",\"2014-08-30T00:00:00\",\"2014-08-31T00:00:00\",\"2014-09-01T00:00:00\",\"2014-09-02T00:00:00\",\"2014-09-03T00:00:00\",\"2014-09-04T00:00:00\",\"2014-09-05T00:00:00\",\"2014-09-06T00:00:00\",\"2014-09-07T00:00:00\",\"2014-09-08T00:00:00\",\"2014-09-09T00:00:00\",\"2014-09-10T00:00:00\",\"2014-09-11T00:00:00\",\"2014-09-12T00:00:00\",\"2014-09-13T00:00:00\",\"2014-09-14T00:00:00\",\"2014-09-15T00:00:00\",\"2014-09-16T00:00:00\",\"2014-09-17T00:00:00\",\"2014-09-18T00:00:00\",\"2014-09-19T00:00:00\",\"2014-09-20T00:00:00\",\"2014-09-21T00:00:00\",\"2014-09-22T00:00:00\",\"2014-09-23T00:00:00\",\"2014-09-24T00:00:00\",\"2014-09-25T00:00:00\",\"2014-09-26T00:00:00\",\"2014-09-27T00:00:00\",\"2014-09-28T00:00:00\",\"2014-09-29T00:00:00\",\"2014-09-30T00:00:00\",\"2014-10-01T00:00:00\",\"2014-10-02T00:00:00\",\"2014-10-03T00:00:00\",\"2014-10-04T00:00:00\",\"2014-10-05T00:00:00\",\"2014-10-06T00:00:00\",\"2014-10-07T00:00:00\",\"2014-10-08T00:00:00\",\"2014-10-10T00:00:00\",\"2014-10-11T00:00:00\",\"2014-10-12T00:00:00\",\"2014-10-13T00:00:00\",\"2014-10-14T00:00:00\",\"2014-10-15T00:00:00\",\"2014-10-16T00:00:00\",\"2014-10-17T00:00:00\",\"2014-10-18T00:00:00\",\"2014-10-20T00:00:00\",\"2014-10-22T00:00:00\",\"2014-10-24T00:00:00\",\"2014-10-25T00:00:00\",\"2014-10-26T00:00:00\",\"2014-10-27T00:00:00\",\"2014-10-28T00:00:00\",\"2014-10-29T00:00:00\",\"2014-10-30T00:00:00\",\"2014-10-31T00:00:00\",\"2014-11-01T00:00:00\",\"2014-11-03T00:00:00\",\"2014-11-05T00:00:00\",\"2014-11-06T00:00:00\",\"2014-11-08T00:00:00\",\"2014-11-10T00:00:00\",\"2014-11-11T00:00:00\",\"2014-11-13T00:00:00\",\"2014-11-15T00:00:00\",\"2014-11-17T00:00:00\",\"2014-11-18T00:00:00\",\"2014-11-20T00:00:00\",\"2014-11-25T00:00:00\",\"2014-11-27T00:00:00\",\"2014-12-01T00:00:00\",\"2014-12-06T00:00:00\",\"2014-12-08T00:00:00\",\"2014-12-09T00:00:00\",\"2014-12-10T00:00:00\",\"2014-12-11T00:00:00\",\"2014-12-15T00:00:00\",\"2014-12-16T00:00:00\",\"2014-12-20T00:00:00\",\"2014-12-21T00:00:00\",\"2014-12-23T00:00:00\",\"2014-12-24T00:00:00\",\"2014-12-26T00:00:00\",\"2014-12-27T00:00:00\",\"2014-12-28T00:00:00\",\"2014-12-29T00:00:00\",\"2014-12-30T00:00:00\",\"2015-01-01T00:00:00\",\"2015-01-02T00:00:00\",\"2015-01-03T00:00:00\",\"2015-01-04T00:00:00\",\"2015-01-05T00:00:00\",\"2015-01-06T00:00:00\",\"2015-01-07T00:00:00\",\"2015-01-08T00:00:00\",\"2015-01-09T00:00:00\",\"2015-01-10T00:00:00\",\"2015-01-11T00:00:00\",\"2015-01-12T00:00:00\",\"2015-01-13T00:00:00\",\"2015-01-14T00:00:00\",\"2015-01-15T00:00:00\",\"2015-01-16T00:00:00\",\"2015-01-18T00:00:00\",\"2015-01-19T00:00:00\",\"2015-01-20T00:00:00\",\"2015-01-21T00:00:00\",\"2015-01-22T00:00:00\",\"2015-01-23T00:00:00\",\"2015-01-26T00:00:00\",\"2015-01-28T00:00:00\",\"2015-02-01T00:00:00\",\"2015-02-02T00:00:00\",\"2015-02-03T00:00:00\",\"2015-02-04T00:00:00\",\"2015-02-05T00:00:00\",\"2015-02-06T00:00:00\",\"2015-02-07T00:00:00\",\"2015-02-09T00:00:00\",\"2015-02-10T00:00:00\",\"2015-02-12T00:00:00\",\"2015-02-13T00:00:00\",\"2015-02-14T00:00:00\",\"2015-02-15T00:00:00\",\"2015-02-16T00:00:00\",\"2015-02-17T00:00:00\",\"2015-02-18T00:00:00\",\"2015-02-19T00:00:00\",\"2015-02-20T00:00:00\",\"2015-02-21T00:00:00\",\"2015-02-23T00:00:00\",\"2015-02-24T00:00:00\",\"2015-02-25T00:00:00\",\"2015-02-26T00:00:00\",\"2015-02-27T00:00:00\",\"2015-03-01T00:00:00\",\"2015-03-02T00:00:00\",\"2015-03-03T00:00:00\",\"2015-03-04T00:00:00\",\"2015-03-05T00:00:00\",\"2015-03-06T00:00:00\",\"2015-03-07T00:00:00\",\"2015-03-08T00:00:00\",\"2015-03-09T00:00:00\",\"2015-03-10T00:00:00\",\"2015-03-12T00:00:00\",\"2015-03-13T00:00:00\",\"2015-03-15T00:00:00\",\"2015-03-16T00:00:00\",\"2015-03-17T00:00:00\",\"2015-03-19T00:00:00\",\"2015-03-20T00:00:00\",\"2015-03-21T00:00:00\",\"2015-03-23T00:00:00\",\"2015-03-24T00:00:00\",\"2015-03-25T00:00:00\",\"2015-03-27T00:00:00\",\"2015-03-29T00:00:00\",\"2015-03-30T00:00:00\",\"2015-04-01T00:00:00\",\"2015-04-03T00:00:00\",\"2015-04-06T00:00:00\",\"2015-04-07T00:00:00\",\"2015-04-08T00:00:00\",\"2015-04-09T00:00:00\",\"2015-04-10T00:00:00\",\"2015-04-13T00:00:00\",\"2015-04-14T00:00:00\",\"2015-04-15T00:00:00\",\"2015-04-16T00:00:00\",\"2015-04-18T00:00:00\",\"2015-04-20T00:00:00\",\"2015-04-21T00:00:00\",\"2015-04-22T00:00:00\",\"2015-04-27T00:00:00\",\"2015-04-29T00:00:00\",\"2015-04-30T00:00:00\",\"2015-05-01T00:00:00\",\"2015-05-04T00:00:00\",\"2015-05-05T00:00:00\",\"2015-05-07T00:00:00\",\"2015-05-09T00:00:00\",\"2015-05-11T00:00:00\",\"2015-05-12T00:00:00\",\"2015-05-15T00:00:00\",\"2015-05-18T00:00:00\",\"2015-05-19T00:00:00\",\"2015-05-20T00:00:00\",\"2015-05-21T00:00:00\",\"2015-05-24T00:00:00\",\"2015-05-25T00:00:00\",\"2015-05-26T00:00:00\",\"2015-05-27T00:00:00\",\"2015-05-29T00:00:00\",\"2015-06-01T00:00:00\",\"2015-06-02T00:00:00\",\"2015-06-04T00:00:00\",\"2015-06-05T00:00:00\",\"2015-06-07T00:00:00\",\"2015-06-10T00:00:00\",\"2015-06-14T00:00:00\",\"2015-06-15T00:00:00\",\"2015-06-17T00:00:00\",\"2015-06-18T00:00:00\",\"2015-06-19T00:00:00\",\"2015-06-20T00:00:00\",\"2015-06-22T00:00:00\",\"2015-06-23T00:00:00\",\"2015-06-24T00:00:00\",\"2015-06-26T00:00:00\",\"2015-06-29T00:00:00\",\"2015-06-30T00:00:00\",\"2015-07-01T00:00:00\",\"2015-07-02T00:00:00\",\"2015-07-04T00:00:00\",\"2015-07-05T00:00:00\",\"2015-07-10T00:00:00\",\"2015-07-12T00:00:00\",\"2015-07-15T00:00:00\",\"2015-07-16T00:00:00\",\"2015-07-20T00:00:00\",\"2015-07-23T00:00:00\",\"2015-07-24T00:00:00\",\"2015-07-25T00:00:00\",\"2015-07-27T00:00:00\",\"2015-07-28T00:00:00\",\"2015-07-29T00:00:00\",\"2015-07-30T00:00:00\",\"2015-08-01T00:00:00\",\"2015-08-02T00:00:00\",\"2015-08-03T00:00:00\",\"2015-08-04T00:00:00\",\"2015-08-06T00:00:00\",\"2015-08-07T00:00:00\",\"2015-08-09T00:00:00\",\"2015-08-10T00:00:00\",\"2015-08-11T00:00:00\",\"2015-08-12T00:00:00\",\"2015-08-13T00:00:00\",\"2015-08-14T00:00:00\",\"2015-08-15T00:00:00\",\"2015-08-16T00:00:00\",\"2015-08-17T00:00:00\",\"2015-08-18T00:00:00\",\"2015-08-19T00:00:00\",\"2015-08-20T00:00:00\",\"2015-08-21T00:00:00\",\"2015-08-22T00:00:00\",\"2015-08-23T00:00:00\",\"2015-08-24T00:00:00\",\"2015-08-25T00:00:00\",\"2015-08-26T00:00:00\",\"2015-08-27T00:00:00\",\"2015-08-28T00:00:00\",\"2015-08-29T00:00:00\",\"2015-08-30T00:00:00\",\"2015-08-31T00:00:00\",\"2015-09-01T00:00:00\",\"2015-09-02T00:00:00\",\"2015-09-03T00:00:00\",\"2015-09-04T00:00:00\",\"2015-09-05T00:00:00\",\"2015-09-06T00:00:00\",\"2015-09-07T00:00:00\",\"2015-09-08T00:00:00\",\"2015-09-09T00:00:00\",\"2015-09-10T00:00:00\",\"2015-09-11T00:00:00\",\"2015-09-12T00:00:00\",\"2015-09-13T00:00:00\",\"2015-09-14T00:00:00\",\"2015-09-15T00:00:00\",\"2015-09-16T00:00:00\",\"2015-09-17T00:00:00\",\"2015-09-18T00:00:00\",\"2015-09-19T00:00:00\",\"2015-09-20T00:00:00\",\"2015-09-21T00:00:00\",\"2015-09-22T00:00:00\",\"2015-09-23T00:00:00\",\"2015-09-24T00:00:00\",\"2015-09-25T00:00:00\",\"2015-09-26T00:00:00\",\"2015-09-27T00:00:00\",\"2015-09-28T00:00:00\",\"2015-09-29T00:00:00\",\"2015-09-30T00:00:00\",\"2015-10-01T00:00:00\",\"2015-10-02T00:00:00\",\"2015-10-03T00:00:00\",\"2015-10-05T00:00:00\",\"2015-10-06T00:00:00\",\"2015-10-07T00:00:00\",\"2015-10-08T00:00:00\",\"2015-10-09T00:00:00\",\"2015-10-10T00:00:00\",\"2015-10-11T00:00:00\",\"2015-10-12T00:00:00\",\"2015-10-13T00:00:00\",\"2015-10-15T00:00:00\",\"2015-10-16T00:00:00\",\"2015-10-17T00:00:00\",\"2015-10-19T00:00:00\",\"2015-10-20T00:00:00\",\"2015-10-21T00:00:00\",\"2015-10-22T00:00:00\",\"2015-10-23T00:00:00\",\"2015-10-25T00:00:00\",\"2015-10-26T00:00:00\",\"2015-10-27T00:00:00\",\"2015-10-28T00:00:00\",\"2015-10-30T00:00:00\",\"2015-11-01T00:00:00\",\"2015-11-02T00:00:00\",\"2015-11-04T00:00:00\",\"2015-11-05T00:00:00\",\"2015-11-09T00:00:00\",\"2015-11-10T00:00:00\",\"2015-11-11T00:00:00\",\"2015-11-12T00:00:00\",\"2015-11-14T00:00:00\",\"2015-11-15T00:00:00\",\"2015-11-29T00:00:00\",\"2015-12-01T00:00:00\",\"2015-12-02T00:00:00\",\"2015-12-10T00:00:00\",\"2015-12-14T00:00:00\",\"2015-12-15T00:00:00\",\"2015-12-16T00:00:00\",\"2015-12-24T00:00:00\",\"2015-12-25T00:00:00\",\"2015-12-28T00:00:00\",\"2015-12-30T00:00:00\",\"2015-12-31T00:00:00\",\"2016-01-01T00:00:00\",\"2016-01-04T00:00:00\",\"2016-01-05T00:00:00\",\"2016-01-09T00:00:00\",\"2016-01-10T00:00:00\",\"2016-01-11T00:00:00\",\"2016-01-15T00:00:00\",\"2016-01-17T00:00:00\",\"2016-01-18T00:00:00\",\"2016-01-19T00:00:00\",\"2016-01-22T00:00:00\",\"2016-01-25T00:00:00\",\"2016-02-01T00:00:00\",\"2016-02-02T00:00:00\",\"2016-02-04T00:00:00\",\"2016-02-07T00:00:00\",\"2016-02-08T00:00:00\",\"2016-02-12T00:00:00\",\"2016-02-15T00:00:00\",\"2016-02-16T00:00:00\",\"2016-02-18T00:00:00\",\"2016-02-22T00:00:00\",\"2016-02-26T00:00:00\",\"2016-02-28T00:00:00\",\"2016-02-29T00:00:00\",\"2016-03-01T00:00:00\",\"2016-03-02T00:00:00\",\"2016-03-07T00:00:00\",\"2016-03-09T00:00:00\",\"2016-03-10T00:00:00\",\"2016-03-14T00:00:00\",\"2016-03-16T00:00:00\",\"2016-03-17T00:00:00\",\"2016-03-18T00:00:00\",\"2016-03-21T00:00:00\",\"2016-03-31T00:00:00\",\"2016-04-01T00:00:00\",\"2016-04-04T00:00:00\",\"2016-04-06T00:00:00\",\"2016-04-08T00:00:00\",\"2016-04-11T00:00:00\",\"2016-04-13T00:00:00\",\"2016-04-18T00:00:00\",\"2016-04-21T00:00:00\",\"2016-04-26T00:00:00\",\"2016-04-27T00:00:00\",\"2016-04-29T00:00:00\",\"2016-05-01T00:00:00\",\"2016-05-02T00:00:00\",\"2016-05-12T00:00:00\",\"2016-05-21T00:00:00\",\"2016-05-23T00:00:00\",\"2016-06-01T00:00:00\",\"2016-06-02T00:00:00\",\"2016-06-03T00:00:00\",\"2016-06-06T00:00:00\",\"2016-06-24T00:00:00\",\"2016-06-27T00:00:00\",\"2016-06-28T00:00:00\",\"2016-07-13T00:00:00\",\"2016-07-15T00:00:00\",\"2016-07-18T00:00:00\",\"2016-07-22T00:00:00\",\"2016-07-25T00:00:00\",\"2016-07-29T00:00:00\",\"2016-08-01T00:00:00\",\"2016-08-02T00:00:00\",\"2016-08-05T00:00:00\",\"2016-08-06T00:00:00\",\"2016-08-08T00:00:00\",\"2016-08-09T00:00:00\",\"2016-08-10T00:00:00\",\"2016-08-12T00:00:00\",\"2016-08-13T00:00:00\",\"2016-08-14T00:00:00\",\"2016-08-15T00:00:00\",\"2016-08-16T00:00:00\",\"2016-08-17T00:00:00\",\"2016-08-18T00:00:00\",\"2016-08-19T00:00:00\",\"2016-08-20T00:00:00\",\"2016-08-21T00:00:00\",\"2016-08-22T00:00:00\",\"2016-08-24T00:00:00\",\"2016-08-25T00:00:00\",\"2016-08-26T00:00:00\",\"2016-08-27T00:00:00\",\"2016-08-28T00:00:00\",\"2016-08-29T00:00:00\",\"2016-08-30T00:00:00\",\"2016-08-31T00:00:00\",\"2016-09-01T00:00:00\",\"2016-09-02T00:00:00\",\"2016-09-03T00:00:00\",\"2016-09-04T00:00:00\",\"2016-09-05T00:00:00\",\"2016-09-06T00:00:00\",\"2016-09-07T00:00:00\",\"2016-09-08T00:00:00\",\"2016-09-09T00:00:00\",\"2016-09-10T00:00:00\",\"2016-09-11T00:00:00\",\"2016-09-12T00:00:00\",\"2016-09-13T00:00:00\",\"2016-09-14T00:00:00\",\"2016-09-15T00:00:00\",\"2016-09-16T00:00:00\",\"2016-09-17T00:00:00\",\"2016-09-18T00:00:00\",\"2016-09-19T00:00:00\",\"2016-09-20T00:00:00\",\"2016-09-21T00:00:00\",\"2016-09-22T00:00:00\",\"2016-09-23T00:00:00\",\"2016-09-24T00:00:00\",\"2016-09-25T00:00:00\",\"2016-09-26T00:00:00\",\"2016-09-28T00:00:00\",\"2016-09-29T00:00:00\",\"2016-09-30T00:00:00\",\"2016-10-01T00:00:00\",\"2016-10-02T00:00:00\",\"2016-10-03T00:00:00\",\"2016-10-04T00:00:00\",\"2016-10-05T00:00:00\",\"2016-10-07T00:00:00\",\"2016-10-10T00:00:00\",\"2016-10-11T00:00:00\",\"2016-10-14T00:00:00\",\"2016-10-17T00:00:00\",\"2016-10-18T00:00:00\",\"2016-10-24T00:00:00\",\"2016-10-26T00:00:00\",\"2016-10-28T00:00:00\",\"2016-11-01T00:00:00\",\"2016-11-07T00:00:00\",\"2016-11-14T00:00:00\",\"2016-11-15T00:00:00\",\"2016-11-16T00:00:00\",\"2016-11-21T00:00:00\",\"2016-11-28T00:00:00\",\"2016-11-29T00:00:00\",\"2016-11-30T00:00:00\",\"2016-12-01T00:00:00\",\"2016-12-13T00:00:00\",\"2016-12-16T00:00:00\",\"2016-12-21T00:00:00\",\"2016-12-28T00:00:00\",\"2016-12-30T00:00:00\",\"2017-01-01T00:00:00\",\"2017-01-02T00:00:00\",\"2017-01-03T00:00:00\",\"2017-01-04T00:00:00\",\"2017-01-05T00:00:00\",\"2017-01-07T00:00:00\",\"2017-01-09T00:00:00\",\"2017-01-10T00:00:00\",\"2017-01-15T00:00:00\",\"2017-01-16T00:00:00\",\"2017-01-24T00:00:00\",\"2017-01-26T00:00:00\",\"2017-02-01T00:00:00\",\"2017-02-07T00:00:00\",\"2017-02-08T00:00:00\",\"2017-03-01T00:00:00\",\"2017-03-02T00:00:00\",\"2017-03-06T00:00:00\",\"2017-03-07T00:00:00\",\"2017-03-10T00:00:00\",\"2017-03-13T00:00:00\",\"2017-03-14T00:00:00\",\"2017-03-15T00:00:00\",\"2017-03-20T00:00:00\",\"2017-03-27T00:00:00\",\"2017-03-28T00:00:00\",\"2017-04-01T00:00:00\",\"2017-04-03T00:00:00\",\"2017-04-04T00:00:00\",\"2017-04-05T00:00:00\",\"2017-04-13T00:00:00\",\"2017-04-17T00:00:00\",\"2017-04-18T00:00:00\",\"2017-04-21T00:00:00\",\"2017-04-24T00:00:00\",\"2017-04-27T00:00:00\",\"2017-04-28T00:00:00\",\"2017-05-01T00:00:00\",\"2017-05-02T00:00:00\",\"2017-05-05T00:00:00\",\"2017-05-15T00:00:00\",\"2017-05-17T00:00:00\",\"2017-05-26T00:00:00\",\"2017-05-29T00:00:00\",\"2017-06-01T00:00:00\",\"2017-06-12T00:00:00\",\"2017-06-16T00:00:00\",\"2017-06-20T00:00:00\",\"2017-06-30T00:00:00\",\"2017-07-01T00:00:00\",\"2017-07-04T00:00:00\",\"2017-07-07T00:00:00\",\"2017-07-16T00:00:00\",\"2017-07-21T00:00:00\",\"2017-07-31T00:00:00\",\"2017-08-01T00:00:00\",\"2017-08-02T00:00:00\",\"2017-08-04T00:00:00\",\"2017-08-05T00:00:00\",\"2017-08-07T00:00:00\",\"2017-08-08T00:00:00\",\"2017-08-11T00:00:00\",\"2017-08-12T00:00:00\",\"2017-08-14T00:00:00\",\"2017-08-15T00:00:00\",\"2017-08-16T00:00:00\",\"2017-08-18T00:00:00\",\"2017-08-19T00:00:00\",\"2017-08-20T00:00:00\",\"2017-08-21T00:00:00\",\"2017-08-23T00:00:00\",\"2017-08-25T00:00:00\",\"2017-08-26T00:00:00\",\"2017-08-27T00:00:00\",\"2017-08-28T00:00:00\",\"2017-08-29T00:00:00\",\"2017-08-30T00:00:00\",\"2017-09-01T00:00:00\",\"2017-09-03T00:00:00\",\"2017-09-04T00:00:00\",\"2017-09-05T00:00:00\",\"2017-09-06T00:00:00\",\"2017-09-07T00:00:00\",\"2017-09-08T00:00:00\",\"2017-09-09T00:00:00\",\"2017-09-10T00:00:00\",\"2017-09-11T00:00:00\",\"2017-09-12T00:00:00\",\"2017-09-13T00:00:00\",\"2017-09-14T00:00:00\",\"2017-09-15T00:00:00\",\"2017-09-16T00:00:00\",\"2017-09-18T00:00:00\",\"2017-09-19T00:00:00\",\"2017-09-20T00:00:00\",\"2017-09-21T00:00:00\",\"2017-09-25T00:00:00\",\"2017-09-26T00:00:00\",\"2017-10-01T00:00:00\",\"2017-10-02T00:00:00\",\"2017-10-03T00:00:00\",\"2017-10-04T00:00:00\",\"2017-10-05T00:00:00\",\"2017-10-06T00:00:00\",\"2017-10-08T00:00:00\",\"2017-10-09T00:00:00\",\"2017-10-10T00:00:00\",\"2017-10-13T00:00:00\",\"2017-10-16T00:00:00\",\"2017-10-22T00:00:00\",\"2017-10-23T00:00:00\",\"2017-10-24T00:00:00\",\"2017-10-27T00:00:00\",\"2017-10-30T00:00:00\",\"2017-10-31T00:00:00\",\"2017-11-01T00:00:00\",\"2017-11-06T00:00:00\",\"2017-11-07T00:00:00\",\"2017-11-08T00:00:00\",\"2017-11-15T00:00:00\",\"2017-11-16T00:00:00\",\"2017-11-17T00:00:00\",\"2017-11-20T00:00:00\",\"2017-11-21T00:00:00\",\"2017-11-22T00:00:00\",\"2017-11-24T00:00:00\",\"2017-11-27T00:00:00\",\"2017-12-01T00:00:00\",\"2017-12-04T00:00:00\",\"2017-12-05T00:00:00\",\"2017-12-11T00:00:00\",\"2017-12-19T00:00:00\",\"2017-12-20T00:00:00\",\"2017-12-28T00:00:00\",\"2017-12-29T00:00:00\",\"2017-12-30T00:00:00\",\"2018-01-01T00:00:00\",\"2018-01-02T00:00:00\",\"2018-01-03T00:00:00\",\"2018-01-04T00:00:00\",\"2018-01-05T00:00:00\",\"2018-01-08T00:00:00\",\"2018-01-09T00:00:00\",\"2018-01-15T00:00:00\",\"2018-01-16T00:00:00\",\"2018-01-17T00:00:00\",\"2018-01-18T00:00:00\",\"2018-01-21T00:00:00\",\"2018-01-22T00:00:00\",\"2018-01-24T00:00:00\",\"2018-01-26T00:00:00\",\"2018-01-27T00:00:00\",\"2018-01-30T00:00:00\",\"2018-01-31T00:00:00\",\"2018-02-01T00:00:00\",\"2018-02-05T00:00:00\",\"2018-02-11T00:00:00\",\"2018-02-14T00:00:00\",\"2018-02-16T00:00:00\",\"2018-02-19T00:00:00\",\"2018-02-20T00:00:00\",\"2018-02-26T00:00:00\",\"2018-03-01T00:00:00\",\"2018-03-02T00:00:00\",\"2018-03-05T00:00:00\",\"2018-03-10T00:00:00\",\"2018-03-12T00:00:00\",\"2018-03-14T00:00:00\",\"2018-03-15T00:00:00\",\"2018-03-16T00:00:00\",\"2018-03-19T00:00:00\",\"2018-03-26T00:00:00\",\"2018-03-28T00:00:00\",\"2018-04-01T00:00:00\",\"2018-04-02T00:00:00\",\"2018-04-03T00:00:00\",\"2018-04-05T00:00:00\",\"2018-04-09T00:00:00\",\"2018-04-11T00:00:00\",\"2018-04-16T00:00:00\",\"2018-04-21T00:00:00\",\"2018-04-23T00:00:00\",\"2018-04-27T00:00:00\",\"2018-05-01T00:00:00\",\"2018-05-07T00:00:00\",\"2018-05-08T00:00:00\",\"2018-05-11T00:00:00\",\"2018-05-14T00:00:00\",\"2018-05-15T00:00:00\",\"2018-05-19T00:00:00\",\"2018-05-21T00:00:00\",\"2018-05-28T00:00:00\",\"2018-05-31T00:00:00\",\"2018-06-01T00:00:00\",\"2018-06-04T00:00:00\",\"2018-06-11T00:00:00\",\"2018-06-16T00:00:00\",\"2018-07-01T00:00:00\",\"2018-07-02T00:00:00\",\"2018-07-09T00:00:00\",\"2018-07-11T00:00:00\",\"2018-07-13T00:00:00\",\"2018-07-15T00:00:00\",\"2018-07-17T00:00:00\",\"2018-07-20T00:00:00\",\"2018-07-22T00:00:00\",\"2018-07-23T00:00:00\",\"2018-07-28T00:00:00\",\"2018-07-30T00:00:00\",\"2018-07-31T00:00:00\",\"2018-08-01T00:00:00\",\"2018-08-03T00:00:00\",\"2018-08-05T00:00:00\",\"2018-08-06T00:00:00\",\"2018-08-08T00:00:00\",\"2018-08-09T00:00:00\",\"2018-08-14T00:00:00\",\"2018-08-15T00:00:00\",\"2018-08-16T00:00:00\",\"2018-08-18T00:00:00\",\"2018-08-20T00:00:00\",\"2018-08-21T00:00:00\",\"2018-08-25T00:00:00\",\"2018-08-27T00:00:00\",\"2018-08-28T00:00:00\",\"2018-08-30T00:00:00\",\"2018-09-01T00:00:00\",\"2018-09-02T00:00:00\",\"2018-09-03T00:00:00\",\"2018-09-04T00:00:00\",\"2018-09-05T00:00:00\",\"2018-09-06T00:00:00\",\"2018-09-07T00:00:00\",\"2018-09-08T00:00:00\",\"2018-09-09T00:00:00\",\"2018-09-10T00:00:00\",\"2018-09-11T00:00:00\",\"2018-09-12T00:00:00\",\"2018-09-13T00:00:00\",\"2018-09-14T00:00:00\",\"2018-09-15T00:00:00\",\"2018-09-16T00:00:00\",\"2018-09-17T00:00:00\",\"2018-09-19T00:00:00\",\"2018-09-24T00:00:00\",\"2018-09-25T00:00:00\",\"2018-09-26T00:00:00\",\"2018-09-27T00:00:00\",\"2018-09-28T00:00:00\",\"2018-09-29T00:00:00\",\"2018-09-30T00:00:00\",\"2018-10-01T00:00:00\",\"2018-10-03T00:00:00\",\"2018-10-05T00:00:00\",\"2018-10-08T00:00:00\",\"2018-10-09T00:00:00\",\"2018-10-10T00:00:00\",\"2018-10-11T00:00:00\",\"2018-10-12T00:00:00\",\"2018-10-13T00:00:00\",\"2018-10-15T00:00:00\",\"2018-10-16T00:00:00\",\"2018-10-19T00:00:00\",\"2018-10-21T00:00:00\",\"2018-10-22T00:00:00\",\"2018-10-23T00:00:00\",\"2018-10-24T00:00:00\",\"2018-10-25T00:00:00\",\"2018-10-26T00:00:00\",\"2018-10-29T00:00:00\",\"2018-10-31T00:00:00\",\"2018-11-01T00:00:00\",\"2018-11-05T00:00:00\",\"2018-11-09T00:00:00\",\"2018-11-12T00:00:00\",\"2018-11-16T00:00:00\",\"2018-11-19T00:00:00\",\"2018-11-20T00:00:00\",\"2018-11-22T00:00:00\",\"2018-11-28T00:00:00\",\"2018-11-30T00:00:00\",\"2018-12-01T00:00:00\",\"2018-12-03T00:00:00\",\"2018-12-04T00:00:00\",\"2018-12-07T00:00:00\",\"2018-12-21T00:00:00\",\"2019-01-01T00:00:00\",\"2019-01-03T00:00:00\",\"2019-01-04T00:00:00\",\"2019-01-07T00:00:00\",\"2019-01-14T00:00:00\",\"2019-02-01T00:00:00\",\"2019-02-04T00:00:00\",\"2019-02-13T00:00:00\",\"2019-02-14T00:00:00\",\"2019-02-15T00:00:00\",\"2019-02-19T00:00:00\",\"2019-02-20T00:00:00\",\"2019-02-25T00:00:00\",\"2019-03-01T00:00:00\",\"2019-03-04T00:00:00\",\"2019-03-06T00:00:00\",\"2019-03-11T00:00:00\",\"2019-03-15T00:00:00\",\"2019-03-18T00:00:00\",\"2019-03-28T00:00:00\",\"2019-04-01T00:00:00\",\"2019-05-01T00:00:00\",\"2019-05-07T00:00:00\",\"2019-05-09T00:00:00\",\"2019-05-13T00:00:00\",\"2019-05-14T00:00:00\",\"2019-05-18T00:00:00\",\"2019-05-20T00:00:00\",\"2019-05-21T00:00:00\",\"2019-05-27T00:00:00\",\"2019-05-28T00:00:00\",\"2019-05-30T00:00:00\",\"2019-06-01T00:00:00\",\"2019-06-03T00:00:00\",\"2019-06-05T00:00:00\",\"2019-06-06T00:00:00\",\"2019-06-17T00:00:00\",\"2019-06-24T00:00:00\",\"2019-07-01T00:00:00\",\"2019-07-05T00:00:00\",\"2019-07-12T00:00:00\",\"2019-07-22T00:00:00\",\"2019-07-24T00:00:00\",\"2019-07-26T00:00:00\",\"2019-08-13T00:00:00\",\"2019-08-15T00:00:00\",\"2019-08-18T00:00:00\",\"2019-08-29T00:00:00\",\"2019-09-01T00:00:00\",\"2019-09-04T00:00:00\",\"2019-09-09T00:00:00\",\"2019-09-11T00:00:00\",\"2019-09-12T00:00:00\",\"2019-09-16T00:00:00\",\"2019-09-17T00:00:00\",\"2019-09-18T00:00:00\",\"2019-09-19T00:00:00\",\"2019-09-21T00:00:00\",\"2019-09-23T00:00:00\",\"2019-09-24T00:00:00\",\"2019-09-26T00:00:00\",\"2019-09-27T00:00:00\",\"2019-09-28T00:00:00\",\"2019-09-30T00:00:00\",\"2019-10-01T00:00:00\",\"2019-10-02T00:00:00\",\"2019-10-07T00:00:00\",\"2019-10-15T00:00:00\",\"2019-10-21T00:00:00\",\"2019-10-29T00:00:00\",\"2019-11-01T00:00:00\",\"2019-11-14T00:00:00\",\"2019-11-15T00:00:00\",\"2019-12-10T00:00:00\",\"2019-12-17T00:00:00\",\"2019-12-27T00:00:00\",\"2020-01-01T00:00:00\",\"2020-01-06T00:00:00\",\"2020-01-27T00:00:00\",\"2020-02-01T00:00:00\",\"2020-02-05T00:00:00\",\"2020-02-10T00:00:00\",\"2020-02-17T00:00:00\",\"2020-03-01T00:00:00\",\"2020-03-02T00:00:00\",\"2020-03-13T00:00:00\",\"2020-03-16T00:00:00\",\"2020-04-02T00:00:00\",\"2020-04-30T00:00:00\",\"2020-12-01T00:00:00\",\"2020-12-07T00:00:00\",\"2021-02-08T00:00:00\",\"2021-02-22T00:00:00\",\"2021-03-01T00:00:00\",\"2021-03-08T00:00:00\",\"2021-03-29T00:00:00\",\"2021-04-01T00:00:00\",\"2021-04-05T00:00:00\",\"2021-04-12T00:00:00\",\"2021-04-19T00:00:00\",\"2021-04-26T00:00:00\",\"2021-05-01T00:00:00\",\"2021-05-03T00:00:00\",\"2021-05-21T00:00:00\",\"2021-05-28T00:00:00\",\"2021-06-01T00:00:00\",\"2021-06-04T00:00:00\",\"2021-06-07T00:00:00\",\"2021-06-08T00:00:00\",\"2021-06-09T00:00:00\",\"2021-06-10T00:00:00\",\"2021-06-11T00:00:00\",\"2021-06-12T00:00:00\",\"2021-06-16T00:00:00\",\"2021-07-07T00:00:00\",\"2021-08-01T00:00:00\",\"2021-08-16T00:00:00\",\"2021-08-23T00:00:00\",\"2021-10-04T00:00:00\",\"2021-10-25T00:00:00\",\"2021-12-10T00:00:00\"],\"xaxis\":\"x\",\"y\":[1,1,1,2,2,2,3,2,1,1,2,1,1,1,2,3,2,1,6,1,5,1,1,2,1,1,2,1,13,1,12,1,1,1,1,1,13,2,1,2,1,1,6,1,2,2,1,1,1,1,1,46,1,6,2,1,1,31,4,1,1,1,1,5,8,1,2,1,2,1,1,1,1,5,1,1,1,1,1,5,1,6,4,1,1,1,1,10,1,3,1,1,1,13,1,1,1,1,1,2,1,11,2,1,3,1,8,1,1,1,4,1,1,101,4,1,1,1,2,1,1,7,1,1,1,1,13,1,2,1,1,8,1,1,2,1,1,5,4,9,1,3,1,1,11,1,1,45,1,1,1,3,3,3,2,1,33,4,1,2,1,1,1,1,2,1,1,1,1,4,1,2,49,2,1,1,1,1,3,3,1,13,1,1,22,2,1,2,4,1,1,2,3,28,2,1,2,4,1,1,4,1,1,4,67,3,1,10,3,2,1,1,1,12,1,5,1,26,1,1,2,13,2,1,1,2,45,1,28,8,7,1,14,1,3,4,1,2,1,1,11,2,1,1,2,1,1,6,4,1,1,102,4,1,1,12,1,1,1,1,1,1,1,1,1,1,1,55,1,5,1,1,6,2,2,1,96,2,1,4,1,1,1,4,2,2,9,1,1,2,1,155,13,1,1,1,1,1,30,9,2,35,1,2,6,1,1,1,1,13,86,2,1,1,1,1,1,21,3,2,1,1,1,24,1,2,1,13,1,1,1,4,112,2,5,1,4,1,2,38,2,3,5,2,2,8,2,2,6,7,11,2,1,2,3,191,5,383,12,32,4,2,3,3,31,13,11,11,4,14,5,312,10,22,5,5,1,107,2,7,45,11,3,2,123,4,12,4,1,3,2,118,3,1,8,29,2,191,1,4,9,1,39,2,2,5,4,44,2,67,2,10,1,48,6,2,2,4,1,1,8,2,1,15,1,2,3,111,3,1,1,3,1,2,1,3,1,3,1,19,31,3,9,5,1,2,2,6,1,537,11,7,8,28,28,23,9,3,14,1,2,43,11,11,1,6,1,13,5,8,2,2,6,2,4,3,38,3,4,5,2,3,9,7,5,6,24,17,7,2,1,29,2,3,6,438,13,5,207,6,4,1,9,3,1,106,3,1,3,23,1,4,50,6,2,9,4,16,1,3,4,1,16,1,737,8,4,10,3,1,2,215,2,3,34,19,117,10,3,4,1,44,3,12,5,4,39,4,122,116,4,1,18,262,18,2,5,2,2,2,114,5,5,19,4,174,1,39,5,1,8,7,27,11,2,31,1,13,2,3,2,1,1,2,1,4,6,6,1,1,10,3,4,4,3,3,5,6,4,7,58,6,1,15,12,10,12,6,11,6,4,5,61,8,16,9,3,7,2,70,3,6,2,7,2,53,19,2,67,14,3,1,108,9,3,17,11,8,8,28,7,9,19,16,12,17,26,12,6,11,11,6,15,28,13,13,4,10,4,278,257,62,36,26,14,5,11,410,18,23,26,17,14,46,167,19,21,11,89,9,8,155,16,47,15,45,3,3,107,249,21,23,16,4,2,76,5,5,17,1,67,19,6,9,8,4,1,39,8,5,6,24,6,41,1,7,18,65,1,7,1,8,13,16,125,7,19,19,44,1,1,68,15,12,9,33,1634,31,24,16,30,2,71,15,12,10,23,18,1,18,9,8,6,33,1,2,18,9,6,14,5,1,8,13,16,14,2,1,2,121,179,29,6,3,241,6,5,1,13,6,12,22,12,213,2,32,8,16,41,115,30,23,2,2,6,41,3,2,3,1,19,8,116,4,3,2,4,2,4,14,1,3,11,4,16,4,22,15,4,4,5,3,3,29,5,2,1,8,83,52,2,11,3,3,1,135,1,2,4,5,1,105,1,5,2,1,36,11,4,1,2,91,172,6,1,3,360,1,14,2,7,1,35,23,1,10,1,1,30,2,16,22,7,1,10,27,1,2,273,5,1,1,2,2,55,1,3,3,105,1,4,1,3,33,2,2,57,2,29,11,2,5,1,7,1,5,37,6,2,2,1,1,4,3,3,40,4,56,93,3,2,1,1,10,3,5,3,7,8,9,64,3,3,2,2,4,9,7,1,2,1,2,2,21,1,28,1,26,4,1,68,6,2,5,6,4,14,20,13,62,14,23,10,9,20,4,10,6,10,9,8,29,15,6,6,4,13,5,159,43,7,3,13,3,11,59,30,17,5,14,8,5,258,10,3,3,3,9,6,128,4,11,4,4,4,2,140,87,174,10,4,1,5,134,20,3,4,2,1,244,1,119,1,1,3,125,1,1,1,1,403,180,1,76,3,111,1,100,1,1,14,2,1,3,174,1,3,82,1,229,2,1,4,1,1,183,2,3,2,443,2,2,1,2,7,8,66,1,5,3,10,10,36,8,36,2,12,33,6,30,69,10,2,23,31,1,3,1,3,1,18,11,2,3,2,18,2,4,8,3,2,2,5,9,10,3,3,3,1,3,8,2,2,2,42,31,4,3,2,1,1,1,4,7,1,2,1,22,1,1,1,1,9,4,29,1,2,31,14,4,21,2,13,1,2,46,1,1,1,30,59,5,38,5,1,1,10,13,1,59,1,20,1,2,10,3,1,56,1,1,1,13,1,4,2,44,9,1,17,1,1,1,78,1,1,2,2,2,31,1,1,1,135,1,1,1,1,2,167,2,2,2,1,5,4,2,3,11,1,230,1,1,3,1,13,8,2,4,10,11,6,12,93,6,5,9,8,3,19,10,5,2,6,5,19,22,183,80,14,26,9,8,94,17,8,18,16,2,19,98,29,12,8,15,6,19,51,7,4,7,5,1,11,48,3,4,43,2,3,573,3,1,14,2,2,1,9,4,13,2,3,80,1,1,1,1,1,8,23,7,15,32,3,1,90,131,1,7,12,7,1,1,3,1,2,1,1,4,9,1,88,1,5,76,4,15,2,1,12,3,1,1,1,30,8,7,4,2,1,1,1,4,1,2,1,1,1,135,34,3,7,5,1,4,2,1,2,3,1,58,2,1,15,2,1,2,2,1,2,1,3,23,1,1,8,3,1,2,2,1,8,1,93,10,1,22,1,23,13,2,2,1,1,3,1,1,1,2,19,9,1,1,6,6,12,14,5,4,5,16,3,33,4,6,83,13,4,10,30,11,5,5,16,7,4,67,2,5,4,127,1,2,79,117,1,5,90,1,1,30,1,2,107,14,2,391,2,36,39,11,2,69,17,11,6,5,138,51,3,1,182,1,1,4,47,1,1,137,219,19,29,2,54,7,8,1,1,1,6,29,1,9,2,1,5,1,1,6,2,2,226,5,3,1,1,1,2,3,5,8,1,5,4,1,2,1,2,2,3,2,1,2,27,2,1,2,1,1,1,1,1,1,1,1,2,1,1,10,1,2,2,4,1,2,2,1,5,3,4,3,3,2,1,1,1,1,6,1,3,61,3,16,4,5,3,1,1,2,8,3,5,2,3,13,28,6,4,4,10,45,16,8,60,1,1,10,1,1,14,1,76,2,24,85,1,16,1,312,47,2,3,465,1,1,28,2,6,1,137,46,24,142,40,2,254,4,309,1,37,21,3,5,87,8,2,2,2,1,129,1,1,1,28,1,1,397,32,4,2,4,237,1,3,3,9,601,3,1,2,85,1,1,5,1,48,2,3,2,1,1,1,139,1,2,1,1,1,1,11,2,199,2,10,12,4,2,1,1,1,1,1,830,2,30,1,49,1085,1,2,1,4,1,6,11,2,20,5,7,1,4,9,3,7,1,1,10,3,2,149,4,151,12,8,6,1,3,4,30,15,13,4,3,11,5,90,38,24,12,1,12,4,1,2,102,1,11,2,3,5,1,1,1,5,2,1,1,27,1,2,1,49,11,1,43,24,19,130,1,13,165,1,80,46,22,224,1,1,18,15,1,1,8,6,44,2,1,1,9,1,1,2,9,9,1,12,1,2,9,18,2,579,108,40,1,1,3,2,78,1,1,26,43,418,1,1,11,9,1,1,1,1,3,1,1,1,1,15,1,12,1,2,15,1,1,1,1,1,37,1,2,1,1,7,1,11,2,9,6,1,2,3,217,66,1,4,1,1,2,1,1,2,4,1,2,1,1,1,2,402,2,2,3,1,1,5,1,1,2,5,2,7,13,7,12,4,96,28,17,42,76,5,4,1,2,1,2,44,16,52],\"yaxis\":\"y\",\"type\":\"scattergl\"}],                        {\"template\":{\"data\":{\"bar\":[{\"error_x\":{\"color\":\"#2a3f5f\"},\"error_y\":{\"color\":\"#2a3f5f\"},\"marker\":{\"line\":{\"color\":\"#E5ECF6\",\"width\":0.5},\"pattern\":{\"fillmode\":\"overlay\",\"size\":10,\"solidity\":0.2}},\"type\":\"bar\"}],\"barpolar\":[{\"marker\":{\"line\":{\"color\":\"#E5ECF6\",\"width\":0.5},\"pattern\":{\"fillmode\":\"overlay\",\"size\":10,\"solidity\":0.2}},\"type\":\"barpolar\"}],\"carpet\":[{\"aaxis\":{\"endlinecolor\":\"#2a3f5f\",\"gridcolor\":\"white\",\"linecolor\":\"white\",\"minorgridcolor\":\"white\",\"startlinecolor\":\"#2a3f5f\"},\"baxis\":{\"endlinecolor\":\"#2a3f5f\",\"gridcolor\":\"white\",\"linecolor\":\"white\",\"minorgridcolor\":\"white\",\"startlinecolor\":\"#2a3f5f\"},\"type\":\"carpet\"}],\"choropleth\":[{\"colorbar\":{\"outlinewidth\":0,\"ticks\":\"\"},\"type\":\"choropleth\"}],\"contour\":[{\"colorbar\":{\"outlinewidth\":0,\"ticks\":\"\"},\"colorscale\":[[0.0,\"#0d0887\"],[0.1111111111111111,\"#46039f\"],[0.2222222222222222,\"#7201a8\"],[0.3333333333333333,\"#9c179e\"],[0.4444444444444444,\"#bd3786\"],[0.5555555555555556,\"#d8576b\"],[0.6666666666666666,\"#ed7953\"],[0.7777777777777778,\"#fb9f3a\"],[0.8888888888888888,\"#fdca26\"],[1.0,\"#f0f921\"]],\"type\":\"contour\"}],\"contourcarpet\":[{\"colorbar\":{\"outlinewidth\":0,\"ticks\":\"\"},\"type\":\"contourcarpet\"}],\"heatmap\":[{\"colorbar\":{\"outlinewidth\":0,\"ticks\":\"\"},\"colorscale\":[[0.0,\"#0d0887\"],[0.1111111111111111,\"#46039f\"],[0.2222222222222222,\"#7201a8\"],[0.3333333333333333,\"#9c179e\"],[0.4444444444444444,\"#bd3786\"],[0.5555555555555556,\"#d8576b\"],[0.6666666666666666,\"#ed7953\"],[0.7777777777777778,\"#fb9f3a\"],[0.8888888888888888,\"#fdca26\"],[1.0,\"#f0f921\"]],\"type\":\"heatmap\"}],\"heatmapgl\":[{\"colorbar\":{\"outlinewidth\":0,\"ticks\":\"\"},\"colorscale\":[[0.0,\"#0d0887\"],[0.1111111111111111,\"#46039f\"],[0.2222222222222222,\"#7201a8\"],[0.3333333333333333,\"#9c179e\"],[0.4444444444444444,\"#bd3786\"],[0.5555555555555556,\"#d8576b\"],[0.6666666666666666,\"#ed7953\"],[0.7777777777777778,\"#fb9f3a\"],[0.8888888888888888,\"#fdca26\"],[1.0,\"#f0f921\"]],\"type\":\"heatmapgl\"}],\"histogram\":[{\"marker\":{\"pattern\":{\"fillmode\":\"overlay\",\"size\":10,\"solidity\":0.2}},\"type\":\"histogram\"}],\"histogram2d\":[{\"colorbar\":{\"outlinewidth\":0,\"ticks\":\"\"},\"colorscale\":[[0.0,\"#0d0887\"],[0.1111111111111111,\"#46039f\"],[0.2222222222222222,\"#7201a8\"],[0.3333333333333333,\"#9c179e\"],[0.4444444444444444,\"#bd3786\"],[0.5555555555555556,\"#d8576b\"],[0.6666666666666666,\"#ed7953\"],[0.7777777777777778,\"#fb9f3a\"],[0.8888888888888888,\"#fdca26\"],[1.0,\"#f0f921\"]],\"type\":\"histogram2d\"}],\"histogram2dcontour\":[{\"colorbar\":{\"outlinewidth\":0,\"ticks\":\"\"},\"colorscale\":[[0.0,\"#0d0887\"],[0.1111111111111111,\"#46039f\"],[0.2222222222222222,\"#7201a8\"],[0.3333333333333333,\"#9c179e\"],[0.4444444444444444,\"#bd3786\"],[0.5555555555555556,\"#d8576b\"],[0.6666666666666666,\"#ed7953\"],[0.7777777777777778,\"#fb9f3a\"],[0.8888888888888888,\"#fdca26\"],[1.0,\"#f0f921\"]],\"type\":\"histogram2dcontour\"}],\"mesh3d\":[{\"colorbar\":{\"outlinewidth\":0,\"ticks\":\"\"},\"type\":\"mesh3d\"}],\"parcoords\":[{\"line\":{\"colorbar\":{\"outlinewidth\":0,\"ticks\":\"\"}},\"type\":\"parcoords\"}],\"pie\":[{\"automargin\":true,\"type\":\"pie\"}],\"scatter\":[{\"marker\":{\"colorbar\":{\"outlinewidth\":0,\"ticks\":\"\"}},\"type\":\"scatter\"}],\"scatter3d\":[{\"line\":{\"colorbar\":{\"outlinewidth\":0,\"ticks\":\"\"}},\"marker\":{\"colorbar\":{\"outlinewidth\":0,\"ticks\":\"\"}},\"type\":\"scatter3d\"}],\"scattercarpet\":[{\"marker\":{\"colorbar\":{\"outlinewidth\":0,\"ticks\":\"\"}},\"type\":\"scattercarpet\"}],\"scattergeo\":[{\"marker\":{\"colorbar\":{\"outlinewidth\":0,\"ticks\":\"\"}},\"type\":\"scattergeo\"}],\"scattergl\":[{\"marker\":{\"colorbar\":{\"outlinewidth\":0,\"ticks\":\"\"}},\"type\":\"scattergl\"}],\"scattermapbox\":[{\"marker\":{\"colorbar\":{\"outlinewidth\":0,\"ticks\":\"\"}},\"type\":\"scattermapbox\"}],\"scatterpolar\":[{\"marker\":{\"colorbar\":{\"outlinewidth\":0,\"ticks\":\"\"}},\"type\":\"scatterpolar\"}],\"scatterpolargl\":[{\"marker\":{\"colorbar\":{\"outlinewidth\":0,\"ticks\":\"\"}},\"type\":\"scatterpolargl\"}],\"scatterternary\":[{\"marker\":{\"colorbar\":{\"outlinewidth\":0,\"ticks\":\"\"}},\"type\":\"scatterternary\"}],\"surface\":[{\"colorbar\":{\"outlinewidth\":0,\"ticks\":\"\"},\"colorscale\":[[0.0,\"#0d0887\"],[0.1111111111111111,\"#46039f\"],[0.2222222222222222,\"#7201a8\"],[0.3333333333333333,\"#9c179e\"],[0.4444444444444444,\"#bd3786\"],[0.5555555555555556,\"#d8576b\"],[0.6666666666666666,\"#ed7953\"],[0.7777777777777778,\"#fb9f3a\"],[0.8888888888888888,\"#fdca26\"],[1.0,\"#f0f921\"]],\"type\":\"surface\"}],\"table\":[{\"cells\":{\"fill\":{\"color\":\"#EBF0F8\"},\"line\":{\"color\":\"white\"}},\"header\":{\"fill\":{\"color\":\"#C8D4E3\"},\"line\":{\"color\":\"white\"}},\"type\":\"table\"}]},\"layout\":{\"annotationdefaults\":{\"arrowcolor\":\"#2a3f5f\",\"arrowhead\":0,\"arrowwidth\":1},\"autotypenumbers\":\"strict\",\"coloraxis\":{\"colorbar\":{\"outlinewidth\":0,\"ticks\":\"\"}},\"colorscale\":{\"diverging\":[[0,\"#8e0152\"],[0.1,\"#c51b7d\"],[0.2,\"#de77ae\"],[0.3,\"#f1b6da\"],[0.4,\"#fde0ef\"],[0.5,\"#f7f7f7\"],[0.6,\"#e6f5d0\"],[0.7,\"#b8e186\"],[0.8,\"#7fbc41\"],[0.9,\"#4d9221\"],[1,\"#276419\"]],\"sequential\":[[0.0,\"#0d0887\"],[0.1111111111111111,\"#46039f\"],[0.2222222222222222,\"#7201a8\"],[0.3333333333333333,\"#9c179e\"],[0.4444444444444444,\"#bd3786\"],[0.5555555555555556,\"#d8576b\"],[0.6666666666666666,\"#ed7953\"],[0.7777777777777778,\"#fb9f3a\"],[0.8888888888888888,\"#fdca26\"],[1.0,\"#f0f921\"]],\"sequentialminus\":[[0.0,\"#0d0887\"],[0.1111111111111111,\"#46039f\"],[0.2222222222222222,\"#7201a8\"],[0.3333333333333333,\"#9c179e\"],[0.4444444444444444,\"#bd3786\"],[0.5555555555555556,\"#d8576b\"],[0.6666666666666666,\"#ed7953\"],[0.7777777777777778,\"#fb9f3a\"],[0.8888888888888888,\"#fdca26\"],[1.0,\"#f0f921\"]]},\"colorway\":[\"#636efa\",\"#EF553B\",\"#00cc96\",\"#ab63fa\",\"#FFA15A\",\"#19d3f3\",\"#FF6692\",\"#B6E880\",\"#FF97FF\",\"#FECB52\"],\"font\":{\"color\":\"#2a3f5f\"},\"geo\":{\"bgcolor\":\"white\",\"lakecolor\":\"white\",\"landcolor\":\"#E5ECF6\",\"showlakes\":true,\"showland\":true,\"subunitcolor\":\"white\"},\"hoverlabel\":{\"align\":\"left\"},\"hovermode\":\"closest\",\"mapbox\":{\"style\":\"light\"},\"paper_bgcolor\":\"white\",\"plot_bgcolor\":\"#E5ECF6\",\"polar\":{\"angularaxis\":{\"gridcolor\":\"white\",\"linecolor\":\"white\",\"ticks\":\"\"},\"bgcolor\":\"#E5ECF6\",\"radialaxis\":{\"gridcolor\":\"white\",\"linecolor\":\"white\",\"ticks\":\"\"}},\"scene\":{\"xaxis\":{\"backgroundcolor\":\"#E5ECF6\",\"gridcolor\":\"white\",\"gridwidth\":2,\"linecolor\":\"white\",\"showbackground\":true,\"ticks\":\"\",\"zerolinecolor\":\"white\"},\"yaxis\":{\"backgroundcolor\":\"#E5ECF6\",\"gridcolor\":\"white\",\"gridwidth\":2,\"linecolor\":\"white\",\"showbackground\":true,\"ticks\":\"\",\"zerolinecolor\":\"white\"},\"zaxis\":{\"backgroundcolor\":\"#E5ECF6\",\"gridcolor\":\"white\",\"gridwidth\":2,\"linecolor\":\"white\",\"showbackground\":true,\"ticks\":\"\",\"zerolinecolor\":\"white\"}},\"shapedefaults\":{\"line\":{\"color\":\"#2a3f5f\"}},\"ternary\":{\"aaxis\":{\"gridcolor\":\"white\",\"linecolor\":\"white\",\"ticks\":\"\"},\"baxis\":{\"gridcolor\":\"white\",\"linecolor\":\"white\",\"ticks\":\"\"},\"bgcolor\":\"#E5ECF6\",\"caxis\":{\"gridcolor\":\"white\",\"linecolor\":\"white\",\"ticks\":\"\"}},\"title\":{\"x\":0.05},\"xaxis\":{\"automargin\":true,\"gridcolor\":\"white\",\"linecolor\":\"white\",\"ticks\":\"\",\"title\":{\"standoff\":15},\"zerolinecolor\":\"white\",\"zerolinewidth\":2},\"yaxis\":{\"automargin\":true,\"gridcolor\":\"white\",\"linecolor\":\"white\",\"ticks\":\"\",\"title\":{\"standoff\":15},\"zerolinecolor\":\"white\",\"zerolinewidth\":2}}},\"xaxis\":{\"anchor\":\"y\",\"domain\":[0.0,1.0],\"title\":{\"text\":\"fecha_inicio_estudios_rec\"}},\"yaxis\":{\"anchor\":\"x\",\"domain\":[0.0,1.0],\"title\":{\"text\":\"id_unico\"}},\"legend\":{\"tracegroupgap\":0},\"margin\":{\"t\":60}},                        {\"responsive\": true}                    ).then(function(){\n",
              "                            \n",
              "var gd = document.getElementById('e52f1709-be65-4485-9054-c1217c925169');\n",
              "var x = new MutationObserver(function (mutations, observer) {{\n",
              "        var display = window.getComputedStyle(gd).display;\n",
              "        if (!display || display === 'none') {{\n",
              "            console.log([gd, 'removed!']);\n",
              "            Plotly.purge(gd);\n",
              "            observer.disconnect();\n",
              "        }}\n",
              "}});\n",
              "\n",
              "// Listen for the removal of the full notebook cells\n",
              "var notebookContainer = gd.closest('#notebook-container');\n",
              "if (notebookContainer) {{\n",
              "    x.observe(notebookContainer, {childList: true});\n",
              "}}\n",
              "\n",
              "// Listen for the clearing of the current output cell\n",
              "var outputEl = gd.closest('.output');\n",
              "if (outputEl) {{\n",
              "    x.observe(outputEl, {childList: true});\n",
              "}}\n",
              "\n",
              "                        })                };                            </script>        </div>\n",
              "</body>\n",
              "</html>"
            ]
          },
          "metadata": {}
        }
      ],
      "source": [
        "df_estudios = df_scolaships[['fecha_inicio_estudios_rec','id_unico']].groupby('fecha_inicio_estudios_rec').count().reset_index()\n",
        "fig = px.line(df_estudios, x='fecha_inicio_estudios_rec', y=\"id_unico\")\n",
        "fig.show()"
      ]
    },
    {
      "cell_type": "code",
      "execution_count": 39,
      "metadata": {
        "colab": {
          "base_uri": "https://localhost:8080/",
          "height": 542
        },
        "id": "SYH0xdBxR1co",
        "outputId": "8dcaaf51-0a18-4454-aa20-ef5d962148c4"
      },
      "outputs": [
        {
          "output_type": "display_data",
          "data": {
            "text/html": [
              "<html>\n",
              "<head><meta charset=\"utf-8\" /></head>\n",
              "<body>\n",
              "    <div>            <script src=\"https://cdnjs.cloudflare.com/ajax/libs/mathjax/2.7.5/MathJax.js?config=TeX-AMS-MML_SVG\"></script><script type=\"text/javascript\">if (window.MathJax) {MathJax.Hub.Config({SVG: {font: \"STIX-Web\"}});}</script>                <script type=\"text/javascript\">window.PlotlyConfig = {MathJaxConfig: 'local'};</script>\n",
              "        <script src=\"https://cdn.plot.ly/plotly-2.8.3.min.js\"></script>                <div id=\"69cecf0b-7473-4114-9f7c-c75f35ab192f\" class=\"plotly-graph-div\" style=\"height:525px; width:100%;\"></div>            <script type=\"text/javascript\">                                    window.PLOTLYENV=window.PLOTLYENV || {};                                    if (document.getElementById(\"69cecf0b-7473-4114-9f7c-c75f35ab192f\")) {                    Plotly.newPlot(                        \"69cecf0b-7473-4114-9f7c-c75f35ab192f\",                        [{\"hovertemplate\":\"anio_inicio_estudios=%{x}<br>id_unico=%{y}<extra></extra>\",\"legendgroup\":\"\",\"line\":{\"color\":\"#636efa\",\"dash\":\"solid\"},\"marker\":{\"symbol\":\"circle\"},\"mode\":\"lines\",\"name\":\"\",\"orientation\":\"v\",\"showlegend\":false,\"x\":[2001.0,2002.0,2004.0,2005.0,2006.0,2007.0,2008.0,2009.0,2010.0,2011.0,2012.0,2013.0,2014.0,2015.0,2016.0,2017.0,2018.0,2019.0,2020.0,2021.0],\"xaxis\":\"x\",\"y\":[1,1,5,11,18,45,137,121,309,469,3257,10402,8296,4261,3111,2893,5890,1908,426,454],\"yaxis\":\"y\",\"type\":\"scatter\"}],                        {\"template\":{\"data\":{\"bar\":[{\"error_x\":{\"color\":\"#2a3f5f\"},\"error_y\":{\"color\":\"#2a3f5f\"},\"marker\":{\"line\":{\"color\":\"#E5ECF6\",\"width\":0.5},\"pattern\":{\"fillmode\":\"overlay\",\"size\":10,\"solidity\":0.2}},\"type\":\"bar\"}],\"barpolar\":[{\"marker\":{\"line\":{\"color\":\"#E5ECF6\",\"width\":0.5},\"pattern\":{\"fillmode\":\"overlay\",\"size\":10,\"solidity\":0.2}},\"type\":\"barpolar\"}],\"carpet\":[{\"aaxis\":{\"endlinecolor\":\"#2a3f5f\",\"gridcolor\":\"white\",\"linecolor\":\"white\",\"minorgridcolor\":\"white\",\"startlinecolor\":\"#2a3f5f\"},\"baxis\":{\"endlinecolor\":\"#2a3f5f\",\"gridcolor\":\"white\",\"linecolor\":\"white\",\"minorgridcolor\":\"white\",\"startlinecolor\":\"#2a3f5f\"},\"type\":\"carpet\"}],\"choropleth\":[{\"colorbar\":{\"outlinewidth\":0,\"ticks\":\"\"},\"type\":\"choropleth\"}],\"contour\":[{\"colorbar\":{\"outlinewidth\":0,\"ticks\":\"\"},\"colorscale\":[[0.0,\"#0d0887\"],[0.1111111111111111,\"#46039f\"],[0.2222222222222222,\"#7201a8\"],[0.3333333333333333,\"#9c179e\"],[0.4444444444444444,\"#bd3786\"],[0.5555555555555556,\"#d8576b\"],[0.6666666666666666,\"#ed7953\"],[0.7777777777777778,\"#fb9f3a\"],[0.8888888888888888,\"#fdca26\"],[1.0,\"#f0f921\"]],\"type\":\"contour\"}],\"contourcarpet\":[{\"colorbar\":{\"outlinewidth\":0,\"ticks\":\"\"},\"type\":\"contourcarpet\"}],\"heatmap\":[{\"colorbar\":{\"outlinewidth\":0,\"ticks\":\"\"},\"colorscale\":[[0.0,\"#0d0887\"],[0.1111111111111111,\"#46039f\"],[0.2222222222222222,\"#7201a8\"],[0.3333333333333333,\"#9c179e\"],[0.4444444444444444,\"#bd3786\"],[0.5555555555555556,\"#d8576b\"],[0.6666666666666666,\"#ed7953\"],[0.7777777777777778,\"#fb9f3a\"],[0.8888888888888888,\"#fdca26\"],[1.0,\"#f0f921\"]],\"type\":\"heatmap\"}],\"heatmapgl\":[{\"colorbar\":{\"outlinewidth\":0,\"ticks\":\"\"},\"colorscale\":[[0.0,\"#0d0887\"],[0.1111111111111111,\"#46039f\"],[0.2222222222222222,\"#7201a8\"],[0.3333333333333333,\"#9c179e\"],[0.4444444444444444,\"#bd3786\"],[0.5555555555555556,\"#d8576b\"],[0.6666666666666666,\"#ed7953\"],[0.7777777777777778,\"#fb9f3a\"],[0.8888888888888888,\"#fdca26\"],[1.0,\"#f0f921\"]],\"type\":\"heatmapgl\"}],\"histogram\":[{\"marker\":{\"pattern\":{\"fillmode\":\"overlay\",\"size\":10,\"solidity\":0.2}},\"type\":\"histogram\"}],\"histogram2d\":[{\"colorbar\":{\"outlinewidth\":0,\"ticks\":\"\"},\"colorscale\":[[0.0,\"#0d0887\"],[0.1111111111111111,\"#46039f\"],[0.2222222222222222,\"#7201a8\"],[0.3333333333333333,\"#9c179e\"],[0.4444444444444444,\"#bd3786\"],[0.5555555555555556,\"#d8576b\"],[0.6666666666666666,\"#ed7953\"],[0.7777777777777778,\"#fb9f3a\"],[0.8888888888888888,\"#fdca26\"],[1.0,\"#f0f921\"]],\"type\":\"histogram2d\"}],\"histogram2dcontour\":[{\"colorbar\":{\"outlinewidth\":0,\"ticks\":\"\"},\"colorscale\":[[0.0,\"#0d0887\"],[0.1111111111111111,\"#46039f\"],[0.2222222222222222,\"#7201a8\"],[0.3333333333333333,\"#9c179e\"],[0.4444444444444444,\"#bd3786\"],[0.5555555555555556,\"#d8576b\"],[0.6666666666666666,\"#ed7953\"],[0.7777777777777778,\"#fb9f3a\"],[0.8888888888888888,\"#fdca26\"],[1.0,\"#f0f921\"]],\"type\":\"histogram2dcontour\"}],\"mesh3d\":[{\"colorbar\":{\"outlinewidth\":0,\"ticks\":\"\"},\"type\":\"mesh3d\"}],\"parcoords\":[{\"line\":{\"colorbar\":{\"outlinewidth\":0,\"ticks\":\"\"}},\"type\":\"parcoords\"}],\"pie\":[{\"automargin\":true,\"type\":\"pie\"}],\"scatter\":[{\"marker\":{\"colorbar\":{\"outlinewidth\":0,\"ticks\":\"\"}},\"type\":\"scatter\"}],\"scatter3d\":[{\"line\":{\"colorbar\":{\"outlinewidth\":0,\"ticks\":\"\"}},\"marker\":{\"colorbar\":{\"outlinewidth\":0,\"ticks\":\"\"}},\"type\":\"scatter3d\"}],\"scattercarpet\":[{\"marker\":{\"colorbar\":{\"outlinewidth\":0,\"ticks\":\"\"}},\"type\":\"scattercarpet\"}],\"scattergeo\":[{\"marker\":{\"colorbar\":{\"outlinewidth\":0,\"ticks\":\"\"}},\"type\":\"scattergeo\"}],\"scattergl\":[{\"marker\":{\"colorbar\":{\"outlinewidth\":0,\"ticks\":\"\"}},\"type\":\"scattergl\"}],\"scattermapbox\":[{\"marker\":{\"colorbar\":{\"outlinewidth\":0,\"ticks\":\"\"}},\"type\":\"scattermapbox\"}],\"scatterpolar\":[{\"marker\":{\"colorbar\":{\"outlinewidth\":0,\"ticks\":\"\"}},\"type\":\"scatterpolar\"}],\"scatterpolargl\":[{\"marker\":{\"colorbar\":{\"outlinewidth\":0,\"ticks\":\"\"}},\"type\":\"scatterpolargl\"}],\"scatterternary\":[{\"marker\":{\"colorbar\":{\"outlinewidth\":0,\"ticks\":\"\"}},\"type\":\"scatterternary\"}],\"surface\":[{\"colorbar\":{\"outlinewidth\":0,\"ticks\":\"\"},\"colorscale\":[[0.0,\"#0d0887\"],[0.1111111111111111,\"#46039f\"],[0.2222222222222222,\"#7201a8\"],[0.3333333333333333,\"#9c179e\"],[0.4444444444444444,\"#bd3786\"],[0.5555555555555556,\"#d8576b\"],[0.6666666666666666,\"#ed7953\"],[0.7777777777777778,\"#fb9f3a\"],[0.8888888888888888,\"#fdca26\"],[1.0,\"#f0f921\"]],\"type\":\"surface\"}],\"table\":[{\"cells\":{\"fill\":{\"color\":\"#EBF0F8\"},\"line\":{\"color\":\"white\"}},\"header\":{\"fill\":{\"color\":\"#C8D4E3\"},\"line\":{\"color\":\"white\"}},\"type\":\"table\"}]},\"layout\":{\"annotationdefaults\":{\"arrowcolor\":\"#2a3f5f\",\"arrowhead\":0,\"arrowwidth\":1},\"autotypenumbers\":\"strict\",\"coloraxis\":{\"colorbar\":{\"outlinewidth\":0,\"ticks\":\"\"}},\"colorscale\":{\"diverging\":[[0,\"#8e0152\"],[0.1,\"#c51b7d\"],[0.2,\"#de77ae\"],[0.3,\"#f1b6da\"],[0.4,\"#fde0ef\"],[0.5,\"#f7f7f7\"],[0.6,\"#e6f5d0\"],[0.7,\"#b8e186\"],[0.8,\"#7fbc41\"],[0.9,\"#4d9221\"],[1,\"#276419\"]],\"sequential\":[[0.0,\"#0d0887\"],[0.1111111111111111,\"#46039f\"],[0.2222222222222222,\"#7201a8\"],[0.3333333333333333,\"#9c179e\"],[0.4444444444444444,\"#bd3786\"],[0.5555555555555556,\"#d8576b\"],[0.6666666666666666,\"#ed7953\"],[0.7777777777777778,\"#fb9f3a\"],[0.8888888888888888,\"#fdca26\"],[1.0,\"#f0f921\"]],\"sequentialminus\":[[0.0,\"#0d0887\"],[0.1111111111111111,\"#46039f\"],[0.2222222222222222,\"#7201a8\"],[0.3333333333333333,\"#9c179e\"],[0.4444444444444444,\"#bd3786\"],[0.5555555555555556,\"#d8576b\"],[0.6666666666666666,\"#ed7953\"],[0.7777777777777778,\"#fb9f3a\"],[0.8888888888888888,\"#fdca26\"],[1.0,\"#f0f921\"]]},\"colorway\":[\"#636efa\",\"#EF553B\",\"#00cc96\",\"#ab63fa\",\"#FFA15A\",\"#19d3f3\",\"#FF6692\",\"#B6E880\",\"#FF97FF\",\"#FECB52\"],\"font\":{\"color\":\"#2a3f5f\"},\"geo\":{\"bgcolor\":\"white\",\"lakecolor\":\"white\",\"landcolor\":\"#E5ECF6\",\"showlakes\":true,\"showland\":true,\"subunitcolor\":\"white\"},\"hoverlabel\":{\"align\":\"left\"},\"hovermode\":\"closest\",\"mapbox\":{\"style\":\"light\"},\"paper_bgcolor\":\"white\",\"plot_bgcolor\":\"#E5ECF6\",\"polar\":{\"angularaxis\":{\"gridcolor\":\"white\",\"linecolor\":\"white\",\"ticks\":\"\"},\"bgcolor\":\"#E5ECF6\",\"radialaxis\":{\"gridcolor\":\"white\",\"linecolor\":\"white\",\"ticks\":\"\"}},\"scene\":{\"xaxis\":{\"backgroundcolor\":\"#E5ECF6\",\"gridcolor\":\"white\",\"gridwidth\":2,\"linecolor\":\"white\",\"showbackground\":true,\"ticks\":\"\",\"zerolinecolor\":\"white\"},\"yaxis\":{\"backgroundcolor\":\"#E5ECF6\",\"gridcolor\":\"white\",\"gridwidth\":2,\"linecolor\":\"white\",\"showbackground\":true,\"ticks\":\"\",\"zerolinecolor\":\"white\"},\"zaxis\":{\"backgroundcolor\":\"#E5ECF6\",\"gridcolor\":\"white\",\"gridwidth\":2,\"linecolor\":\"white\",\"showbackground\":true,\"ticks\":\"\",\"zerolinecolor\":\"white\"}},\"shapedefaults\":{\"line\":{\"color\":\"#2a3f5f\"}},\"ternary\":{\"aaxis\":{\"gridcolor\":\"white\",\"linecolor\":\"white\",\"ticks\":\"\"},\"baxis\":{\"gridcolor\":\"white\",\"linecolor\":\"white\",\"ticks\":\"\"},\"bgcolor\":\"#E5ECF6\",\"caxis\":{\"gridcolor\":\"white\",\"linecolor\":\"white\",\"ticks\":\"\"}},\"title\":{\"x\":0.05},\"xaxis\":{\"automargin\":true,\"gridcolor\":\"white\",\"linecolor\":\"white\",\"ticks\":\"\",\"title\":{\"standoff\":15},\"zerolinecolor\":\"white\",\"zerolinewidth\":2},\"yaxis\":{\"automargin\":true,\"gridcolor\":\"white\",\"linecolor\":\"white\",\"ticks\":\"\",\"title\":{\"standoff\":15},\"zerolinecolor\":\"white\",\"zerolinewidth\":2}}},\"xaxis\":{\"anchor\":\"y\",\"domain\":[0.0,1.0],\"title\":{\"text\":\"anio_inicio_estudios\"}},\"yaxis\":{\"anchor\":\"x\",\"domain\":[0.0,1.0],\"title\":{\"text\":\"id_unico\"}},\"legend\":{\"tracegroupgap\":0},\"margin\":{\"t\":60}},                        {\"responsive\": true}                    ).then(function(){\n",
              "                            \n",
              "var gd = document.getElementById('69cecf0b-7473-4114-9f7c-c75f35ab192f');\n",
              "var x = new MutationObserver(function (mutations, observer) {{\n",
              "        var display = window.getComputedStyle(gd).display;\n",
              "        if (!display || display === 'none') {{\n",
              "            console.log([gd, 'removed!']);\n",
              "            Plotly.purge(gd);\n",
              "            observer.disconnect();\n",
              "        }}\n",
              "}});\n",
              "\n",
              "// Listen for the removal of the full notebook cells\n",
              "var notebookContainer = gd.closest('#notebook-container');\n",
              "if (notebookContainer) {{\n",
              "    x.observe(notebookContainer, {childList: true});\n",
              "}}\n",
              "\n",
              "// Listen for the clearing of the current output cell\n",
              "var outputEl = gd.closest('.output');\n",
              "if (outputEl) {{\n",
              "    x.observe(outputEl, {childList: true});\n",
              "}}\n",
              "\n",
              "                        })                };                            </script>        </div>\n",
              "</body>\n",
              "</html>"
            ]
          },
          "metadata": {}
        }
      ],
      "source": [
        "df_estudios = df_scolaships[['anio_inicio_estudios','id_unico']].groupby('anio_inicio_estudios').count().reset_index()\n",
        "fig = px.line(df_estudios, x='anio_inicio_estudios', y=\"id_unico\")\n",
        "fig.show()"
      ]
    },
    {
      "cell_type": "code",
      "execution_count": 40,
      "metadata": {
        "id": "fwI6bX2aSO3o"
      },
      "outputs": [],
      "source": [
        "minimum_year_filter = 2014"
      ]
    },
    {
      "cell_type": "code",
      "execution_count": 42,
      "metadata": {
        "id": "8MjpouXsofrB"
      },
      "outputs": [],
      "source": [
        "#@ Filter only data greater than minimum year\n",
        "df_scolaships = df_scolaships[df_scolaships.fecha_inicio_estudios_rec.dt.year > minimum_year_filter]"
      ]
    },
    {
      "cell_type": "code",
      "execution_count": 43,
      "metadata": {
        "colab": {
          "base_uri": "https://localhost:8080/"
        },
        "id": "QtKx0H2FS_KY",
        "outputId": "9eafab2b-bda3-4f1d-e96a-f19a561b28b6"
      },
      "outputs": [
        {
          "output_type": "execute_result",
          "data": {
            "text/plain": [
              "id_unico                              0\n",
              "etnia                                39\n",
              "genero                                0\n",
              "discapacidad                          1\n",
              "tipo_discapacidad                  7361\n",
              "porcentaje_discapacidad            7362\n",
              "estado_civil                          0\n",
              "fecha_de_nacimiento                   0\n",
              "provincia_nacimiento_homologada       1\n",
              "provincia_nacimiento                  0\n",
              "canton_nacimiento                     0\n",
              "zona_senplades_lugar_nacimiento       9\n",
              "provincia_residencia_homologada       0\n",
              "provincia_residencia                  0\n",
              "canton_residencia                     0\n",
              "programa_general                      0\n",
              "subprograma                           0\n",
              "convocatoria                          0\n",
              "componente                            0\n",
              "destino                               0\n",
              "financiamiento                        0\n",
              "centro_estudios_beca                  0\n",
              "ies_de_estudios_homologada            0\n",
              "pais_de_estudios                      0\n",
              "nivel_de_estudios                     0\n",
              "nivel_detallado                       0\n",
              "carrera                               0\n",
              "area_de_estudio                       0\n",
              "subarea_de_estudio                    0\n",
              "area_estudio_detallado                0\n",
              "fecha_de_suscripcion                  2\n",
              "fecha_inicio_financiamiento           0\n",
              "fecha_fin_financiamiento              0\n",
              "monto_contratado                      0\n",
              "fecha_inicio_estudios                 0\n",
              "fecha_fin_estudios                    0\n",
              "estado_estudiante                     0\n",
              "estado_beca                           0\n",
              "age                                   0\n",
              "fecha_inicio_estudios_rec             0\n",
              "anio_inicio_estudios                  0\n",
              "dtype: int64"
            ]
          },
          "metadata": {},
          "execution_count": 43
        }
      ],
      "source": [
        "df_scolaships.isnull().sum()"
      ]
    },
    {
      "cell_type": "code",
      "execution_count": 44,
      "metadata": {
        "colab": {
          "base_uri": "https://localhost:8080/"
        },
        "id": "yOcfhs5h5S96",
        "outputId": "3049f471-0a0d-48ba-c1dd-165099466245"
      },
      "outputs": [
        {
          "output_type": "execute_result",
          "data": {
            "text/plain": [
              "81468.0    349\n",
              "52424.0    154\n",
              "2000.0     124\n",
              "9920.0     103\n",
              "1000.0      94\n",
              "43724.0     88\n",
              "19650.0     83\n",
              "577.0       73\n",
              "17062.0     73\n",
              "3000.0      66\n",
              "Name: monto_contratado, dtype: int64"
            ]
          },
          "metadata": {},
          "execution_count": 44
        }
      ],
      "source": [
        "df_scolaships.monto_contratado.value_counts().head(10)"
      ]
    },
    {
      "cell_type": "markdown",
      "metadata": {
        "id": "qSNuZ0qYwtYR"
      },
      "source": [
        "## Analysis Target Variable"
      ]
    },
    {
      "cell_type": "code",
      "execution_count": 49,
      "metadata": {
        "colab": {
          "base_uri": "https://localhost:8080/",
          "height": 295
        },
        "id": "dxLjeE2EAI4X",
        "outputId": "d69928ac-998e-4912-e3c1-35f79a71cc46"
      },
      "outputs": [
        {
          "output_type": "display_data",
          "data": {
            "text/plain": [
              "<Figure size 432x288 with 1 Axes>"
            ],
            "image/png": "[encoded data removed]"
          },
          "metadata": {
            "needs_background": "light"
          }
        }
      ],
      "source": [
        "plt.figure(figsize=(6, 4))\n",
        "\n",
        "sns.histplot(df_scolaships.monto_contratado, bins=40, color='black', alpha=1)\n",
        "plt.ylabel('Frequency')\n",
        "plt.xlabel('Amount Scholarship')\n",
        "plt.title('Distribution of amounts of scolarships')\n",
        "\n",
        "plt.show()"
      ]
    },
    {
      "cell_type": "code",
      "execution_count": 50,
      "metadata": {
        "colab": {
          "base_uri": "https://localhost:8080/",
          "height": 295
        },
        "id": "O4vZqLWBBXeL",
        "outputId": "5bf7899c-3730-4a21-bf50-6a2deb29fee8"
      },
      "outputs": [
        {
          "output_type": "display_data",
          "data": {
            "text/plain": [
              "<Figure size 432x288 with 1 Axes>"
            ],
            "image/png": "[encoded data removed]"
          },
          "metadata": {
            "needs_background": "light"
          }
        }
      ],
      "source": [
        "plt.figure(figsize=(6, 4))\n",
        "\n",
        "sns.histplot(df_scolaships.monto_contratado[df_scolaships.monto_contratado < 100000], bins=40, color='black', alpha=1)\n",
        "plt.ylabel('Frequency')\n",
        "plt.xlabel('Amount Scholarship')\n",
        "plt.title('Distribution of amounts of scolarships')\n",
        "\n",
        "plt.show()"
      ]
    },
    {
      "cell_type": "code",
      "execution_count": 51,
      "metadata": {
        "colab": {
          "base_uri": "https://localhost:8080/",
          "height": 295
        },
        "id": "x6SC5abkBgFx",
        "outputId": "1ad61df3-68c3-4c59-d947-094c4b880ff9"
      },
      "outputs": [
        {
          "output_type": "display_data",
          "data": {
            "text/plain": [
              "<Figure size 432x288 with 1 Axes>"
            ],
            "image/png": "[encoded data removed]"
          },
          "metadata": {
            "needs_background": "light"
          }
        }
      ],
      "source": [
        "log_price = np.log1p(df_scolaships.monto_contratado)\n",
        "\n",
        "plt.figure(figsize=(6, 4))\n",
        "\n",
        "sns.histplot(log_price, bins=50, color='black', alpha=1)\n",
        "plt.ylabel('Frequency')\n",
        "plt.xlabel('Log Amount Scholarship')\n",
        "plt.title('Distribution Log(Amounts +1)')\n",
        "plt.show()"
      ]
    },
    {
      "cell_type": "markdown",
      "metadata": {
        "id": "0JntPKACTxmr"
      },
      "source": [
        "## EDA"
      ]
    },
    {
      "cell_type": "markdown",
      "source": [
        "### Features Analysis"
      ],
      "metadata": {
        "id": "eTdfbS5_pTQN"
      }
    },
    {
      "cell_type": "code",
      "execution_count": 52,
      "metadata": {
        "colab": {
          "base_uri": "https://localhost:8080/"
        },
        "id": "-nLZXVwkUQDi",
        "outputId": "1fd0133e-4a3b-4a98-d2ce-6d5f37e316d7"
      },
      "outputs": [
        {
          "output_type": "execute_result",
          "data": {
            "text/plain": [
              "25.0    1833\n",
              "23.0    1807\n",
              "26.0    1727\n",
              "24.0    1713\n",
              "22.0    1220\n",
              "27.0    1140\n",
              "28.0     812\n",
              "32.0     771\n",
              "34.0     765\n",
              "33.0     756\n",
              "Name: age, dtype: int64"
            ]
          },
          "metadata": {},
          "execution_count": 52
        }
      ],
      "source": [
        "#@ Predominant age to scholarships\n",
        "df_scolaships.age.value_counts().head(10)"
      ]
    },
    {
      "cell_type": "code",
      "execution_count": 56,
      "metadata": {
        "colab": {
          "base_uri": "https://localhost:8080/",
          "height": 1000
        },
        "id": "D23B4ftsDFOs",
        "outputId": "03b9804d-9944-46de-e0a1-f4d71dc69b51"
      },
      "outputs": [
        {
          "output_type": "display_data",
          "data": {
            "text/plain": [
              "'id_unico'"
            ],
            "application/vnd.google.colaboratory.intrinsic+json": {
              "type": "string"
            }
          },
          "metadata": {}
        },
        {
          "output_type": "display_data",
          "data": {
            "text/plain": [
              "1641212038    26\n",
              "1641211738    21\n",
              "1641212401    12\n",
              "1641219265    11\n",
              "1641211731    11\n",
              "Name: id_unico, dtype: int64"
            ]
          },
          "metadata": {}
        },
        {
          "output_type": "display_data",
          "data": {
            "text/plain": [
              "'etnia'"
            ],
            "application/vnd.google.colaboratory.intrinsic+json": {
              "type": "string"
            }
          },
          "metadata": {}
        },
        {
          "output_type": "display_data",
          "data": {
            "text/plain": [
              "mestizo             16155\n",
              "indigena             1150\n",
              "montuvio             1111\n",
              "afrodescendiente      283\n",
              "blanco                205\n",
              "Name: etnia, dtype: int64"
            ]
          },
          "metadata": {}
        },
        {
          "output_type": "display_data",
          "data": {
            "text/plain": [
              "'genero'"
            ],
            "application/vnd.google.colaboratory.intrinsic+json": {
              "type": "string"
            }
          },
          "metadata": {}
        },
        {
          "output_type": "display_data",
          "data": {
            "text/plain": [
              "femenino     10522\n",
              "masculino     8421\n",
              "Name: genero, dtype: int64"
            ]
          },
          "metadata": {}
        },
        {
          "output_type": "display_data",
          "data": {
            "text/plain": [
              "'discapacidad'"
            ],
            "application/vnd.google.colaboratory.intrinsic+json": {
              "type": "string"
            }
          },
          "metadata": {}
        },
        {
          "output_type": "display_data",
          "data": {
            "text/plain": [
              "no    17643\n",
              "si     1300\n",
              "Name: discapacidad, dtype: int64"
            ]
          },
          "metadata": {}
        },
        {
          "output_type": "display_data",
          "data": {
            "text/plain": [
              "'tipo_discapacidad'"
            ],
            "application/vnd.google.colaboratory.intrinsic+json": {
              "type": "string"
            }
          },
          "metadata": {}
        },
        {
          "output_type": "display_data",
          "data": {
            "text/plain": [
              "ninguna        7361\n",
              "fisica         4628\n",
              "intelectual    2721\n",
              "visual         2387\n",
              "auditiva       1524\n",
              "Name: tipo_discapacidad, dtype: int64"
            ]
          },
          "metadata": {}
        },
        {
          "output_type": "display_data",
          "data": {
            "text/plain": [
              "'porcentaje_discapacidad'"
            ],
            "application/vnd.google.colaboratory.intrinsic+json": {
              "type": "string"
            }
          },
          "metadata": {}
        },
        {
          "output_type": "display_data",
          "data": {
            "text/plain": [
              "0          7362\n",
              "40          964\n",
              "51 a 70     581\n",
              "45          558\n",
              "71 a 90     529\n",
              "Name: porcentaje_discapacidad, dtype: int64"
            ]
          },
          "metadata": {}
        },
        {
          "output_type": "display_data",
          "data": {
            "text/plain": [
              "'estado_civil'"
            ],
            "application/vnd.google.colaboratory.intrinsic+json": {
              "type": "string"
            }
          },
          "metadata": {}
        },
        {
          "output_type": "display_data",
          "data": {
            "text/plain": [
              "soltero(a)           16367\n",
              "casado(a)             2225\n",
              "divorciado(a)          271\n",
              "en union de hecho       41\n",
              "union libre             27\n",
              "Name: estado_civil, dtype: int64"
            ]
          },
          "metadata": {}
        },
        {
          "output_type": "display_data",
          "data": {
            "text/plain": [
              "'fecha_de_nacimiento'"
            ],
            "application/vnd.google.colaboratory.intrinsic+json": {
              "type": "string"
            }
          },
          "metadata": {}
        },
        {
          "output_type": "display_data",
          "data": {
            "text/plain": [
              "22/06/1999    14\n",
              "22/09/1997    13\n",
              "01/11/1999    13\n",
              "26/11/1996    13\n",
              "25/07/1996    12\n",
              "Name: fecha_de_nacimiento, dtype: int64"
            ]
          },
          "metadata": {}
        },
        {
          "output_type": "display_data",
          "data": {
            "text/plain": [
              "'provincia_nacimiento_homologada'"
            ],
            "application/vnd.google.colaboratory.intrinsic+json": {
              "type": "string"
            }
          },
          "metadata": {}
        },
        {
          "output_type": "display_data",
          "data": {
            "text/plain": [
              "pichincha    3339\n",
              "manabi       2458\n",
              "guayas       2305\n",
              "azuay        1513\n",
              "loja         1193\n",
              "Name: provincia_nacimiento_homologada, dtype: int64"
            ]
          },
          "metadata": {}
        },
        {
          "output_type": "display_data",
          "data": {
            "text/plain": [
              "'provincia_nacimiento'"
            ],
            "application/vnd.google.colaboratory.intrinsic+json": {
              "type": "string"
            }
          },
          "metadata": {}
        },
        {
          "output_type": "display_data",
          "data": {
            "text/plain": [
              "pichincha    3338\n",
              "manabi       2458\n",
              "guayas       2305\n",
              "azuay        1513\n",
              "loja         1193\n",
              "Name: provincia_nacimiento, dtype: int64"
            ]
          },
          "metadata": {}
        },
        {
          "output_type": "display_data",
          "data": {
            "text/plain": [
              "'canton_nacimiento'"
            ],
            "application/vnd.google.colaboratory.intrinsic+json": {
              "type": "string"
            }
          },
          "metadata": {}
        },
        {
          "output_type": "display_data",
          "data": {
            "text/plain": [
              "quito        3152\n",
              "guayaquil    1741\n",
              "cuenca       1212\n",
              "ambato        632\n",
              "loja          623\n",
              "Name: canton_nacimiento, dtype: int64"
            ]
          },
          "metadata": {}
        },
        {
          "output_type": "display_data",
          "data": {
            "text/plain": [
              "'zona_senplades_lugar_nacimiento'"
            ],
            "application/vnd.google.colaboratory.intrinsic+json": {
              "type": "string"
            }
          },
          "metadata": {}
        },
        {
          "output_type": "display_data",
          "data": {
            "text/plain": [
              "zona 9    3153\n",
              "zona 4    2903\n",
              "zona 7    2463\n",
              "zona 6    2272\n",
              "zona 3    2013\n",
              "Name: zona_senplades_lugar_nacimiento, dtype: int64"
            ]
          },
          "metadata": {}
        },
        {
          "output_type": "display_data",
          "data": {
            "text/plain": [
              "'provincia_residencia_homologada'"
            ],
            "application/vnd.google.colaboratory.intrinsic+json": {
              "type": "string"
            }
          },
          "metadata": {}
        },
        {
          "output_type": "display_data",
          "data": {
            "text/plain": [
              "pichincha    4316\n",
              "guayas       2486\n",
              "manabi       2289\n",
              "azuay        1599\n",
              "loja         1066\n",
              "Name: provincia_residencia_homologada, dtype: int64"
            ]
          },
          "metadata": {}
        },
        {
          "output_type": "display_data",
          "data": {
            "text/plain": [
              "'provincia_residencia'"
            ],
            "application/vnd.google.colaboratory.intrinsic+json": {
              "type": "string"
            }
          },
          "metadata": {}
        },
        {
          "output_type": "display_data",
          "data": {
            "text/plain": [
              "pichincha    4316\n",
              "guayas       2486\n",
              "manabi       2289\n",
              "azuay        1599\n",
              "loja         1066\n",
              "Name: provincia_residencia, dtype: int64"
            ]
          },
          "metadata": {}
        },
        {
          "output_type": "display_data",
          "data": {
            "text/plain": [
              "'canton_residencia'"
            ],
            "application/vnd.google.colaboratory.intrinsic+json": {
              "type": "string"
            }
          },
          "metadata": {}
        },
        {
          "output_type": "display_data",
          "data": {
            "text/plain": [
              "quito         3976\n",
              "guayaquil     1641\n",
              "cuenca        1355\n",
              "loja           865\n",
              "portoviejo     565\n",
              "Name: canton_residencia, dtype: int64"
            ]
          },
          "metadata": {}
        },
        {
          "output_type": "display_data",
          "data": {
            "text/plain": [
              "'programa_general'"
            ],
            "application/vnd.google.colaboratory.intrinsic+json": {
              "type": "string"
            }
          },
          "metadata": {}
        },
        {
          "output_type": "display_data",
          "data": {
            "text/plain": [
              "programa de becas senescyt        13889\n",
              "cooperacion interinstitucional     3653\n",
              "cooperacion internacional           937\n",
              "personas con discapacidad           464\n",
              "Name: programa_general, dtype: int64"
            ]
          },
          "metadata": {}
        },
        {
          "output_type": "display_data",
          "data": {
            "text/plain": [
              "'subprograma'"
            ],
            "application/vnd.google.colaboratory.intrinsic+json": {
              "type": "string"
            }
          },
          "metadata": {}
        },
        {
          "output_type": "display_data",
          "data": {
            "text/plain": [
              "eloy alfaro                                   6571\n",
              "becas nacionales tercer nivel                 3847\n",
              "fortalecimiento al talento humano en salud    2542\n",
              "convocatoria abierta                          1228\n",
              "universidades de excelencia                    743\n",
              "Name: subprograma, dtype: int64"
            ]
          },
          "metadata": {}
        },
        {
          "output_type": "display_data",
          "data": {
            "text/plain": [
              "'convocatoria'"
            ],
            "application/vnd.google.colaboratory.intrinsic+json": {
              "type": "string"
            }
          },
          "metadata": {}
        },
        {
          "output_type": "display_data",
          "data": {
            "text/plain": [
              "2018    4230\n",
              "2017    4224\n",
              "2015    2993\n",
              "2016    2885\n",
              "2019    1662\n",
              "Name: convocatoria, dtype: int64"
            ]
          },
          "metadata": {}
        },
        {
          "output_type": "display_data",
          "data": {
            "text/plain": [
              "'componente'"
            ],
            "application/vnd.google.colaboratory.intrinsic+json": {
              "type": "string"
            }
          },
          "metadata": {}
        },
        {
          "output_type": "display_data",
          "data": {
            "text/plain": [
              "carreras de interes publico             2229\n",
              "vulnerable                              1874\n",
              "bono de desarrollo humano               1396\n",
              "grupo de alto rendimiento               1384\n",
              "situacion socio economica vulnerable    1283\n",
              "Name: componente, dtype: int64"
            ]
          },
          "metadata": {}
        },
        {
          "output_type": "display_data",
          "data": {
            "text/plain": [
              "'destino'"
            ],
            "application/vnd.google.colaboratory.intrinsic+json": {
              "type": "string"
            }
          },
          "metadata": {}
        },
        {
          "output_type": "display_data",
          "data": {
            "text/plain": [
              "nacional         14892\n",
              "internacional     4051\n",
              "Name: destino, dtype: int64"
            ]
          },
          "metadata": {}
        },
        {
          "output_type": "display_data",
          "data": {
            "text/plain": [
              "'financiamiento'"
            ],
            "application/vnd.google.colaboratory.intrinsic+json": {
              "type": "string"
            }
          },
          "metadata": {}
        },
        {
          "output_type": "display_data",
          "data": {
            "text/plain": [
              "senescyt                14828\n",
              "msp                      2009\n",
              "secretaria amazonica      664\n",
              "iess                      533\n",
              "ex ifth                   464\n",
              "Name: financiamiento, dtype: int64"
            ]
          },
          "metadata": {}
        },
        {
          "output_type": "display_data",
          "data": {
            "text/plain": [
              "'centro_estudios_beca'"
            ],
            "application/vnd.google.colaboratory.intrinsic+json": {
              "type": "string"
            }
          },
          "metadata": {}
        },
        {
          "output_type": "display_data",
          "data": {
            "text/plain": [
              "universidad central del ecuador           1588\n",
              "universidad de guayaquil                  1151\n",
              "universidad nacional de educacion unae    1038\n",
              "universidad nacional de loja               670\n",
              "universidad tecnica de machala             578\n",
              "Name: centro_estudios_beca, dtype: int64"
            ]
          },
          "metadata": {}
        },
        {
          "output_type": "display_data",
          "data": {
            "text/plain": [
              "'ies_de_estudios_homologada'"
            ],
            "application/vnd.google.colaboratory.intrinsic+json": {
              "type": "string"
            }
          },
          "metadata": {}
        },
        {
          "output_type": "display_data",
          "data": {
            "text/plain": [
              "universidad central del ecuador                  1588\n",
              "universidad de guayaquil                         1151\n",
              "universidad nacional de educacion unae           1038\n",
              "universidad laica eloy alfaro de manabi uleam     675\n",
              "universidad nacional de loja                      670\n",
              "Name: ies_de_estudios_homologada, dtype: int64"
            ]
          },
          "metadata": {}
        },
        {
          "output_type": "display_data",
          "data": {
            "text/plain": [
              "'pais_de_estudios'"
            ],
            "application/vnd.google.colaboratory.intrinsic+json": {
              "type": "string"
            }
          },
          "metadata": {}
        },
        {
          "output_type": "display_data",
          "data": {
            "text/plain": [
              "ecuador           14892\n",
              "reino unido         651\n",
              "españa              642\n",
              "estados unidos      458\n",
              "paises bajos        282\n",
              "Name: pais_de_estudios, dtype: int64"
            ]
          },
          "metadata": {}
        },
        {
          "output_type": "display_data",
          "data": {
            "text/plain": [
              "'nivel_de_estudios'"
            ],
            "application/vnd.google.colaboratory.intrinsic+json": {
              "type": "string"
            }
          },
          "metadata": {}
        },
        {
          "output_type": "display_data",
          "data": {
            "text/plain": [
              "pregrado                           10261\n",
              "postgrado                           4939\n",
              "tecnico / tecnologico               2401\n",
              "nivelacion y capacitacion            841\n",
              "educacion basica y bachillerato      481\n",
              "Name: nivel_de_estudios, dtype: int64"
            ]
          },
          "metadata": {}
        },
        {
          "output_type": "display_data",
          "data": {
            "text/plain": [
              "'nivel_detallado'"
            ],
            "application/vnd.google.colaboratory.intrinsic+json": {
              "type": "string"
            }
          },
          "metadata": {}
        },
        {
          "output_type": "display_data",
          "data": {
            "text/plain": [
              "pregrado                 10261\n",
              "tecnico / tecnologico     2401\n",
              "especializacion           2211\n",
              "maestria                  2166\n",
              "capacitacion               683\n",
              "Name: nivel_detallado, dtype: int64"
            ]
          },
          "metadata": {}
        },
        {
          "output_type": "display_data",
          "data": {
            "text/plain": [
              "'carrera'"
            ],
            "application/vnd.google.colaboratory.intrinsic+json": {
              "type": "string"
            }
          },
          "metadata": {}
        },
        {
          "output_type": "display_data",
          "data": {
            "text/plain": [
              "medicina                                 921\n",
              "medicina familiar y comunitaria          833\n",
              "educacion basica                         737\n",
              "tecnico en atencion primaria en salud    566\n",
              "contabilidad y auditoria                 482\n",
              "Name: carrera, dtype: int64"
            ]
          },
          "metadata": {}
        },
        {
          "output_type": "display_data",
          "data": {
            "text/plain": [
              "'area_de_estudio'"
            ],
            "application/vnd.google.colaboratory.intrinsic+json": {
              "type": "string"
            }
          },
          "metadata": {}
        },
        {
          "output_type": "display_data",
          "data": {
            "text/plain": [
              "salud y bienestar                              4680\n",
              "educacion                                      3746\n",
              "ingenieria, industria y construccion           2950\n",
              "administracion de empresas y derecho           1860\n",
              "ciencias sociales, periodismo e informacion    1071\n",
              "Name: area_de_estudio, dtype: int64"
            ]
          },
          "metadata": {}
        },
        {
          "output_type": "display_data",
          "data": {
            "text/plain": [
              "'subarea_de_estudio'"
            ],
            "application/vnd.google.colaboratory.intrinsic+json": {
              "type": "string"
            }
          },
          "metadata": {}
        },
        {
          "output_type": "display_data",
          "data": {
            "text/plain": [
              "salud                                                    4522\n",
              "educacion                                                3745\n",
              "ingenieria y profesiones afines                          1918\n",
              "educacion comercial y administracion                     1617\n",
              "tecnologias de la informacion y la comunicacion (tic)    1009\n",
              "Name: subarea_de_estudio, dtype: int64"
            ]
          },
          "metadata": {}
        },
        {
          "output_type": "display_data",
          "data": {
            "text/plain": [
              "'area_estudio_detallado'"
            ],
            "application/vnd.google.colaboratory.intrinsic+json": {
              "type": "string"
            }
          },
          "metadata": {}
        },
        {
          "output_type": "display_data",
          "data": {
            "text/plain": [
              "medicina                          3887\n",
              "ciencias de la educacion          3301\n",
              "gestion y administracion           755\n",
              "produccion agricola y ganadera     727\n",
              "contabilidad e impuestos           699\n",
              "Name: area_estudio_detallado, dtype: int64"
            ]
          },
          "metadata": {}
        },
        {
          "output_type": "display_data",
          "data": {
            "text/plain": [
              "'fecha_de_suscripcion'"
            ],
            "application/vnd.google.colaboratory.intrinsic+json": {
              "type": "string"
            }
          },
          "metadata": {}
        },
        {
          "output_type": "display_data",
          "data": {
            "text/plain": [
              "30/11/2020    342\n",
              "11/12/2015    179\n",
              "18/12/2019    142\n",
              "14/05/2021    138\n",
              "12/09/2018    132\n",
              "Name: fecha_de_suscripcion, dtype: int64"
            ]
          },
          "metadata": {}
        },
        {
          "output_type": "display_data",
          "data": {
            "text/plain": [
              "'fecha_inicio_financiamiento'"
            ],
            "application/vnd.google.colaboratory.intrinsic+json": {
              "type": "string"
            }
          },
          "metadata": {}
        },
        {
          "output_type": "display_data",
          "data": {
            "text/plain": [
              "20/07/2018    1085\n",
              "09/07/2018     830\n",
              "02/03/2018     601\n",
              "07/05/2019     579\n",
              "05/10/2015     573\n",
              "Name: fecha_inicio_financiamiento, dtype: int64"
            ]
          },
          "metadata": {}
        },
        {
          "output_type": "display_data",
          "data": {
            "text/plain": [
              "'fecha_fin_financiamiento'"
            ],
            "application/vnd.google.colaboratory.intrinsic+json": {
              "type": "string"
            }
          },
          "metadata": {}
        },
        {
          "output_type": "display_data",
          "data": {
            "text/plain": [
              "04/10/2017    570\n",
              "28/02/2022    465\n",
              "30/09/2021    461\n",
              "30/09/2022    446\n",
              "30/09/2020    435\n",
              "Name: fecha_fin_financiamiento, dtype: int64"
            ]
          },
          "metadata": {}
        },
        {
          "output_type": "display_data",
          "data": {
            "text/plain": [
              "'monto_contratado'"
            ],
            "application/vnd.google.colaboratory.intrinsic+json": {
              "type": "string"
            }
          },
          "metadata": {}
        },
        {
          "output_type": "display_data",
          "data": {
            "text/plain": [
              "81468.0    349\n",
              "52424.0    154\n",
              "2000.0     124\n",
              "9920.0     103\n",
              "1000.0      94\n",
              "Name: monto_contratado, dtype: int64"
            ]
          },
          "metadata": {}
        },
        {
          "output_type": "display_data",
          "data": {
            "text/plain": [
              "'fecha_inicio_estudios'"
            ],
            "application/vnd.google.colaboratory.intrinsic+json": {
              "type": "string"
            }
          },
          "metadata": {}
        },
        {
          "output_type": "display_data",
          "data": {
            "text/plain": [
              "05/10/2015    678\n",
              "10/10/2017    567\n",
              "03/10/2016    517\n",
              "06/11/2017    272\n",
              "25/11/2019    259\n",
              "Name: fecha_inicio_estudios, dtype: int64"
            ]
          },
          "metadata": {}
        },
        {
          "output_type": "display_data",
          "data": {
            "text/plain": [
              "'fecha_fin_estudios'"
            ],
            "application/vnd.google.colaboratory.intrinsic+json": {
              "type": "string"
            }
          },
          "metadata": {}
        },
        {
          "output_type": "display_data",
          "data": {
            "text/plain": [
              "04/10/2017    569\n",
              "28/02/2022    464\n",
              "30/09/2021    460\n",
              "30/09/2022    455\n",
              "30/09/2020    411\n",
              "Name: fecha_fin_estudios, dtype: int64"
            ]
          },
          "metadata": {}
        },
        {
          "output_type": "display_data",
          "data": {
            "text/plain": [
              "'estado_estudiante'"
            ],
            "application/vnd.google.colaboratory.intrinsic+json": {
              "type": "string"
            }
          },
          "metadata": {}
        },
        {
          "output_type": "display_data",
          "data": {
            "text/plain": [
              "termino estudios                   5792\n",
              "becario en estudios                5092\n",
              "becario en compensacion            1555\n",
              "ex becario                         1534\n",
              "becario no reporta compensacion    1401\n",
              "Name: estado_estudiante, dtype: int64"
            ]
          },
          "metadata": {}
        },
        {
          "output_type": "display_data",
          "data": {
            "text/plain": [
              "'estado_beca'"
            ],
            "application/vnd.google.colaboratory.intrinsic+json": {
              "type": "string"
            }
          },
          "metadata": {}
        },
        {
          "output_type": "display_data",
          "data": {
            "text/plain": [
              "termino estudios / compensacion    5740\n",
              "en estudios                        5092\n",
              "seguimiento a la compensacion      4264\n",
              "ex becario                         1786\n",
              "incumplidos                        1407\n",
              "Name: estado_beca, dtype: int64"
            ]
          },
          "metadata": {}
        },
        {
          "output_type": "display_data",
          "data": {
            "text/plain": [
              "'age'"
            ],
            "application/vnd.google.colaboratory.intrinsic+json": {
              "type": "string"
            }
          },
          "metadata": {}
        },
        {
          "output_type": "display_data",
          "data": {
            "text/plain": [
              "25.0    1833\n",
              "23.0    1807\n",
              "26.0    1727\n",
              "24.0    1713\n",
              "22.0    1220\n",
              "Name: age, dtype: int64"
            ]
          },
          "metadata": {}
        },
        {
          "output_type": "display_data",
          "data": {
            "text/plain": [
              "'fecha_inicio_estudios_rec'"
            ],
            "application/vnd.google.colaboratory.intrinsic+json": {
              "type": "string"
            }
          },
          "metadata": {}
        },
        {
          "output_type": "display_data",
          "data": {
            "text/plain": [
              "2018-07-20    1085\n",
              "2018-07-09     830\n",
              "2018-03-02     601\n",
              "2019-05-07     579\n",
              "2015-10-05     573\n",
              "Name: fecha_inicio_estudios_rec, dtype: int64"
            ]
          },
          "metadata": {}
        },
        {
          "output_type": "display_data",
          "data": {
            "text/plain": [
              "'anio_inicio_estudios'"
            ],
            "application/vnd.google.colaboratory.intrinsic+json": {
              "type": "string"
            }
          },
          "metadata": {}
        },
        {
          "output_type": "display_data",
          "data": {
            "text/plain": [
              "2018.0    5890\n",
              "2015.0    4261\n",
              "2016.0    3111\n",
              "2017.0    2893\n",
              "2019.0    1908\n",
              "Name: anio_inicio_estudios, dtype: int64"
            ]
          },
          "metadata": {}
        }
      ],
      "source": [
        "#@ Analyze columns scholarships\n",
        "for col in df_scolaships.columns :\n",
        "    display(col,  df_scolaships[col].value_counts().head())\n",
        "    # display(col,  df_scolaships[col].unique())\n",
        "    # df_group = df_scolaships.groupby(by=col).monto_contratado.agg(['mean']) \n",
        "    # df_group['mean'] = df_group['mean'].round(2)\n",
        "    # df_group['diff'] = (df_group['mean'] - global_mean).round(2)\n",
        "    # df_group['risk'] = (df_group['mean'] / global_mean).round(2)\n",
        "    # display(df_group.sort_values(by='mean', ascending=False))"
      ]
    },
    {
      "cell_type": "code",
      "execution_count": 59,
      "metadata": {
        "id": "HwdI7lMqTul6"
      },
      "outputs": [],
      "source": [
        "#@ Choose only features necesaries\n",
        "categorical = [\n",
        "    'etnia', 'genero', 'discapacidad', 'tipo_discapacidad',\n",
        "    'estado_civil',  'provincia_nacimiento_homologada', \n",
        "    'canton_nacimiento', 'provincia_residencia_homologada', \n",
        "    'programa_general', \n",
        "    'destino', 'financiamiento',\n",
        "    'pais_de_estudios', 'ies_de_estudios_homologada',\n",
        "    'nivel_detallado', 'carrera', 'area_de_estudio',\n",
        "    \n",
        "    ########################## Elminados por no relevancia ##########################\n",
        "    # 'id_unico',  \n",
        "    # 'estado_estudiante', 'estado_beca',\n",
        "    # 'ies_de_estudios_homologada'\n",
        "    # convocatoria -- Porque es el año en el que fue generado laconvocatoria\n",
        "    # porcentaje_discapacidad REVISAR\n",
        "    ########################## Elminados por que ya se tiene su derivado ##########################\n",
        "    #'fecha_de_nacimiento', 'fecha_fin_estudios','fecha_inicio_estudios_rec',\n",
        "    #'fecha_inicio_estudios', 'fecha_de_suscripcion',\n",
        "    #'fecha_inicio_financiamiento', 'fecha_fin_financiamiento', \n",
        "    # 'provincia_nacimiento',  'zona_senplades_lugar_nacimiento', \n",
        "    # 'provincia_residencia', 'canton_residencia', \n",
        "    # 'subprograma',\n",
        "    # 'nivel_de_estudios'\n",
        "    #  'subarea_de_estudio', 'area_estudio_detallado'\n",
        "    # Componente => Se elimina porque deberíamos tener algo que las agrupe\n",
        "    # centro_estudios_beca Se tiene la homoloagada\n",
        "\n",
        "]\n",
        "\n",
        "numerical = ['monto_contratado', 'age']"
      ]
    },
    {
      "cell_type": "code",
      "execution_count": 57,
      "metadata": {
        "colab": {
          "base_uri": "https://localhost:8080/",
          "height": 206
        },
        "id": "f5kErxU491F0",
        "outputId": "6a5dc5c3-b232-4fec-f05c-f9b74793e954"
      },
      "outputs": [
        {
          "output_type": "execute_result",
          "data": {
            "text/plain": [
              "   convocatoria  count\n",
              "12         2018   4230\n",
              "11         2017   4224\n",
              "9          2015   2993\n",
              "10         2016   2885\n",
              "13         2019   1662"
            ],
            "text/html": [
              "\n",
              "  <div id=\"df-46f192dd-bfac-40ca-9980-16e504f304a0\">\n",
              "    <div class=\"colab-df-container\">\n",
              "      <div>\n",
              "<style scoped>\n",
              "    .dataframe tbody tr th:only-of-type {\n",
              "        vertical-align: middle;\n",
              "    }\n",
              "\n",
              "    .dataframe tbody tr th {\n",
              "        vertical-align: top;\n",
              "    }\n",
              "\n",
              "    .dataframe thead th {\n",
              "        text-align: right;\n",
              "    }\n",
              "</style>\n",
              "<table border=\"1\" class=\"dataframe\">\n",
              "  <thead>\n",
              "    <tr style=\"text-align: right;\">\n",
              "      <th></th>\n",
              "      <th>convocatoria</th>\n",
              "      <th>count</th>\n",
              "    </tr>\n",
              "  </thead>\n",
              "  <tbody>\n",
              "    <tr>\n",
              "      <th>12</th>\n",
              "      <td>2018</td>\n",
              "      <td>4230</td>\n",
              "    </tr>\n",
              "    <tr>\n",
              "      <th>11</th>\n",
              "      <td>2017</td>\n",
              "      <td>4224</td>\n",
              "    </tr>\n",
              "    <tr>\n",
              "      <th>9</th>\n",
              "      <td>2015</td>\n",
              "      <td>2993</td>\n",
              "    </tr>\n",
              "    <tr>\n",
              "      <th>10</th>\n",
              "      <td>2016</td>\n",
              "      <td>2885</td>\n",
              "    </tr>\n",
              "    <tr>\n",
              "      <th>13</th>\n",
              "      <td>2019</td>\n",
              "      <td>1662</td>\n",
              "    </tr>\n",
              "  </tbody>\n",
              "</table>\n",
              "</div>\n",
              "      <button class=\"colab-df-convert\" onclick=\"convertToInteractive('df-46f192dd-bfac-40ca-9980-16e504f304a0')\"\n",
              "              title=\"Convert this dataframe to an interactive table.\"\n",
              "              style=\"display:none;\">\n",
              "        \n",
              "  <svg xmlns=\"http://www.w3.org/2000/svg\" height=\"24px\"viewBox=\"0 0 24 24\"\n",
              "       width=\"24px\">\n",
              "    <path d=\"M0 0h24v24H0V0z\" fill=\"none\"/>\n",
              "    <path d=\"M18.56 5.44l.94 2.06.94-2.06 2.06-.94-2.06-.94-.94-2.06-.94 2.06-2.06.94zm-11 1L8.5 8.5l.94-2.06 2.06-.94-2.06-.94L8.5 2.5l-.94 2.06-2.06.94zm10 10l.94 2.06.94-2.06 2.06-.94-2.06-.94-.94-2.06-.94 2.06-2.06.94z\"/><path d=\"M17.41 7.96l-1.37-1.37c-.4-.4-.92-.59-1.43-.59-.52 0-1.04.2-1.43.59L10.3 9.45l-7.72 7.72c-.78.78-.78 2.05 0 2.83L4 21.41c.39.39.9.59 1.41.59.51 0 1.02-.2 1.41-.59l7.78-7.78 2.81-2.81c.8-.78.8-2.07 0-2.86zM5.41 20L4 18.59l7.72-7.72 1.47 1.35L5.41 20z\"/>\n",
              "  </svg>\n",
              "      </button>\n",
              "      \n",
              "  <style>\n",
              "    .colab-df-container {\n",
              "      display:flex;\n",
              "      flex-wrap:wrap;\n",
              "      gap: 12px;\n",
              "    }\n",
              "\n",
              "    .colab-df-convert {\n",
              "      background-color: #E8F0FE;\n",
              "      border: none;\n",
              "      border-radius: 50%;\n",
              "      cursor: pointer;\n",
              "      display: none;\n",
              "      fill: #1967D2;\n",
              "      height: 32px;\n",
              "      padding: 0 0 0 0;\n",
              "      width: 32px;\n",
              "    }\n",
              "\n",
              "    .colab-df-convert:hover {\n",
              "      background-color: #E2EBFA;\n",
              "      box-shadow: 0px 1px 2px rgba(60, 64, 67, 0.3), 0px 1px 3px 1px rgba(60, 64, 67, 0.15);\n",
              "      fill: #174EA6;\n",
              "    }\n",
              "\n",
              "    [theme=dark] .colab-df-convert {\n",
              "      background-color: #3B4455;\n",
              "      fill: #D2E3FC;\n",
              "    }\n",
              "\n",
              "    [theme=dark] .colab-df-convert:hover {\n",
              "      background-color: #434B5C;\n",
              "      box-shadow: 0px 1px 3px 1px rgba(0, 0, 0, 0.15);\n",
              "      filter: drop-shadow(0px 1px 2px rgba(0, 0, 0, 0.3));\n",
              "      fill: #FFFFFF;\n",
              "    }\n",
              "  </style>\n",
              "\n",
              "      <script>\n",
              "        const buttonEl =\n",
              "          document.querySelector('#df-46f192dd-bfac-40ca-9980-16e504f304a0 button.colab-df-convert');\n",
              "        buttonEl.style.display =\n",
              "          google.colab.kernel.accessAllowed ? 'block' : 'none';\n",
              "\n",
              "        async function convertToInteractive(key) {\n",
              "          const element = document.querySelector('#df-46f192dd-bfac-40ca-9980-16e504f304a0');\n",
              "          const dataTable =\n",
              "            await google.colab.kernel.invokeFunction('convertToInteractive',\n",
              "                                                     [key], {});\n",
              "          if (!dataTable) return;\n",
              "\n",
              "          const docLinkHtml = 'Like what you see? Visit the ' +\n",
              "            '<a target=\"_blank\" href=https://colab.research.google.com/notebooks/data_table.ipynb>data table notebook</a>'\n",
              "            + ' to learn more about interactive tables.';\n",
              "          element.innerHTML = '';\n",
              "          dataTable['output_type'] = 'display_data';\n",
              "          await google.colab.output.renderOutput(dataTable, element);\n",
              "          const docLink = document.createElement('div');\n",
              "          docLink.innerHTML = docLinkHtml;\n",
              "          element.appendChild(docLink);\n",
              "        }\n",
              "      </script>\n",
              "    </div>\n",
              "  </div>\n",
              "  "
            ]
          },
          "metadata": {},
          "execution_count": 57
        }
      ],
      "source": [
        "df_scolaships.groupby(by='convocatoria')\\\n",
        "                .subprograma.agg(['count'])\\\n",
        "                .reset_index()\\\n",
        "                .sort_values(by='count', ascending=False)\\\n",
        "                .head()"
      ]
    },
    {
      "cell_type": "markdown",
      "metadata": {
        "id": "0uEwq5OrnsT5"
      },
      "source": [
        "### Split Train-Test"
      ]
    },
    {
      "cell_type": "code",
      "execution_count": 60,
      "metadata": {
        "id": "Y9iRNQVanwOO"
      },
      "outputs": [],
      "source": [
        "df_full_train, df_test = train_test_split(df_scolaships[categorical + numerical], test_size=0.2, random_state=1)\n",
        "df_train, df_val = train_test_split(df_full_train, test_size=0.25, random_state=1)\n",
        "\n",
        "df_train = df_train.reset_index(drop=True)\n",
        "df_val = df_val.reset_index(drop=True)\n",
        "df_test = df_test.reset_index(drop=True)\n",
        "\n",
        "y_train = np.log1p(df_train.monto_contratado.values)\n",
        "y_val = np.log1p(df_val.monto_contratado.values)\n",
        "y_test = np.log1p(df_test.monto_contratado.values)\n",
        "\n",
        "del df_train['monto_contratado']\n",
        "del df_val['monto_contratado']\n",
        "del df_test['monto_contratado']"
      ]
    },
    {
      "cell_type": "markdown",
      "metadata": {
        "id": "9IcCkZBuT1vR"
      },
      "source": [
        "### Mutual Information (Target Variable)"
      ]
    },
    {
      "cell_type": "code",
      "execution_count": 61,
      "metadata": {
        "colab": {
          "base_uri": "https://localhost:8080/"
        },
        "id": "58BSX1OjJlXX",
        "outputId": "4b0d936c-c73d-411f-ac83-b9187c0cb679"
      },
      "outputs": [
        {
          "output_type": "execute_result",
          "data": {
            "text/plain": [
              "etnia                              0\n",
              "genero                             0\n",
              "discapacidad                       0\n",
              "tipo_discapacidad                  0\n",
              "estado_civil                       0\n",
              "provincia_nacimiento_homologada    0\n",
              "canton_nacimiento                  0\n",
              "provincia_residencia_homologada    0\n",
              "programa_general                   0\n",
              "destino                            0\n",
              "financiamiento                     0\n",
              "pais_de_estudios                   0\n",
              "ies_de_estudios_homologada         0\n",
              "nivel_detallado                    0\n",
              "carrera                            0\n",
              "area_de_estudio                    0\n",
              "dtype: int64"
            ]
          },
          "metadata": {},
          "execution_count": 61
        }
      ],
      "source": [
        "df_full_train[categorical].isnull().sum()"
      ]
    },
    {
      "cell_type": "code",
      "execution_count": 65,
      "metadata": {
        "colab": {
          "base_uri": "https://localhost:8080/"
        },
        "id": "FYesG5IoT-ch",
        "outputId": "a6740b60-80a9-4989-b76e-29623a70b916"
      },
      "outputs": [
        {
          "output_type": "execute_result",
          "data": {
            "text/plain": [
              "carrera                            5.402948\n",
              "ies_de_estudios_homologada         4.374308\n",
              "canton_nacimiento                  3.299837\n",
              "provincia_residencia_homologada    2.238481\n",
              "provincia_nacimiento_homologada    2.198382\n",
              "area_de_estudio                    1.868256\n",
              "nivel_detallado                    1.417980\n",
              "pais_de_estudios                   1.106922\n",
              "tipo_discapacidad                  1.032222\n",
              "financiamiento                     0.828233\n",
              "programa_general                   0.764708\n",
              "destino                            0.500743\n",
              "etnia                              0.439649\n",
              "genero                             0.410523\n",
              "estado_civil                       0.313306\n",
              "discapacidad                       0.214266\n",
              "dtype: float64"
            ]
          },
          "metadata": {},
          "execution_count": 65
        }
      ],
      "source": [
        "mi = df_full_train[categorical].apply(mutual_info_amount_score)\n",
        "mi.sort_values(ascending=False)"
      ]
    },
    {
      "cell_type": "markdown",
      "metadata": {
        "id": "aBhUx17eT4xN"
      },
      "source": [
        "### Correlation"
      ]
    },
    {
      "cell_type": "code",
      "execution_count": null,
      "metadata": {
        "id": "_pVr0YiHT4MR"
      },
      "outputs": [],
      "source": [
        "#@ Por el momento no se necesita"
      ]
    },
    {
      "cell_type": "markdown",
      "metadata": {
        "id": "TvF7FI9ONuGE"
      },
      "source": [
        "### One-hot encoding"
      ]
    },
    {
      "cell_type": "code",
      "execution_count": 66,
      "metadata": {
        "colab": {
          "base_uri": "https://localhost:8080/"
        },
        "id": "UX8uYyWRo0xG",
        "outputId": "a227f31c-98b2-490e-b2c0-ce88930334b4"
      },
      "outputs": [
        {
          "output_type": "execute_result",
          "data": {
            "text/plain": [
              "(11365, 3789, 3789)"
            ]
          },
          "metadata": {},
          "execution_count": 66
        }
      ],
      "source": [
        "len(df_train), len(df_val), len(df_test)"
      ]
    },
    {
      "cell_type": "code",
      "execution_count": 67,
      "metadata": {
        "colab": {
          "base_uri": "https://localhost:8080/"
        },
        "id": "mDlzOCqnN_av",
        "outputId": "3c72fdcc-940a-4807-ccac-77fbbcf5f157"
      },
      "outputs": [
        {
          "output_type": "execute_result",
          "data": {
            "text/plain": [
              "['etnia',\n",
              " 'genero',\n",
              " 'discapacidad',\n",
              " 'tipo_discapacidad',\n",
              " 'estado_civil',\n",
              " 'provincia_nacimiento_homologada',\n",
              " 'canton_nacimiento',\n",
              " 'provincia_residencia_homologada',\n",
              " 'programa_general',\n",
              " 'destino',\n",
              " 'financiamiento',\n",
              " 'pais_de_estudios',\n",
              " 'ies_de_estudios_homologada',\n",
              " 'nivel_detallado',\n",
              " 'carrera',\n",
              " 'area_de_estudio',\n",
              " 'monto_contratado',\n",
              " 'age']"
            ]
          },
          "metadata": {},
          "execution_count": 67
        }
      ],
      "source": [
        "categorical + numerical"
      ]
    },
    {
      "cell_type": "code",
      "execution_count": 68,
      "metadata": {
        "id": "tPqEHEdLaQQu"
      },
      "outputs": [],
      "source": [
        "columns = categorical+ [ 'age']"
      ]
    },
    {
      "cell_type": "code",
      "execution_count": 69,
      "metadata": {
        "id": "jdPRizWVN3Sb"
      },
      "outputs": [],
      "source": [
        "dv = DictVectorizer(sparse=False)\n",
        "\n",
        "train_dict = df_train[columns].to_dict(orient='records')\n",
        "X_train = dv.fit_transform(train_dict)\n",
        "\n",
        "val_dict = df_val[columns].to_dict(orient='records')\n",
        "X_val = dv.transform(val_dict)"
      ]
    },
    {
      "cell_type": "markdown",
      "source": [
        "## Model Selection"
      ],
      "metadata": {
        "id": "PNCkN9bXri_A"
      }
    },
    {
      "cell_type": "markdown",
      "metadata": {
        "id": "0IPg3qeqf6nk"
      },
      "source": [
        "### Linear Regression"
      ]
    },
    {
      "cell_type": "code",
      "execution_count": null,
      "metadata": {
        "id": "FEaGk95c9rLT"
      },
      "outputs": [],
      "source": [
        "linear_reg = LinearRegression().fit(X_train, y_train)"
      ]
    },
    {
      "cell_type": "code",
      "execution_count": null,
      "metadata": {
        "id": "FEhjX3La-vCQ"
      },
      "outputs": [],
      "source": [
        "y_pred = linear_reg.predict(X_val)"
      ]
    },
    {
      "cell_type": "code",
      "execution_count": null,
      "metadata": {
        "colab": {
          "base_uri": "https://localhost:8080/"
        },
        "id": "ncmKOswy-fHz",
        "outputId": "15ec7638-b9b0-49a4-c71c-c57d0c92ef26"
      },
      "outputs": [
        {
          "data": {
            "text/plain": [
              "15783538.702643203"
            ]
          },
          "execution_count": 41,
          "metadata": {},
          "output_type": "execute_result"
        }
      ],
      "source": [
        "rmse_val = rmse(y_val, y_pred)\n",
        "rmse_val"
      ]
    },
    {
      "cell_type": "code",
      "execution_count": null,
      "metadata": {
        "colab": {
          "base_uri": "https://localhost:8080/"
        },
        "id": "AT7jwT_uf6MD",
        "outputId": "77521183-c04a-4472-e59f-4a03821b5446"
      },
      "outputs": [
        {
          "name": "stdout",
          "output_type": "stream",
          "text": [
            "0.0 0.5908150047731456\n",
            "1e-05 0.5908149968624886\n",
            "0.0001 0.5908149256683702\n",
            "0.001 0.5908142139151377\n",
            "0.1 0.5907183595566584\n",
            "1 0.5903089658896978\n",
            "10 0.5942161870700305\n"
          ]
        }
      ],
      "source": [
        "for r in [0.0, 0.00001, 0.0001, 0.001, 0.1, 1, 10]:\n",
        "\n",
        "    # train_dict = df_train[columns].to_dict(orient='records')\n",
        "    # dv = DictVectorizer(sparse=False)\n",
        "    # dv.fit(train_dict)\n",
        "    # X_train = dv.transform(train_dict)\n",
        "\n",
        "    # model = LogisticRegression(solver='liblinear', C=1.0, max_iter=1000, random_state=42)\n",
        "    model = Ridge(alpha = r, max_iter=1000,  solver=\"sag\", random_state=42).fit(X_train, y_train)\n",
        "    model.fit(X_train, y_train)\n",
        "\n",
        "    # val_dict = df_val[columns].to_dict(orient='records')\n",
        "    # X_val = dv.transform(val_dict)\n",
        "    y_pred = model.predict(X_val)\n",
        "\n",
        "    score = rmse(y_val, y_pred)\n",
        "    print(r, score)"
      ]
    },
    {
      "cell_type": "markdown",
      "metadata": {
        "id": "EC6lTrxMEHJB"
      },
      "source": [
        "### RidgeRegression"
      ]
    },
    {
      "cell_type": "code",
      "execution_count": null,
      "metadata": {
        "colab": {
          "base_uri": "https://localhost:8080/"
        },
        "id": "h26_IHGFBjn6",
        "outputId": "0ad541ec-528b-432b-ee68-cd2222ce7e1f"
      },
      "outputs": [
        {
          "name": "stdout",
          "output_type": "stream",
          "text": [
            "etnia -0.0 0.59\n",
            "genero -0.0 0.59\n",
            "discapacidad -0.0 0.59\n",
            "tipo_discapacidad -0.0 0.59\n",
            "estado_civil -0.0 0.59\n",
            "provincia_nacimiento_homologada -0.0 0.59\n",
            "canton_nacimiento -0.0 0.59\n",
            "provincia_residencia_homologada -0.0 0.59\n",
            "programa_general -0.02 0.61\n",
            "destino -0.0 0.59\n",
            "financiamiento -0.02 0.61\n",
            "pais_de_estudios -0.02 0.61\n",
            "ies_de_estudios_homologada -0.03 0.62\n",
            "nivel_detallado -0.18 0.77\n",
            "carrera -0.03 0.62\n",
            "area_de_estudio -0.01 0.6\n",
            "age -0.01 0.6\n"
          ]
        }
      ],
      "source": [
        "r = 10\n",
        "orig_score = 0.59\n",
        "\n",
        "for c in columns:\n",
        "    subset = columns.copy()\n",
        "    subset.remove(c)\n",
        "\n",
        "    train_dict = df_train[subset].to_dict(orient='records')\n",
        "    dv = DictVectorizer(sparse=False)\n",
        "    dv.fit(train_dict)\n",
        "\n",
        "    X_train = dv.transform(train_dict)\n",
        "    # model = LogisticRegression(solver='liblinear', C=1.0, max_iter=1000, random_state=42)\n",
        "    model = Ridge(alpha = r, max_iter=1000,solver=\"sag\", random_state=42).fit(X_train, y_train)\n",
        "    model.fit(X_train, y_train)\n",
        "\n",
        "    val_dict = df_val[subset].to_dict(orient='records')\n",
        "    X_val = dv.transform(val_dict)\n",
        "    y_pred = model.predict(X_val)\n",
        "\n",
        "    score = rmse(y_val, y_pred)\n",
        "    print(c,round( orig_score - score, 2), round(score, 2))\n"
      ]
    },
    {
      "cell_type": "markdown",
      "metadata": {
        "id": "FpKZWWnsPd5g"
      },
      "source": [
        "### Decision Tree"
      ]
    },
    {
      "cell_type": "code",
      "execution_count": null,
      "metadata": {
        "id": "swvae70bUllQ"
      },
      "outputs": [],
      "source": [
        "from sklearn.tree import DecisionTreeRegressor"
      ]
    },
    {
      "cell_type": "code",
      "execution_count": null,
      "metadata": {
        "colab": {
          "base_uri": "https://localhost:8080/"
        },
        "id": "jqqrt6b6VrpM",
        "outputId": "b373d963-8ccc-4f7e-cc0a-f4a21b3c4ee8"
      },
      "outputs": [
        {
          "data": {
            "text/plain": [
              "array([[27.,  0.,  0., ...,  0.,  0.,  0.],\n",
              "       [29.,  0.,  0., ...,  0.,  0.,  0.],\n",
              "       [25.,  0.,  0., ...,  0.,  0.,  0.],\n",
              "       ...,\n",
              "       [36.,  0.,  0., ...,  0.,  0.,  0.],\n",
              "       [42.,  0.,  0., ...,  0.,  0.,  0.],\n",
              "       [26.,  0.,  0., ...,  0.,  0.,  0.]])"
            ]
          },
          "execution_count": 49,
          "metadata": {},
          "output_type": "execute_result"
        }
      ],
      "source": [
        "X_val"
      ]
    },
    {
      "cell_type": "code",
      "execution_count": null,
      "metadata": {
        "id": "fZ67qGNSWaF8"
      },
      "outputs": [],
      "source": [
        "def rmse(y, y_pred):\n",
        "    se = (y - y_pred) ** 2\n",
        "    mse = se.mean()\n",
        "    return np.sqrt(mse)"
      ]
    },
    {
      "cell_type": "code",
      "execution_count": null,
      "metadata": {
        "colab": {
          "base_uri": "https://localhost:8080/"
        },
        "id": "IOe07RFtPgni",
        "outputId": "d7e62854-3e96-436e-da77-7cb50e466c21"
      },
      "outputs": [
        {
          "name": "stdout",
          "output_type": "stream",
          "text": [
            "   1 -> 1.261\n",
            "   2 -> 1.108\n",
            "   3 -> 0.936\n",
            "   4 -> 0.788\n",
            "   5 -> 0.713\n",
            "   6 -> 0.665\n",
            "  10 -> 0.582\n",
            "  15 -> 0.588\n",
            "  20 -> 0.595\n",
            "None -> 0.696\n"
          ]
        }
      ],
      "source": [
        "depths = [1, 2, 3, 4, 5, 6, 10, 15, 20, None]\n",
        "\n",
        "for depth in depths: \n",
        "    dt = DecisionTreeRegressor(max_depth=depth)\n",
        "    dt.fit(X_train, y_train)\n",
        "    \n",
        "    y_pred = dt.predict(X_val)\n",
        "    # print(y_pred)\n",
        "    score = rmse(y_val, y_pred)\n",
        "    \n",
        "    print('%4s -> %.3f' % (depth, score))"
      ]
    },
    {
      "cell_type": "code",
      "execution_count": null,
      "metadata": {
        "colab": {
          "base_uri": "https://localhost:8080/"
        },
        "id": "MyF7YmJnY1cr",
        "outputId": "c9239962-7c3b-4270-dc08-2ba1ff8d0b16"
      },
      "outputs": [
        {
          "name": "stdout",
          "output_type": "stream",
          "text": [
            "|--- nivel_detallado=nivelacion <= 0.50\n",
            "|   |--- value: [9.80]\n",
            "|--- nivel_detallado=nivelacion >  0.50\n",
            "|   |--- value: [6.82]\n",
            "\n"
          ]
        }
      ],
      "source": [
        "dt = DecisionTreeRegressor(max_depth=1)\n",
        "dt.fit(X_train, y_train)\n",
        "print(export_text(dt, feature_names=dv.feature_names_))"
      ]
    },
    {
      "cell_type": "code",
      "execution_count": null,
      "metadata": {
        "id": "mOVCjgvlWdwi"
      },
      "outputs": [],
      "source": [
        "scores = []\n",
        "\n",
        "for depth in [10, 15, 20]:\n",
        "    for s in [1, 5, 10, 15, 20, 500, 100, 200]:\n",
        "        dt = DecisionTreeRegressor(max_depth=depth, min_samples_leaf=s)\n",
        "        dt.fit(X_train, y_train)\n",
        "\n",
        "        y_pred = dt.predict(X_val)\n",
        "        score = rmse(y_val, y_pred)\n",
        "        \n",
        "        scores.append((depth, s, score))"
      ]
    },
    {
      "cell_type": "code",
      "execution_count": null,
      "metadata": {
        "id": "pM1GAC8AZhfR"
      },
      "outputs": [],
      "source": [
        "columns = ['max_depth', 'min_samples_leaf', 'score']\n",
        "df_scores = pd.DataFrame(scores, columns=columns)"
      ]
    },
    {
      "cell_type": "code",
      "execution_count": null,
      "metadata": {
        "colab": {
          "base_uri": "https://localhost:8080/",
          "height": 363
        },
        "id": "EiSRxA8oXg5B",
        "outputId": "c836cc5a-c160-42e9-d7f1-fa281e63bcdd"
      },
      "outputs": [
        {
          "data": {
            "text/html": [
              "\n",
              "  <div id=\"df-bddca96d-c669-429b-812f-853ca6369934\">\n",
              "    <div class=\"colab-df-container\">\n",
              "      <div>\n",
              "<style scoped>\n",
              "    .dataframe tbody tr th:only-of-type {\n",
              "        vertical-align: middle;\n",
              "    }\n",
              "\n",
              "    .dataframe tbody tr th {\n",
              "        vertical-align: top;\n",
              "    }\n",
              "\n",
              "    .dataframe thead tr th {\n",
              "        text-align: left;\n",
              "    }\n",
              "\n",
              "    .dataframe thead tr:last-of-type th {\n",
              "        text-align: right;\n",
              "    }\n",
              "</style>\n",
              "<table border=\"1\" class=\"dataframe\">\n",
              "  <thead>\n",
              "    <tr>\n",
              "      <th></th>\n",
              "      <th colspan=\"3\" halign=\"left\">score</th>\n",
              "    </tr>\n",
              "    <tr>\n",
              "      <th>max_depth</th>\n",
              "      <th>10</th>\n",
              "      <th>15</th>\n",
              "      <th>20</th>\n",
              "    </tr>\n",
              "    <tr>\n",
              "      <th>min_samples_leaf</th>\n",
              "      <th></th>\n",
              "      <th></th>\n",
              "      <th></th>\n",
              "    </tr>\n",
              "  </thead>\n",
              "  <tbody>\n",
              "    <tr>\n",
              "      <th>1</th>\n",
              "      <td>0.583</td>\n",
              "      <td>0.591</td>\n",
              "      <td>0.595</td>\n",
              "    </tr>\n",
              "    <tr>\n",
              "      <th>5</th>\n",
              "      <td>0.576</td>\n",
              "      <td>0.564</td>\n",
              "      <td>0.569</td>\n",
              "    </tr>\n",
              "    <tr>\n",
              "      <th>10</th>\n",
              "      <td>0.582</td>\n",
              "      <td>0.566</td>\n",
              "      <td>0.572</td>\n",
              "    </tr>\n",
              "    <tr>\n",
              "      <th>15</th>\n",
              "      <td>0.583</td>\n",
              "      <td>0.568</td>\n",
              "      <td>0.571</td>\n",
              "    </tr>\n",
              "    <tr>\n",
              "      <th>20</th>\n",
              "      <td>0.589</td>\n",
              "      <td>0.577</td>\n",
              "      <td>0.578</td>\n",
              "    </tr>\n",
              "    <tr>\n",
              "      <th>100</th>\n",
              "      <td>0.607</td>\n",
              "      <td>0.602</td>\n",
              "      <td>0.601</td>\n",
              "    </tr>\n",
              "    <tr>\n",
              "      <th>200</th>\n",
              "      <td>0.628</td>\n",
              "      <td>0.623</td>\n",
              "      <td>0.624</td>\n",
              "    </tr>\n",
              "    <tr>\n",
              "      <th>500</th>\n",
              "      <td>0.707</td>\n",
              "      <td>0.707</td>\n",
              "      <td>0.707</td>\n",
              "    </tr>\n",
              "  </tbody>\n",
              "</table>\n",
              "</div>\n",
              "      <button class=\"colab-df-convert\" onclick=\"convertToInteractive('df-bddca96d-c669-429b-812f-853ca6369934')\"\n",
              "              title=\"Convert this dataframe to an interactive table.\"\n",
              "              style=\"display:none;\">\n",
              "        \n",
              "  <svg xmlns=\"http://www.w3.org/2000/svg\" height=\"24px\"viewBox=\"0 0 24 24\"\n",
              "       width=\"24px\">\n",
              "    <path d=\"M0 0h24v24H0V0z\" fill=\"none\"/>\n",
              "    <path d=\"M18.56 5.44l.94 2.06.94-2.06 2.06-.94-2.06-.94-.94-2.06-.94 2.06-2.06.94zm-11 1L8.5 8.5l.94-2.06 2.06-.94-2.06-.94L8.5 2.5l-.94 2.06-2.06.94zm10 10l.94 2.06.94-2.06 2.06-.94-2.06-.94-.94-2.06-.94 2.06-2.06.94z\"/><path d=\"M17.41 7.96l-1.37-1.37c-.4-.4-.92-.59-1.43-.59-.52 0-1.04.2-1.43.59L10.3 9.45l-7.72 7.72c-.78.78-.78 2.05 0 2.83L4 21.41c.39.39.9.59 1.41.59.51 0 1.02-.2 1.41-.59l7.78-7.78 2.81-2.81c.8-.78.8-2.07 0-2.86zM5.41 20L4 18.59l7.72-7.72 1.47 1.35L5.41 20z\"/>\n",
              "  </svg>\n",
              "      </button>\n",
              "      \n",
              "  <style>\n",
              "    .colab-df-container {\n",
              "      display:flex;\n",
              "      flex-wrap:wrap;\n",
              "      gap: 12px;\n",
              "    }\n",
              "\n",
              "    .colab-df-convert {\n",
              "      background-color: #E8F0FE;\n",
              "      border: none;\n",
              "      border-radius: 50%;\n",
              "      cursor: pointer;\n",
              "      display: none;\n",
              "      fill: #1967D2;\n",
              "      height: 32px;\n",
              "      padding: 0 0 0 0;\n",
              "      width: 32px;\n",
              "    }\n",
              "\n",
              "    .colab-df-convert:hover {\n",
              "      background-color: #E2EBFA;\n",
              "      box-shadow: 0px 1px 2px rgba(60, 64, 67, 0.3), 0px 1px 3px 1px rgba(60, 64, 67, 0.15);\n",
              "      fill: #174EA6;\n",
              "    }\n",
              "\n",
              "    [theme=dark] .colab-df-convert {\n",
              "      background-color: #3B4455;\n",
              "      fill: #D2E3FC;\n",
              "    }\n",
              "\n",
              "    [theme=dark] .colab-df-convert:hover {\n",
              "      background-color: #434B5C;\n",
              "      box-shadow: 0px 1px 3px 1px rgba(0, 0, 0, 0.15);\n",
              "      filter: drop-shadow(0px 1px 2px rgba(0, 0, 0, 0.3));\n",
              "      fill: #FFFFFF;\n",
              "    }\n",
              "  </style>\n",
              "\n",
              "      <script>\n",
              "        const buttonEl =\n",
              "          document.querySelector('#df-bddca96d-c669-429b-812f-853ca6369934 button.colab-df-convert');\n",
              "        buttonEl.style.display =\n",
              "          google.colab.kernel.accessAllowed ? 'block' : 'none';\n",
              "\n",
              "        async function convertToInteractive(key) {\n",
              "          const element = document.querySelector('#df-bddca96d-c669-429b-812f-853ca6369934');\n",
              "          const dataTable =\n",
              "            await google.colab.kernel.invokeFunction('convertToInteractive',\n",
              "                                                     [key], {});\n",
              "          if (!dataTable) return;\n",
              "\n",
              "          const docLinkHtml = 'Like what you see? Visit the ' +\n",
              "            '<a target=\"_blank\" href=https://colab.research.google.com/notebooks/data_table.ipynb>data table notebook</a>'\n",
              "            + ' to learn more about interactive tables.';\n",
              "          element.innerHTML = '';\n",
              "          dataTable['output_type'] = 'display_data';\n",
              "          await google.colab.output.renderOutput(dataTable, element);\n",
              "          const docLink = document.createElement('div');\n",
              "          docLink.innerHTML = docLinkHtml;\n",
              "          element.appendChild(docLink);\n",
              "        }\n",
              "      </script>\n",
              "    </div>\n",
              "  </div>\n",
              "  "
            ],
            "text/plain": [
              "                  score              \n",
              "max_depth            10     15     20\n",
              "min_samples_leaf                     \n",
              "1                 0.583  0.591  0.595\n",
              "5                 0.576  0.564  0.569\n",
              "10                0.582  0.566  0.572\n",
              "15                0.583  0.568  0.571\n",
              "20                0.589  0.577  0.578\n",
              "100               0.607  0.602  0.601\n",
              "200               0.628  0.623  0.624\n",
              "500               0.707  0.707  0.707"
            ]
          },
          "execution_count": 74,
          "metadata": {},
          "output_type": "execute_result"
        }
      ],
      "source": [
        "df_scores_pivot = df_scores.pivot(index='min_samples_leaf', columns=['max_depth'], values=['score'])\n",
        "df_scores_pivot.round(3)"
      ]
    },
    {
      "cell_type": "code",
      "execution_count": null,
      "metadata": {
        "colab": {
          "base_uri": "https://localhost:8080/",
          "height": 297
        },
        "id": "pUhhsVznWp2d",
        "outputId": "24563e90-b536-49e7-da9a-6179a530a604"
      },
      "outputs": [
        {
          "data": {
            "text/plain": [
              "<matplotlib.axes._subplots.AxesSubplot at 0x7f0313a48d30>"
            ]
          },
          "execution_count": 75,
          "metadata": {},
          "output_type": "execute_result"
        },
        {
          "data": {
            "image/png": "[encoded data removed]",
            "text/plain": [
              "<Figure size 432x288 with 2 Axes>"
            ]
          },
          "metadata": {},
          "output_type": "display_data"
        }
      ],
      "source": [
        "sns.heatmap(df_scores_pivot, annot=True, fmt=\".3f\")"
      ]
    },
    {
      "cell_type": "code",
      "execution_count": null,
      "metadata": {
        "colab": {
          "base_uri": "https://localhost:8080/"
        },
        "id": "go75Mx-RXabn",
        "outputId": "c0a7ddee-4ce5-4b23-be8d-58ac068d47a1"
      },
      "outputs": [
        {
          "data": {
            "text/plain": [
              "DecisionTreeRegressor(max_depth=15, min_samples_leaf=10)"
            ]
          },
          "execution_count": 76,
          "metadata": {},
          "output_type": "execute_result"
        }
      ],
      "source": [
        "dt = DecisionTreeRegressor(max_depth=15, min_samples_leaf=10)\n",
        "dt.fit(X_train, y_train)"
      ]
    },
    {
      "cell_type": "code",
      "execution_count": null,
      "metadata": {
        "id": "z0kx0ojBbYBT"
      },
      "outputs": [],
      "source": [
        "print(export_text(dt, feature_names=dv.get_feature_names()))"
      ]
    },
    {
      "cell_type": "code",
      "execution_count": null,
      "metadata": {
        "colab": {
          "base_uri": "https://localhost:8080/"
        },
        "id": "Ww6DhlnOXmvM",
        "outputId": "6a191ff3-6d8b-4420-9131-c4112bf77277"
      },
      "outputs": [
        {
          "data": {
            "text/plain": [
              "0.566"
            ]
          },
          "execution_count": 80,
          "metadata": {},
          "output_type": "execute_result"
        }
      ],
      "source": [
        "y_pred = dt.predict(X_val)\n",
        "score = rmse(y_val, y_pred)\n",
        "score.round(3)"
      ]
    },
    {
      "cell_type": "markdown",
      "metadata": {
        "id": "XBzmKkZJOdjH"
      },
      "source": [
        "### RandomForest"
      ]
    },
    {
      "cell_type": "code",
      "execution_count": null,
      "metadata": {
        "id": "BGEZ4_n1Ogi3"
      },
      "outputs": [],
      "source": [
        "from tqdm.auto import tqdm\n",
        "from sklearn.tree import DecisionTreeRegressor\n",
        "from sklearn.tree import export_text\n",
        "from sklearn.feature_extraction import DictVectorizer\n",
        "from sklearn.model_selection import train_test_split\n",
        "from sklearn.ensemble import RandomForestRegressor\n",
        "from sklearn.metrics import mean_squared_error"
      ]
    },
    {
      "cell_type": "markdown",
      "source": [
        "#### Estimadores"
      ],
      "metadata": {
        "id": "Nh6ZJsmOURD6"
      }
    },
    {
      "cell_type": "code",
      "execution_count": null,
      "metadata": {
        "id": "Xl16J4nMclBY"
      },
      "outputs": [],
      "source": [
        "scores = []\n",
        "\n",
        "for n in range(10, 201, 10):\n",
        "    print(n)\n",
        "    rf = RandomForestRegressor(n_estimators=n, random_state=1)\n",
        "    rf.fit(X_train, y_train)\n",
        "\n",
        "    y_pred = rf.predict(X_val)\n",
        "    score = rmse(y_val, y_pred)\n",
        "    \n",
        "    scores.append((n, score))"
      ]
    },
    {
      "cell_type": "code",
      "execution_count": null,
      "metadata": {
        "colab": {
          "base_uri": "https://localhost:8080/",
          "height": 282
        },
        "id": "IXS6bfRsdIhB",
        "outputId": "7f4959b1-c105-4f9e-a982-e7fc335a3f61"
      },
      "outputs": [
        {
          "data": {
            "text/plain": [
              "[<matplotlib.lines.Line2D at 0x7f692d3ab640>]"
            ]
          },
          "execution_count": 59,
          "metadata": {},
          "output_type": "execute_result"
        },
        {
          "data": {
            "image/png": "[encoded data removed]",
            "text/plain": [
              "<Figure size 432x288 with 1 Axes>"
            ]
          },
          "metadata": {},
          "output_type": "display_data"
        }
      ],
      "source": [
        "df_scores = pd.DataFrame(scores, columns=['n_estimators', 'score'])\n",
        "plt.plot(df_scores.n_estimators, df_scores.score)"
      ]
    },
    {
      "cell_type": "code",
      "execution_count": null,
      "metadata": {
        "id": "zJra4CX0Sy0a"
      },
      "outputs": [],
      "source": [
        "score_model = 0.398\n",
        "n_estimators = 50"
      ]
    },
    {
      "cell_type": "markdown",
      "source": [
        "#### Max Depth\n"
      ],
      "metadata": {
        "id": "9DaGQm-SUXoa"
      }
    },
    {
      "cell_type": "code",
      "execution_count": null,
      "metadata": {
        "id": "WHAEtYz5j-FM"
      },
      "outputs": [],
      "source": [
        "scores = []\n",
        "\n",
        "for d in [5, 10, 15]:\n",
        "    print('d', d)\n",
        "    for n in range(10, 201, 10):\n",
        "        print('n', n)\n",
        "        rf = RandomForestRegressor(n_estimators=n,\n",
        "                                    max_depth=d,\n",
        "                                    random_state=1)\n",
        "        rf.fit(X_train, y_train)\n",
        "\n",
        "        y_pred = rf.predict(X_val)\n",
        "        score = rmse(y_val, y_pred)\n",
        "\n",
        "        scores.append((d, n, score))"
      ]
    },
    {
      "cell_type": "code",
      "execution_count": null,
      "metadata": {
        "id": "WZ363jVPkDnK"
      },
      "outputs": [],
      "source": [
        "columns = ['max_depth', 'n_estimators', 'score']\n",
        "df_scores = pd.DataFrame(scores, columns=columns)"
      ]
    },
    {
      "cell_type": "code",
      "execution_count": null,
      "metadata": {
        "id": "28U1J3jaTjAI",
        "colab": {
          "base_uri": "https://localhost:8080/",
          "height": 282
        },
        "outputId": "4ad84a9b-bd70-4e6b-b0f3-dfe13ed57b9d"
      },
      "outputs": [
        {
          "output_type": "execute_result",
          "data": {
            "text/plain": [
              "<matplotlib.legend.Legend at 0x7f199aed5dc0>"
            ]
          },
          "metadata": {},
          "execution_count": 47
        },
        {
          "output_type": "display_data",
          "data": {
            "text/plain": [
              "<Figure size 432x288 with 1 Axes>"
            ],
            "image/png": "[encoded data removed]"
          },
          "metadata": {
            "needs_background": "light"
          }
        }
      ],
      "source": [
        "for d in [5, 10, 15]:\n",
        "    df_subset = df_scores[df_scores.max_depth == d]\n",
        "    \n",
        "    plt.plot(df_subset.n_estimators, df_subset.score,\n",
        "             label='max_depth=%d' % d)\n",
        "\n",
        "plt.legend()"
      ]
    },
    {
      "cell_type": "markdown",
      "source": [
        "#### Leafs\n"
      ],
      "metadata": {
        "id": "bQ_4CaJ4UeiZ"
      }
    },
    {
      "cell_type": "code",
      "execution_count": null,
      "metadata": {
        "id": "n8WLI33CT01O"
      },
      "outputs": [],
      "source": [
        "max_depth = 15\n",
        "scores = []\n",
        "\n",
        "for s in [1, 3, 5, 10, 50]:\n",
        "    print('s',s)\n",
        "    for n in range(10, 201, 10):\n",
        "        print('n',n)\n",
        "        rf = RandomForestRegressor(n_estimators=n,\n",
        "                                    max_depth=max_depth,\n",
        "                                    min_samples_leaf=s,\n",
        "                                    random_state=1)\n",
        "        rf.fit(X_train, y_train)\n",
        "\n",
        "        y_pred = rf.predict(X_val)\n",
        "        score = rmse(y_val, y_pred)\n",
        "\n",
        "        scores.append((s, n, score))"
      ]
    },
    {
      "cell_type": "code",
      "execution_count": null,
      "metadata": {
        "id": "fDOmhhN3UDfS"
      },
      "outputs": [],
      "source": [
        "columns = ['min_samples_leaf', 'n_estimators', 'score']\n",
        "df_scores = pd.DataFrame(scores, columns=columns)"
      ]
    },
    {
      "cell_type": "code",
      "execution_count": null,
      "metadata": {
        "id": "t1uBhdFIUGOl",
        "colab": {
          "base_uri": "https://localhost:8080/",
          "height": 282
        },
        "outputId": "4ce6821d-92b0-4c84-8774-b4b3b60512e4"
      },
      "outputs": [
        {
          "output_type": "execute_result",
          "data": {
            "text/plain": [
              "<matplotlib.legend.Legend at 0x7f1999c096d0>"
            ]
          },
          "metadata": {},
          "execution_count": 51
        },
        {
          "output_type": "display_data",
          "data": {
            "text/plain": [
              "<Figure size 432x288 with 1 Axes>"
            ],
            "image/png": "[encoded data removed]"
          },
          "metadata": {
            "needs_background": "light"
          }
        }
      ],
      "source": [
        "colors = ['black', 'blue', 'orange', 'red', 'grey']\n",
        "values = [1, 3, 5, 10, 50]\n",
        "\n",
        "for s, col in zip(values, colors):\n",
        "    df_subset = df_scores[df_scores.min_samples_leaf == s]\n",
        "    \n",
        "    plt.plot(df_subset.n_estimators, df_subset.score,\n",
        "             color=col,\n",
        "             label='min_samples_leaf=%d' % s)\n",
        "\n",
        "plt.legend()"
      ]
    },
    {
      "cell_type": "code",
      "execution_count": null,
      "metadata": {
        "colab": {
          "base_uri": "https://localhost:8080/"
        },
        "id": "KbmKWc3KOqVB",
        "outputId": "43b284ae-cc74-4e48-dd98-b60272501e07"
      },
      "outputs": [
        {
          "output_type": "execute_result",
          "data": {
            "text/plain": [
              "RandomForestRegressor(max_depth=15, n_estimators=200, random_state=1)"
            ]
          },
          "metadata": {},
          "execution_count": 52
        }
      ],
      "source": [
        "min_samples_leaf = 1\n",
        "rf = RandomForestRegressor(n_estimators=200,\n",
        "                            max_depth=max_depth,\n",
        "                            min_samples_leaf=min_samples_leaf,\n",
        "                            random_state=1)\n",
        "rf.fit(X_train, y_train)\n"
      ]
    },
    {
      "cell_type": "code",
      "source": [
        "y_pred = rf.predict(X_val)\n",
        "score = rmse(y_val, y_pred)\n",
        "score"
      ],
      "metadata": {
        "colab": {
          "base_uri": "https://localhost:8080/"
        },
        "id": "CA0XsO1Lg-pJ",
        "outputId": "34d1d2aa-f026-4cb4-dec8-c1ff2a6f91e6"
      },
      "execution_count": null,
      "outputs": [
        {
          "output_type": "execute_result",
          "data": {
            "text/plain": [
              "0.3297198896965495"
            ]
          },
          "metadata": {},
          "execution_count": 53
        }
      ]
    },
    {
      "cell_type": "markdown",
      "source": [
        "### XGBoost"
      ],
      "metadata": {
        "id": "cbv8IHt3hqcC"
      }
    },
    {
      "cell_type": "code",
      "source": [
        "import xgboost as xgb"
      ],
      "metadata": {
        "id": "bxQynH7shx_a"
      },
      "execution_count": null,
      "outputs": []
    },
    {
      "cell_type": "code",
      "source": [
        "features = dv.get_feature_names_out()\n",
        "dtrain = xgb.DMatrix(X_train, label=y_train, feature_names=features)\n",
        "dval = xgb.DMatrix(X_val, label=y_val, feature_names=features)"
      ],
      "metadata": {
        "id": "54cRv9f2h0nB"
      },
      "execution_count": null,
      "outputs": []
    },
    {
      "cell_type": "code",
      "source": [
        "watchlist = [(dtrain, 'train'), (dval, 'val')]"
      ],
      "metadata": {
        "id": "yv1tPHaZiiqp"
      },
      "execution_count": null,
      "outputs": []
    },
    {
      "cell_type": "code",
      "source": [
        "scores = {}    "
      ],
      "metadata": {
        "id": "BBJ-LdyI8nkx"
      },
      "execution_count": null,
      "outputs": []
    },
    {
      "cell_type": "code",
      "source": [
        "#@ DEFINING THE FUNCTION:\n",
        "def parse_xgb_output(output):\n",
        "    results = []\n",
        "\n",
        "    for line in output.stdout.strip().split('\\n'):\n",
        "        it_line, train_line, val_line = line.split('\\t')\n",
        "\n",
        "        it = int(it_line.strip('[]'))\n",
        "        train = float(train_line.split(':')[1])\n",
        "        val = float(val_line.split(':')[1])\n",
        "\n",
        "        results.append((it, train, val))\n",
        "    \n",
        "    columns = ['num_iter', 'train_rmse', 'val_rmse']\n",
        "    df_results = pd.DataFrame(results, columns=columns)\n",
        "    return df_results"
      ],
      "metadata": {
        "id": "w9lxg4S88Ny-"
      },
      "execution_count": null,
      "outputs": []
    },
    {
      "cell_type": "code",
      "source": [
        "%%capture output\n",
        "xgb_params = {\n",
        "    'eta': 0.3, \n",
        "    'max_depth': 6,\n",
        "    'min_child_weight': 1,\n",
        "\n",
        "    'objective': 'reg:squarederror',\n",
        "    'nthread': 8,\n",
        "\n",
        "    'seed': 1,\n",
        "    'verbosity': 1,\n",
        "}\n",
        "\n",
        "model = xgb.train(xgb_params, dtrain, num_boost_round=100,\n",
        "                  verbose_eval=5, evals=watchlist)\n",
        "scores['eta=0.3'] = parse_xgb_output(output)\n"
      ],
      "metadata": {
        "id": "b-AVCNLzh_JC"
      },
      "execution_count": null,
      "outputs": []
    },
    {
      "cell_type": "code",
      "source": [
        "y_pred = model.predict(dval)\n",
        "score = rmse(y_val, y_pred)\n",
        "score"
      ],
      "metadata": {
        "colab": {
          "base_uri": "https://localhost:8080/"
        },
        "id": "xhMxMmY9iY-7",
        "outputId": "dc20ff69-200b-45c0-aab9-63860e715f3e"
      },
      "execution_count": null,
      "outputs": [
        {
          "output_type": "execute_result",
          "data": {
            "text/plain": [
              "0.32327428"
            ]
          },
          "metadata": {},
          "execution_count": 60
        }
      ]
    },
    {
      "cell_type": "code",
      "source": [
        "%%capture output\n",
        "xgb_params = {\n",
        "    'eta': 0.1, \n",
        "    'max_depth': 6,\n",
        "    'min_child_weight': 1,\n",
        "\n",
        "    'objective': 'reg:squarederror',\n",
        "    'nthread': 8,\n",
        "\n",
        "    'seed': 1,\n",
        "    'verbosity': 1,\n",
        "}\n",
        "\n",
        "model = xgb.train(xgb_params, dtrain, num_boost_round=100,\n",
        "                  verbose_eval=5, evals=watchlist)\n",
        "scores['eta=0.1'] = parse_xgb_output(output)"
      ],
      "metadata": {
        "id": "zHaDpXAE7zQ6"
      },
      "execution_count": null,
      "outputs": []
    },
    {
      "cell_type": "code",
      "source": [
        "#@ INSPECTION:\n",
        "plt.plot(scores['eta=0.1'].num_iter, scores['eta=0.1'].val_rmse,\n",
        "        label='0.1')\n",
        "plt.plot(scores['eta=0.3'].num_iter, scores['eta=0.3'].val_rmse,\n",
        "        label='0.3')\n",
        "plt.legend()\n",
        "plt.show()"
      ],
      "metadata": {
        "colab": {
          "base_uri": "https://localhost:8080/",
          "height": 265
        },
        "id": "l8Zc9BYT9a1D",
        "outputId": "a33a75f8-babe-4720-a77a-265916d6a190"
      },
      "execution_count": null,
      "outputs": [
        {
          "output_type": "display_data",
          "data": {
            "text/plain": [
              "<Figure size 432x288 with 1 Axes>"
            ],
            "image/png": "[encoded data removed]"
          },
          "metadata": {
            "needs_background": "light"
          }
        }
      ]
    },
    {
      "cell_type": "code",
      "source": [
        "df_score = parse_xgb_output(output)\n",
        "plt.plot(df_score.num_iter, df_score.val_rmse, label='val')\n",
        "plt.legend()"
      ],
      "metadata": {
        "colab": {
          "base_uri": "https://localhost:8080/",
          "height": 282
        },
        "id": "kZvVeDSd_pn9",
        "outputId": "40cfaa56-fcce-485e-fdfa-895348d4892b"
      },
      "execution_count": null,
      "outputs": [
        {
          "output_type": "execute_result",
          "data": {
            "text/plain": [
              "<matplotlib.legend.Legend at 0x7f198dc89d00>"
            ]
          },
          "metadata": {},
          "execution_count": 87
        },
        {
          "output_type": "display_data",
          "data": {
            "text/plain": [
              "<Figure size 432x288 with 1 Axes>"
            ],
            "image/png": "[encoded data removed]"
          },
          "metadata": {
            "needs_background": "light"
          }
        }
      ]
    },
    {
      "cell_type": "markdown",
      "source": [
        "#### Parameter Tuning"
      ],
      "metadata": {
        "id": "NUyXYeS1ABAD"
      }
    },
    {
      "cell_type": "markdown",
      "source": [
        "##### ETA"
      ],
      "metadata": {
        "id": "N6BauTixwG86"
      }
    },
    {
      "cell_type": "code",
      "source": [
        "scores = {}"
      ],
      "metadata": {
        "id": "TJ5KRn7sAD7g"
      },
      "execution_count": null,
      "outputs": []
    },
    {
      "cell_type": "code",
      "source": [
        "%%capture output\n",
        "# for eta in [0.01, 0.1, 0.3]:\n",
        "eta = 0.3\n",
        "xgb_params = {\n",
        "    'eta': eta, \n",
        "    'max_depth': 6,\n",
        "    'min_child_weight': 1,\n",
        "    \n",
        "    'objective': 'reg:squarederror',\n",
        "\n",
        "    'nthread': 8,\n",
        "    'seed': 1,\n",
        "    'verbosity': 1,\n",
        "}\n",
        "\n",
        "model = xgb.train(xgb_params, dtrain, num_boost_round=200,\n",
        "                verbose_eval=5,\n",
        "                evals=watchlist)\n",
        "key = 'eta=%s' % (xgb_params['eta'])\n",
        "scores[key] = parse_xgb_output(output)"
      ],
      "metadata": {
        "id": "bhaxkS_KAFwi"
      },
      "execution_count": null,
      "outputs": []
    },
    {
      "cell_type": "code",
      "source": [
        "scores.items()"
      ],
      "metadata": {
        "id": "CynYzHOt2sov"
      },
      "execution_count": null,
      "outputs": []
    },
    {
      "cell_type": "code",
      "source": [
        "for eta, df_score in scores.items():\n",
        "    plt.plot(df_score.num_iter, df_score.val_rmse, label=eta)\n",
        "\n",
        "plt.ylim(0.1, 0.84)\n",
        "plt.legend()"
      ],
      "metadata": {
        "colab": {
          "base_uri": "https://localhost:8080/",
          "height": 282
        },
        "id": "ZC7_cIJP0Ge9",
        "outputId": "3a7d1617-90a7-46e6-e754-8703cb2dc01b"
      },
      "execution_count": null,
      "outputs": [
        {
          "output_type": "execute_result",
          "data": {
            "text/plain": [
              "<matplotlib.legend.Legend at 0x7f430a4035b0>"
            ]
          },
          "metadata": {},
          "execution_count": 101
        },
        {
          "output_type": "display_data",
          "data": {
            "text/plain": [
              "<Figure size 432x288 with 1 Axes>"
            ],
            "image/png": "[encoded data removed]"
          },
          "metadata": {
            "needs_background": "light"
          }
        }
      ]
    },
    {
      "cell_type": "markdown",
      "source": [
        "##### Max Depth"
      ],
      "metadata": {
        "id": "YqKCDe-w7to8"
      }
    },
    {
      "cell_type": "code",
      "source": [
        "scores = {}"
      ],
      "metadata": {
        "id": "vt63uxFKzh4S"
      },
      "execution_count": null,
      "outputs": []
    },
    {
      "cell_type": "code",
      "source": [
        "%%capture output\n",
        "eta = 0.1\n",
        "max_depth = 12\n",
        "xgb_params = {\n",
        "    'eta': eta, \n",
        "    'max_depth': max_depth,\n",
        "    'min_child_weight': 1,\n",
        "    \n",
        "    'objective': 'reg:squarederror',\n",
        "\n",
        "    'nthread': 8,\n",
        "    'seed': 1,\n",
        "    'verbosity': 1,\n",
        "}\n",
        "\n",
        "model = xgb.train(xgb_params, dtrain, num_boost_round=200,\n",
        "                verbose_eval=5,\n",
        "                evals=watchlist)\n",
        "key = 'max_depth=%s' % (xgb_params['max_depth'])\n",
        "scores[key] = parse_xgb_output(output)"
      ],
      "metadata": {
        "id": "jzbsmDpl72k7"
      },
      "execution_count": null,
      "outputs": []
    },
    {
      "cell_type": "code",
      "source": [
        "scores.items()"
      ],
      "metadata": {
        "id": "Arll_fol8iBp"
      },
      "execution_count": null,
      "outputs": []
    },
    {
      "cell_type": "code",
      "source": [
        "for max_depth, df_score in scores.items():\n",
        "    plt.plot(df_score.num_iter, df_score.val_rmse, label=max_depth)\n",
        "\n",
        "plt.ylim(0.4, 0.84)\n",
        "plt.legend()"
      ],
      "metadata": {
        "colab": {
          "base_uri": "https://localhost:8080/",
          "height": 282
        },
        "id": "cZOEpoaBzVNk",
        "outputId": "ea773f7f-f804-4b69-8471-39526199f675"
      },
      "execution_count": null,
      "outputs": [
        {
          "output_type": "execute_result",
          "data": {
            "text/plain": [
              "<matplotlib.legend.Legend at 0x7f432950d3d0>"
            ]
          },
          "metadata": {},
          "execution_count": 113
        },
        {
          "output_type": "display_data",
          "data": {
            "text/plain": [
              "<Figure size 432x288 with 1 Axes>"
            ],
            "image/png": "[encoded data removed]"
          },
          "metadata": {
            "needs_background": "light"
          }
        }
      ]
    },
    {
      "cell_type": "markdown",
      "source": [
        "#### Min child "
      ],
      "metadata": {
        "id": "cMKGn7-nBJb6"
      }
    },
    {
      "cell_type": "code",
      "source": [
        "scores = {}"
      ],
      "metadata": {
        "id": "alqY2oN4BLWy"
      },
      "execution_count": null,
      "outputs": []
    },
    {
      "cell_type": "code",
      "source": [
        "%%capture output\n",
        "\n",
        "xgb_params = {\n",
        "    'eta': eta, \n",
        "    'max_depth': max_depth,\n",
        "    'min_child_weight': 30,\n",
        "    \n",
        "    'objective': 'reg:squarederror',\n",
        "    'nthread': 8,\n",
        "    'seed': 1,\n",
        "    'verbosity': 1,\n",
        "}\n",
        "\n",
        "model = xgb.train(xgb_params, dtrain, num_boost_round=num_boost_round,\n",
        "                  verbose_eval=5,\n",
        "                  evals=watchlist)"
      ],
      "metadata": {
        "id": "V3zxG794C7GM"
      },
      "execution_count": null,
      "outputs": []
    },
    {
      "cell_type": "code",
      "source": [
        "key = 'min_child_weight=%s' % (xgb_params['min_child_weight'])\n",
        "scores[key] = parse_xgb_output(output)\n",
        "key"
      ],
      "metadata": {
        "colab": {
          "base_uri": "https://localhost:8080/",
          "height": 35
        },
        "id": "rvHI76KvDB8H",
        "outputId": "daaa3464-4887-477e-8262-39258a8bfe5e"
      },
      "execution_count": null,
      "outputs": [
        {
          "output_type": "execute_result",
          "data": {
            "text/plain": [
              "'min_child_weight=30'"
            ],
            "application/vnd.google.colaboratory.intrinsic+json": {
              "type": "string"
            }
          },
          "metadata": {},
          "execution_count": 54
        }
      ]
    },
    {
      "cell_type": "code",
      "source": [
        "for min_child_weight, df_score in scores.items():\n",
        "    plt.plot(df_score.num_iter, df_score.val_rmse, label=min_child_weight)\n",
        "\n",
        "plt.ylim(0.10, 1)\n",
        "plt.legend()"
      ],
      "metadata": {
        "colab": {
          "base_uri": "https://localhost:8080/",
          "height": 286
        },
        "id": "ixcs4lJ2DGvr",
        "outputId": "e5dffa7f-acb7-435d-facc-885eac4e7e74"
      },
      "execution_count": null,
      "outputs": [
        {
          "output_type": "execute_result",
          "data": {
            "text/plain": [
              "<matplotlib.legend.Legend at 0x7f26708e8550>"
            ]
          },
          "metadata": {},
          "execution_count": 56
        },
        {
          "output_type": "display_data",
          "data": {
            "text/plain": [
              "<Figure size 432x288 with 1 Axes>"
            ],
            "image/png": "[encoded data removed]"
          },
          "metadata": {
            "needs_background": "light"
          }
        }
      ]
    },
    {
      "cell_type": "code",
      "source": [
        "eta = 0.1\n",
        "max_depth = 9\n",
        "num_boost_round=200\n",
        "min_child_weight=1"
      ],
      "metadata": {
        "id": "24RW4MPj1b8B"
      },
      "execution_count": null,
      "outputs": []
    },
    {
      "cell_type": "markdown",
      "source": [
        "##### Subsample"
      ],
      "metadata": {
        "id": "WWnKyUCB1ck3"
      }
    },
    {
      "cell_type": "code",
      "source": [
        "scores = {}"
      ],
      "metadata": {
        "id": "_HPsL1ukp5eF"
      },
      "execution_count": null,
      "outputs": []
    },
    {
      "cell_type": "code",
      "source": [
        "%%capture output\n",
        "\n",
        "xgb_params = {\n",
        "    'eta': eta, \n",
        "    'max_depth': max_depth,\n",
        "    'min_child_weight': min_child_weight,\n",
        "    'objective': 'reg:squarederror',\n",
        "    'subsample': 0.30,\n",
        "\n",
        "    'nthread': 8,\n",
        "    'seed': 1,\n",
        "    'verbosity': 1,\n",
        "}\n",
        "\n",
        "model = xgb.train(xgb_params, dtrain, num_boost_round=200,\n",
        "                  verbose_eval=5,\n",
        "                  evals=watchlist)"
      ],
      "metadata": {
        "id": "5wmwoIuDqGv9"
      },
      "execution_count": null,
      "outputs": []
    },
    {
      "cell_type": "code",
      "source": [
        "key = 'subsample=%s' % (xgb_params['subsample'])\n",
        "scores[key] = parse_xgb_output(output)\n",
        "key"
      ],
      "metadata": {
        "colab": {
          "base_uri": "https://localhost:8080/",
          "height": 35
        },
        "id": "qxaIWpwtqOdM",
        "outputId": "28563aa4-8ba1-4aae-c901-1f8efa87b75c"
      },
      "execution_count": null,
      "outputs": [
        {
          "output_type": "execute_result",
          "data": {
            "text/plain": [
              "'subsample=0.3'"
            ],
            "application/vnd.google.colaboratory.intrinsic+json": {
              "type": "string"
            }
          },
          "metadata": {},
          "execution_count": 66
        }
      ]
    },
    {
      "cell_type": "code",
      "source": [
        "for min_child_weight, df_score in scores.items():\n",
        "    plt.plot(df_score.num_iter, df_score.val_rmse, label=min_child_weight)\n",
        "\n",
        "plt.ylim(0.1, 1)\n",
        "plt.legend()"
      ],
      "metadata": {
        "colab": {
          "base_uri": "https://localhost:8080/",
          "height": 286
        },
        "id": "tuHnz4mTqXTU",
        "outputId": "eabc09fe-a776-4f67-d7d2-7fa893e4f17d"
      },
      "execution_count": null,
      "outputs": [
        {
          "output_type": "execute_result",
          "data": {
            "text/plain": [
              "<matplotlib.legend.Legend at 0x7f26709ccb20>"
            ]
          },
          "metadata": {},
          "execution_count": 68
        },
        {
          "output_type": "display_data",
          "data": {
            "text/plain": [
              "<Figure size 432x288 with 1 Axes>"
            ],
            "image/png": "[encoded data removed]"
          },
          "metadata": {
            "needs_background": "light"
          }
        }
      ]
    },
    {
      "cell_type": "markdown",
      "source": [
        "##### Lambda"
      ],
      "metadata": {
        "id": "U-U_hAju7J6b"
      }
    },
    {
      "cell_type": "code",
      "source": [
        "scores = {}"
      ],
      "metadata": {
        "id": "Mghy8YOF7f9R"
      },
      "execution_count": null,
      "outputs": []
    },
    {
      "cell_type": "code",
      "source": [
        "%%capture output\n",
        "\n",
        "xgb_params = {\n",
        "    'eta': eta, \n",
        "    'max_depth': max_depth,\n",
        "    'min_child_weight': min_child_weight,\n",
        "    'objective': 'reg:squarederror',\n",
        "    'lambda': 5,\n",
        "    'nthread': 8,\n",
        "    'seed': 1,\n",
        "    'verbosity': 1\n",
        "}\n",
        "\n",
        "model = xgb.train(xgb_params, dtrain, num_boost_round=200,\n",
        "                  verbose_eval=5,\n",
        "                  evals=watchlist)"
      ],
      "metadata": {
        "id": "3kpBQ18c7LVw"
      },
      "execution_count": null,
      "outputs": []
    },
    {
      "cell_type": "code",
      "source": [
        "key = 'lambda=%s' % (xgb_params['lambda'])\n",
        "scores[key] = parse_xgb_output(output)\n",
        "key"
      ],
      "metadata": {
        "colab": {
          "base_uri": "https://localhost:8080/",
          "height": 35
        },
        "id": "O9iiHsjK7asb",
        "outputId": "2d33966f-37c2-4ce9-e977-f4a246d540ac"
      },
      "execution_count": null,
      "outputs": [
        {
          "output_type": "execute_result",
          "data": {
            "text/plain": [
              "'lambda=5'"
            ],
            "application/vnd.google.colaboratory.intrinsic+json": {
              "type": "string"
            }
          },
          "metadata": {},
          "execution_count": 85
        }
      ]
    },
    {
      "cell_type": "code",
      "source": [
        "for lambda_, df_score in scores.items():\n",
        "    plt.plot(df_score.num_iter, df_score.val_rmse, label=lambda_)\n",
        "\n",
        "plt.ylim(0.1, 1)\n",
        "plt.legend()"
      ],
      "metadata": {
        "colab": {
          "base_uri": "https://localhost:8080/",
          "height": 286
        },
        "id": "v2HCX3En8NaS",
        "outputId": "74df68fb-ca14-4e57-c083-68a68f5c8ca5"
      },
      "execution_count": null,
      "outputs": [
        {
          "output_type": "execute_result",
          "data": {
            "text/plain": [
              "<matplotlib.legend.Legend at 0x7f26707e2fd0>"
            ]
          },
          "metadata": {},
          "execution_count": 86
        },
        {
          "output_type": "display_data",
          "data": {
            "text/plain": [
              "<Figure size 432x288 with 1 Axes>"
            ],
            "image/png": "[encoded data removed]"
          },
          "metadata": {
            "needs_background": "light"
          }
        }
      ]
    },
    {
      "cell_type": "markdown",
      "source": [
        "### Final Model"
      ],
      "metadata": {
        "id": "59md4NhnDROs"
      }
    },
    {
      "cell_type": "code",
      "source": [
        "max_depth = 15\n",
        "min_samples_leaf = 1\n",
        "rf = RandomForestRegressor(n_estimators=200,\n",
        "                            max_depth=max_depth,\n",
        "                            min_samples_leaf=min_samples_leaf,\n",
        "                            random_state=1)\n",
        "rf.fit(X_train, y_train)\n"
      ],
      "metadata": {
        "colab": {
          "base_uri": "https://localhost:8080/"
        },
        "id": "K2uAmckTA2Fm",
        "outputId": "bb1a1253-6d06-4f0f-d028-7e1e7af1accc"
      },
      "execution_count": null,
      "outputs": [
        {
          "output_type": "execute_result",
          "data": {
            "text/plain": [
              "RandomForestRegressor(max_depth=15, n_estimators=200, random_state=1)"
            ]
          },
          "metadata": {},
          "execution_count": 95
        }
      ]
    },
    {
      "cell_type": "code",
      "source": [
        "y_pred = rf.predict(X_val)\n",
        "score = rmse(y_val, y_pred)\n",
        "score"
      ],
      "metadata": {
        "colab": {
          "base_uri": "https://localhost:8080/"
        },
        "id": "4LTlSsDjBVhX",
        "outputId": "67c4ae4e-8af4-48ca-dab7-7f55b9a4df22"
      },
      "execution_count": null,
      "outputs": [
        {
          "output_type": "execute_result",
          "data": {
            "text/plain": [
              "0.4051077524980498"
            ]
          },
          "metadata": {},
          "execution_count": 96
        }
      ]
    },
    {
      "cell_type": "code",
      "source": [
        "df_importances = pd.DataFrame()\n",
        "df_importances['feature'] = dv.feature_names_\n",
        "df_importances['importance'] = rf.feature_importances_\n",
        "df_importances.sort_values(by='importance', ascending=False).head(10)"
      ],
      "metadata": {
        "colab": {
          "base_uri": "https://localhost:8080/",
          "height": 363
        },
        "id": "P4J8p8EbBtVo",
        "outputId": "7eb42f84-bc75-4590-e02d-221e0fc9cb98"
      },
      "execution_count": null,
      "outputs": [
        {
          "output_type": "execute_result",
          "data": {
            "text/plain": [
              "                                                feature  importance\n",
              "2672                    nivel_detallado=especializacion    0.207042\n",
              "2096  financiamiento=ministerio de energia y recurso...    0.194266\n",
              "2676                           nivel_detallado=pregrado    0.109424\n",
              "2076                              destino=internacional    0.063401\n",
              "2077                                   destino=nacional    0.062240\n",
              "2695                           pais_de_estudios=ecuador    0.056068\n",
              "0                                                   age    0.038511\n",
              "2724        programa_general=programa de becas senescyt    0.031546\n",
              "2669                       nivel_detallado=capacitacion    0.018774\n",
              "2093                             financiamiento=ex ifth    0.016328"
            ],
            "text/html": [
              "\n",
              "  <div id=\"df-a65e5cdf-165c-4047-8882-909a0c59975a\">\n",
              "    <div class=\"colab-df-container\">\n",
              "      <div>\n",
              "<style scoped>\n",
              "    .dataframe tbody tr th:only-of-type {\n",
              "        vertical-align: middle;\n",
              "    }\n",
              "\n",
              "    .dataframe tbody tr th {\n",
              "        vertical-align: top;\n",
              "    }\n",
              "\n",
              "    .dataframe thead th {\n",
              "        text-align: right;\n",
              "    }\n",
              "</style>\n",
              "<table border=\"1\" class=\"dataframe\">\n",
              "  <thead>\n",
              "    <tr style=\"text-align: right;\">\n",
              "      <th></th>\n",
              "      <th>feature</th>\n",
              "      <th>importance</th>\n",
              "    </tr>\n",
              "  </thead>\n",
              "  <tbody>\n",
              "    <tr>\n",
              "      <th>2672</th>\n",
              "      <td>nivel_detallado=especializacion</td>\n",
              "      <td>0.207042</td>\n",
              "    </tr>\n",
              "    <tr>\n",
              "      <th>2096</th>\n",
              "      <td>financiamiento=ministerio de energia y recurso...</td>\n",
              "      <td>0.194266</td>\n",
              "    </tr>\n",
              "    <tr>\n",
              "      <th>2676</th>\n",
              "      <td>nivel_detallado=pregrado</td>\n",
              "      <td>0.109424</td>\n",
              "    </tr>\n",
              "    <tr>\n",
              "      <th>2076</th>\n",
              "      <td>destino=internacional</td>\n",
              "      <td>0.063401</td>\n",
              "    </tr>\n",
              "    <tr>\n",
              "      <th>2077</th>\n",
              "      <td>destino=nacional</td>\n",
              "      <td>0.062240</td>\n",
              "    </tr>\n",
              "    <tr>\n",
              "      <th>2695</th>\n",
              "      <td>pais_de_estudios=ecuador</td>\n",
              "      <td>0.056068</td>\n",
              "    </tr>\n",
              "    <tr>\n",
              "      <th>0</th>\n",
              "      <td>age</td>\n",
              "      <td>0.038511</td>\n",
              "    </tr>\n",
              "    <tr>\n",
              "      <th>2724</th>\n",
              "      <td>programa_general=programa de becas senescyt</td>\n",
              "      <td>0.031546</td>\n",
              "    </tr>\n",
              "    <tr>\n",
              "      <th>2669</th>\n",
              "      <td>nivel_detallado=capacitacion</td>\n",
              "      <td>0.018774</td>\n",
              "    </tr>\n",
              "    <tr>\n",
              "      <th>2093</th>\n",
              "      <td>financiamiento=ex ifth</td>\n",
              "      <td>0.016328</td>\n",
              "    </tr>\n",
              "  </tbody>\n",
              "</table>\n",
              "</div>\n",
              "      <button class=\"colab-df-convert\" onclick=\"convertToInteractive('df-a65e5cdf-165c-4047-8882-909a0c59975a')\"\n",
              "              title=\"Convert this dataframe to an interactive table.\"\n",
              "              style=\"display:none;\">\n",
              "        \n",
              "  <svg xmlns=\"http://www.w3.org/2000/svg\" height=\"24px\"viewBox=\"0 0 24 24\"\n",
              "       width=\"24px\">\n",
              "    <path d=\"M0 0h24v24H0V0z\" fill=\"none\"/>\n",
              "    <path d=\"M18.56 5.44l.94 2.06.94-2.06 2.06-.94-2.06-.94-.94-2.06-.94 2.06-2.06.94zm-11 1L8.5 8.5l.94-2.06 2.06-.94-2.06-.94L8.5 2.5l-.94 2.06-2.06.94zm10 10l.94 2.06.94-2.06 2.06-.94-2.06-.94-.94-2.06-.94 2.06-2.06.94z\"/><path d=\"M17.41 7.96l-1.37-1.37c-.4-.4-.92-.59-1.43-.59-.52 0-1.04.2-1.43.59L10.3 9.45l-7.72 7.72c-.78.78-.78 2.05 0 2.83L4 21.41c.39.39.9.59 1.41.59.51 0 1.02-.2 1.41-.59l7.78-7.78 2.81-2.81c.8-.78.8-2.07 0-2.86zM5.41 20L4 18.59l7.72-7.72 1.47 1.35L5.41 20z\"/>\n",
              "  </svg>\n",
              "      </button>\n",
              "      \n",
              "  <style>\n",
              "    .colab-df-container {\n",
              "      display:flex;\n",
              "      flex-wrap:wrap;\n",
              "      gap: 12px;\n",
              "    }\n",
              "\n",
              "    .colab-df-convert {\n",
              "      background-color: #E8F0FE;\n",
              "      border: none;\n",
              "      border-radius: 50%;\n",
              "      cursor: pointer;\n",
              "      display: none;\n",
              "      fill: #1967D2;\n",
              "      height: 32px;\n",
              "      padding: 0 0 0 0;\n",
              "      width: 32px;\n",
              "    }\n",
              "\n",
              "    .colab-df-convert:hover {\n",
              "      background-color: #E2EBFA;\n",
              "      box-shadow: 0px 1px 2px rgba(60, 64, 67, 0.3), 0px 1px 3px 1px rgba(60, 64, 67, 0.15);\n",
              "      fill: #174EA6;\n",
              "    }\n",
              "\n",
              "    [theme=dark] .colab-df-convert {\n",
              "      background-color: #3B4455;\n",
              "      fill: #D2E3FC;\n",
              "    }\n",
              "\n",
              "    [theme=dark] .colab-df-convert:hover {\n",
              "      background-color: #434B5C;\n",
              "      box-shadow: 0px 1px 3px 1px rgba(0, 0, 0, 0.15);\n",
              "      filter: drop-shadow(0px 1px 2px rgba(0, 0, 0, 0.3));\n",
              "      fill: #FFFFFF;\n",
              "    }\n",
              "  </style>\n",
              "\n",
              "      <script>\n",
              "        const buttonEl =\n",
              "          document.querySelector('#df-a65e5cdf-165c-4047-8882-909a0c59975a button.colab-df-convert');\n",
              "        buttonEl.style.display =\n",
              "          google.colab.kernel.accessAllowed ? 'block' : 'none';\n",
              "\n",
              "        async function convertToInteractive(key) {\n",
              "          const element = document.querySelector('#df-a65e5cdf-165c-4047-8882-909a0c59975a');\n",
              "          const dataTable =\n",
              "            await google.colab.kernel.invokeFunction('convertToInteractive',\n",
              "                                                     [key], {});\n",
              "          if (!dataTable) return;\n",
              "\n",
              "          const docLinkHtml = 'Like what you see? Visit the ' +\n",
              "            '<a target=\"_blank\" href=https://colab.research.google.com/notebooks/data_table.ipynb>data table notebook</a>'\n",
              "            + ' to learn more about interactive tables.';\n",
              "          element.innerHTML = '';\n",
              "          dataTable['output_type'] = 'display_data';\n",
              "          await google.colab.output.renderOutput(dataTable, element);\n",
              "          const docLink = document.createElement('div');\n",
              "          docLink.innerHTML = docLinkHtml;\n",
              "          element.appendChild(docLink);\n",
              "        }\n",
              "      </script>\n",
              "    </div>\n",
              "  </div>\n",
              "  "
            ]
          },
          "metadata": {},
          "execution_count": 97
        }
      ]
    },
    {
      "cell_type": "markdown",
      "metadata": {
        "id": "crtimXjf1Yqi"
      },
      "source": [
        "# Explicación\n"
      ]
    },
    {
      "cell_type": "markdown",
      "metadata": {
        "id": "3jzyuy5V1c1Q"
      },
      "source": [
        "- Se tiene 97 datos faltantes de monto_contratado y se elimnan porque es la variable objetivo.\n",
        "- Las becas que predominan son hacia a los de etnia mestiza y a personas de género femenino.\n",
        "- Se elimina las columnas:\n",
        "      -  id_unico: porque es una variable del registro.\n",
        "      fecha_de_suscripcion\n",
        "      fecha_inicio_financiamiento\n",
        "        fecha_fin_financiamiento\n",
        "fecha_inicio_estudios\n",
        "fecha_inicio_estudios\n",
        "estado_beca\n",
        "estado_estudiante\n",
        "\n",
        "\n",
        "\n",
        "\n",
        "- Fecha de nacimiento para determinar que edad es la que predomia.\n"
      ]
    },
    {
      "cell_type": "markdown",
      "metadata": {
        "id": "zhLyOyrfHeaD"
      },
      "source": [
        "# Temas Pendientes\n",
        "- TODO: Agregar el conteo de los elements de las variables categóricas"
      ]
    },
    {
      "cell_type": "markdown",
      "metadata": {
        "id": "2yNwNvg9-rgz"
      },
      "source": [
        "# Temas a explicar\n",
        "- Por qué eliminamos a los que no tienen montos registrados\n",
        "- Como tratar con valores faltantes?\n",
        "- Por qué hay tantos casos en Santa Elena.\n",
        "- Distribución de la variable montos de realización.\n",
        "- El estado de la beca diostribución, de los datos.\n",
        "- Estado del estudiante durante la beca \n",
        "- Fechas  de nacimiento control para determinar las posibles fallas al determinar las fechas \n",
        "-  Fecha fin estudios para la beca cuanto recibe el usuario para dotar de lab eca.\n",
        "- fecha_fin_financiamiento: revisar si los datos de la demanda de la beca genera correctamente las fechas de la beca para solicitarla.\n",
        "- monto_contratado Monto contratado para la beca a solicitar.\n",
        "- Porque renuncia a la beca el estudiante en escenario\n",
        "- area_estudio_detallado qie items son los mas valorados a la hora de asignar becas al estudio.\n",
        "- Porque una persona renuncia a la beca que se está asignadole\n",
        "- Que se asigna a las diferntes áreas sobre las respectivas páreas de estudio.\n"
      ]
    },
    {
      "cell_type": "markdown",
      "metadata": {
        "id": "ybfu54lV2SES"
      },
      "source": [
        "# BIBLIOGRAFÍA\n",
        "- https://docs.google.com/spreadsheets/d/169DArFYGjDyJ_izOQZhacD4G2gfAcp0g/edit#gid=1150139697\n",
        "- https://docs.google.com/spreadsheets/d/1EalAb09g4yVKtl_jiQiJ8Z6pQ1HF9Eyx/edit#gid=1197338577\n",
        "- https://www.datosabiertos.gob.ec/dataset/becas\n"
      ]
    }
  ],
  "metadata": {
    "accelerator": "GPU",
    "colab": {
      "collapsed_sections": [
        "FpKZWWnsPd5g"
      ],
      "provenance": [],
      "toc_visible": true
    },
    "gpuClass": "standard",
    "kernelspec": {
      "display_name": "Python 3",
      "name": "python3"
    },
    "language_info": {
      "name": "python"
    }
  },
  "nbformat": 4,
  "nbformat_minor": 0
}