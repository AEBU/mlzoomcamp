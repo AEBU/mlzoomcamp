{
  "nbformat": 4,
  "nbformat_minor": 0,
  "metadata": {
    "colab": {
      "provenance": [],
      "toc_visible": true
    },
    "kernelspec": {
      "name": "python3",
      "display_name": "Python 3"
    },
    "language_info": {
      "name": "python"
    }
  },
  "cells": [
    {
      "cell_type": "markdown",
      "source": [
        "# Importing Libraries"
      ],
      "metadata": {
        "id": "sgCbrtXiE-6H"
      }
    },
    {
      "cell_type": "code",
      "source": [
        "!pip install skforecast\n",
        "!pip install session_info\n"
      ],
      "metadata": {
        "id": "z3VqOM6vFJd7"
      },
      "execution_count": null,
      "outputs": []
    },
    {
      "cell_type": "code",
      "execution_count": 21,
      "metadata": {
        "id": "VoUGQNaKEzcK"
      },
      "outputs": [],
      "source": [
        "#@ Import libraries\n",
        "import pandas as pd\n",
        "import numpy as np\n",
        "import plotly.express as px\n",
        "import seaborn as sns\n",
        "import matplotlib.pyplot as plt\n",
        "import pickle\n",
        "import session_info\n",
        "\n",
        "from sklearn.ensemble import RandomForestRegressor\n",
        "from sklearn.metrics import mean_squared_error\n",
        "from sklearn.preprocessing import StandardScaler\n",
        "from sklearn.linear_model import Lasso\n",
        "from sklearn.ensemble import RandomForestRegressor\n",
        "from sklearn.metrics import mean_squared_error\n",
        "\n",
        "from statsmodels.tsa.stattools import adfuller\n",
        "from statsmodels.tsa.seasonal import seasonal_decompose \n",
        "\n",
        "from skforecast.ForecasterAutoreg import ForecasterAutoreg\n",
        "from skforecast.ForecasterAutoregCustom import ForecasterAutoregCustom\n",
        "from skforecast.ForecasterAutoregDirect import ForecasterAutoregDirect\n",
        "from skforecast.model_selection import grid_search_forecaster\n",
        "from skforecast.model_selection import backtesting_forecaster\n",
        "from skforecast.utils import save_forecaster\n",
        "from skforecast.utils import load_forecaster"
      ]
    },
    {
      "cell_type": "markdown",
      "source": [
        "# Functions"
      ],
      "metadata": {
        "id": "D6KbXgC8FFUI"
      }
    },
    {
      "cell_type": "code",
      "source": [
        "def rmse(y_true, y_pred ):\n",
        "    se = (y_true - y_pred) ** 2\n",
        "    mse = se.mean()\n",
        "    return np.sqrt(mse)\n",
        "\n",
        "\n",
        "def prepare_date_format(months_request, sucursal, fechas_date_month, steps):\n",
        "    months_request_analyze = months_request.loc[:,[fechas_date_month, sucursal]]\n",
        "    months_request_analyze = months_request_analyze.set_index(fechas_date_month)\n",
        "    months_request_analyze = months_request_analyze.rename(columns={sucursal: 'y'})\n",
        "    months_request_analyze = months_request_analyze.asfreq('MS')\n",
        "    months_request_analyze = months_request_analyze.sort_index()\n",
        "    datos_train = months_request_analyze[:-steps]\n",
        "    datos_test  = months_request_analyze[-steps:]\n",
        "    #months_request_analyze.reset_index()\n",
        "    return datos_train, datos_test\n",
        "\n",
        "def prepare_date_format_exog(months_request, sucursal, fechas_date_month, steps, exog):\n",
        "    months_request_analyze = months_request.loc[:,[fechas_date_month, sucursal, exog]]\n",
        "    months_request_analyze = months_request_analyze.set_index(fechas_date_month)\n",
        "    months_request_analyze = months_request_analyze.rename(columns={sucursal: 'y'})\n",
        "    months_request_analyze = months_request_analyze.asfreq('MS')\n",
        "    months_request_analyze = months_request_analyze.sort_index()\n",
        "    datos_train = months_request_analyze[:-steps]\n",
        "    datos_test  = months_request_analyze[-steps:]\n",
        "    #months_request_analyze.reset_index()\n",
        "    return datos_train, datos_test\n",
        "\n",
        "\n",
        "def scaler_months(months_request,col ):\n",
        "    values = months_request[col].values\n",
        "    values = values.reshape((len(values), 1))\n",
        "    scaler = StandardScaler()\n",
        "    scaler = scaler.fit(values)\n",
        "    normalized = scaler.transform(values)\n",
        "    return scaler, normalized\n",
        "\n",
        "#@ Prueba Fuller\n",
        "def test_Dickey_Fuller(series , column_name):\n",
        "    dftest = adfuller(series, autolag='AIC')\n",
        "    dfoutput = pd.Series(dftest[0:4], index=['Test Statistic','p-value','No Lags Used','observed number'])\n",
        "    for key,value in dftest[4].items():\n",
        "       dfoutput['Critical Value (%s)'%key] = value\n",
        "    print (dfoutput)\n",
        "\n",
        "#@ Create variable exogen\n",
        "def create_exogen_variable(date_data):\n",
        "    # date_data = df.fechas_date_month\n",
        "    if (date_data < pd.to_datetime('2020-03-01')):\n",
        "        return 0\n",
        "    elif(date_data >=  pd.to_datetime( '2020-03-01')) and (date_data <=  pd.to_datetime('2020-08-01') ):\n",
        "        return 1\n",
        "    else:\n",
        "        return 0.80\n"
      ],
      "metadata": {
        "id": "Y4LeAdiiFC8c"
      },
      "execution_count": 22,
      "outputs": []
    },
    {
      "cell_type": "markdown",
      "source": [
        "# Data Preparation"
      ],
      "metadata": {
        "id": "iom7kbzvBn5q"
      }
    },
    {
      "cell_type": "code",
      "source": [
        "data_download = 'https://raw.githubusercontent.com/AEBU/mlzoomcamp/main/capstone-project2/data/appraisal_data.csv'\n",
        "data_output = 'appraisal_data.csv'"
      ],
      "metadata": {
        "id": "yOlGxH_BjAEX"
      },
      "execution_count": 23,
      "outputs": []
    },
    {
      "cell_type": "code",
      "source": [
        "!wget $data_download\n",
        "!head $data_output\n"
      ],
      "metadata": {
        "colab": {
          "base_uri": "https://localhost:8080/"
        },
        "id": "fykDatpwjFJ2",
        "outputId": "92689fcb-2cef-43fe-b57f-97dafdc82208"
      },
      "execution_count": 24,
      "outputs": [
        {
          "output_type": "stream",
          "name": "stdout",
          "text": [
            "--2023-01-27 02:25:44--  https://raw.githubusercontent.com/AEBU/mlzoomcamp/main/capstone-project2/data/appraisal_data.csv\n",
            "Resolving raw.githubusercontent.com (raw.githubusercontent.com)... 185.199.108.133, 185.199.111.133, 185.199.110.133, ...\n",
            "Connecting to raw.githubusercontent.com (raw.githubusercontent.com)|185.199.108.133|:443... connected.\n",
            "HTTP request sent, awaiting response... 200 OK\n",
            "Length: 995 [text/plain]\n",
            "Saving to: ‘appraisal_data.csv.1’\n",
            "\n",
            "\rappraisal_data.csv.   0%[                    ]       0  --.-KB/s               \rappraisal_data.csv. 100%[===================>]     995  --.-KB/s    in 0s      \n",
            "\n",
            "2023-01-27 02:25:44 (77.6 MB/s) - ‘appraisal_data.csv.1’ saved [995/995]\n",
            "\n",
            ",fechas_date_month,appraisal\n",
            "0,2017-07-01,1.0\n",
            "1,2017-08-01,0.0\n",
            "2,2017-09-01,6.0\n",
            "3,2017-10-01,16.0\n",
            "4,2017-11-01,7.0\n",
            "5,2017-12-01,5.0\n",
            "6,2018-01-01,4.0\n",
            "7,2018-02-01,2.0\n",
            "8,2018-03-01,31.0\n"
          ]
        }
      ]
    },
    {
      "cell_type": "code",
      "source": [
        "#@ Import dataset\n",
        "request_equipments = pd.read_csv(data_output)"
      ],
      "metadata": {
        "id": "M4GoDAsCFWNT"
      },
      "execution_count": 25,
      "outputs": []
    },
    {
      "cell_type": "code",
      "source": [
        "request_equipments.head()"
      ],
      "metadata": {
        "id": "Uot3Og9IFm43",
        "colab": {
          "base_uri": "https://localhost:8080/",
          "height": 206
        },
        "outputId": "071592f1-3f38-42d9-9974-ac29a8a4ba51"
      },
      "execution_count": 26,
      "outputs": [
        {
          "output_type": "execute_result",
          "data": {
            "text/plain": [
              "   Unnamed: 0 fechas_date_month  appraisal\n",
              "0           0        2017-07-01        1.0\n",
              "1           1        2017-08-01        0.0\n",
              "2           2        2017-09-01        6.0\n",
              "3           3        2017-10-01       16.0\n",
              "4           4        2017-11-01        7.0"
            ],
            "text/html": [
              "\n",
              "  <div id=\"df-3f4c7d75-c73f-44da-8d96-09e1d40701b5\">\n",
              "    <div class=\"colab-df-container\">\n",
              "      <div>\n",
              "<style scoped>\n",
              "    .dataframe tbody tr th:only-of-type {\n",
              "        vertical-align: middle;\n",
              "    }\n",
              "\n",
              "    .dataframe tbody tr th {\n",
              "        vertical-align: top;\n",
              "    }\n",
              "\n",
              "    .dataframe thead th {\n",
              "        text-align: right;\n",
              "    }\n",
              "</style>\n",
              "<table border=\"1\" class=\"dataframe\">\n",
              "  <thead>\n",
              "    <tr style=\"text-align: right;\">\n",
              "      <th></th>\n",
              "      <th>Unnamed: 0</th>\n",
              "      <th>fechas_date_month</th>\n",
              "      <th>appraisal</th>\n",
              "    </tr>\n",
              "  </thead>\n",
              "  <tbody>\n",
              "    <tr>\n",
              "      <th>0</th>\n",
              "      <td>0</td>\n",
              "      <td>2017-07-01</td>\n",
              "      <td>1.0</td>\n",
              "    </tr>\n",
              "    <tr>\n",
              "      <th>1</th>\n",
              "      <td>1</td>\n",
              "      <td>2017-08-01</td>\n",
              "      <td>0.0</td>\n",
              "    </tr>\n",
              "    <tr>\n",
              "      <th>2</th>\n",
              "      <td>2</td>\n",
              "      <td>2017-09-01</td>\n",
              "      <td>6.0</td>\n",
              "    </tr>\n",
              "    <tr>\n",
              "      <th>3</th>\n",
              "      <td>3</td>\n",
              "      <td>2017-10-01</td>\n",
              "      <td>16.0</td>\n",
              "    </tr>\n",
              "    <tr>\n",
              "      <th>4</th>\n",
              "      <td>4</td>\n",
              "      <td>2017-11-01</td>\n",
              "      <td>7.0</td>\n",
              "    </tr>\n",
              "  </tbody>\n",
              "</table>\n",
              "</div>\n",
              "      <button class=\"colab-df-convert\" onclick=\"convertToInteractive('df-3f4c7d75-c73f-44da-8d96-09e1d40701b5')\"\n",
              "              title=\"Convert this dataframe to an interactive table.\"\n",
              "              style=\"display:none;\">\n",
              "        \n",
              "  <svg xmlns=\"http://www.w3.org/2000/svg\" height=\"24px\"viewBox=\"0 0 24 24\"\n",
              "       width=\"24px\">\n",
              "    <path d=\"M0 0h24v24H0V0z\" fill=\"none\"/>\n",
              "    <path d=\"M18.56 5.44l.94 2.06.94-2.06 2.06-.94-2.06-.94-.94-2.06-.94 2.06-2.06.94zm-11 1L8.5 8.5l.94-2.06 2.06-.94-2.06-.94L8.5 2.5l-.94 2.06-2.06.94zm10 10l.94 2.06.94-2.06 2.06-.94-2.06-.94-.94-2.06-.94 2.06-2.06.94z\"/><path d=\"M17.41 7.96l-1.37-1.37c-.4-.4-.92-.59-1.43-.59-.52 0-1.04.2-1.43.59L10.3 9.45l-7.72 7.72c-.78.78-.78 2.05 0 2.83L4 21.41c.39.39.9.59 1.41.59.51 0 1.02-.2 1.41-.59l7.78-7.78 2.81-2.81c.8-.78.8-2.07 0-2.86zM5.41 20L4 18.59l7.72-7.72 1.47 1.35L5.41 20z\"/>\n",
              "  </svg>\n",
              "      </button>\n",
              "      \n",
              "  <style>\n",
              "    .colab-df-container {\n",
              "      display:flex;\n",
              "      flex-wrap:wrap;\n",
              "      gap: 12px;\n",
              "    }\n",
              "\n",
              "    .colab-df-convert {\n",
              "      background-color: #E8F0FE;\n",
              "      border: none;\n",
              "      border-radius: 50%;\n",
              "      cursor: pointer;\n",
              "      display: none;\n",
              "      fill: #1967D2;\n",
              "      height: 32px;\n",
              "      padding: 0 0 0 0;\n",
              "      width: 32px;\n",
              "    }\n",
              "\n",
              "    .colab-df-convert:hover {\n",
              "      background-color: #E2EBFA;\n",
              "      box-shadow: 0px 1px 2px rgba(60, 64, 67, 0.3), 0px 1px 3px 1px rgba(60, 64, 67, 0.15);\n",
              "      fill: #174EA6;\n",
              "    }\n",
              "\n",
              "    [theme=dark] .colab-df-convert {\n",
              "      background-color: #3B4455;\n",
              "      fill: #D2E3FC;\n",
              "    }\n",
              "\n",
              "    [theme=dark] .colab-df-convert:hover {\n",
              "      background-color: #434B5C;\n",
              "      box-shadow: 0px 1px 3px 1px rgba(0, 0, 0, 0.15);\n",
              "      filter: drop-shadow(0px 1px 2px rgba(0, 0, 0, 0.3));\n",
              "      fill: #FFFFFF;\n",
              "    }\n",
              "  </style>\n",
              "\n",
              "      <script>\n",
              "        const buttonEl =\n",
              "          document.querySelector('#df-3f4c7d75-c73f-44da-8d96-09e1d40701b5 button.colab-df-convert');\n",
              "        buttonEl.style.display =\n",
              "          google.colab.kernel.accessAllowed ? 'block' : 'none';\n",
              "\n",
              "        async function convertToInteractive(key) {\n",
              "          const element = document.querySelector('#df-3f4c7d75-c73f-44da-8d96-09e1d40701b5');\n",
              "          const dataTable =\n",
              "            await google.colab.kernel.invokeFunction('convertToInteractive',\n",
              "                                                     [key], {});\n",
              "          if (!dataTable) return;\n",
              "\n",
              "          const docLinkHtml = 'Like what you see? Visit the ' +\n",
              "            '<a target=\"_blank\" href=https://colab.research.google.com/notebooks/data_table.ipynb>data table notebook</a>'\n",
              "            + ' to learn more about interactive tables.';\n",
              "          element.innerHTML = '';\n",
              "          dataTable['output_type'] = 'display_data';\n",
              "          await google.colab.output.renderOutput(dataTable, element);\n",
              "          const docLink = document.createElement('div');\n",
              "          docLink.innerHTML = docLinkHtml;\n",
              "          element.appendChild(docLink);\n",
              "        }\n",
              "      </script>\n",
              "    </div>\n",
              "  </div>\n",
              "  "
            ]
          },
          "metadata": {},
          "execution_count": 26
        }
      ]
    },
    {
      "cell_type": "code",
      "source": [
        "request_equipments.info()"
      ],
      "metadata": {
        "colab": {
          "base_uri": "https://localhost:8080/"
        },
        "id": "Yx7aI-J5F6yX",
        "outputId": "621d6f00-e0b9-4264-cf27-c06957978e98"
      },
      "execution_count": 27,
      "outputs": [
        {
          "output_type": "stream",
          "name": "stdout",
          "text": [
            "<class 'pandas.core.frame.DataFrame'>\n",
            "RangeIndex: 51 entries, 0 to 50\n",
            "Data columns (total 3 columns):\n",
            " #   Column             Non-Null Count  Dtype  \n",
            "---  ------             --------------  -----  \n",
            " 0   Unnamed: 0         51 non-null     int64  \n",
            " 1   fechas_date_month  51 non-null     object \n",
            " 2   appraisal          51 non-null     float64\n",
            "dtypes: float64(1), int64(1), object(1)\n",
            "memory usage: 1.3+ KB\n"
          ]
        }
      ]
    },
    {
      "cell_type": "code",
      "source": [
        "len(request_equipments)"
      ],
      "metadata": {
        "colab": {
          "base_uri": "https://localhost:8080/"
        },
        "id": "jDhsrDpDF-VR",
        "outputId": "b1293f18-cede-4321-ad9b-e0d894493912"
      },
      "execution_count": 28,
      "outputs": [
        {
          "output_type": "execute_result",
          "data": {
            "text/plain": [
              "51"
            ]
          },
          "metadata": {},
          "execution_count": 28
        }
      ]
    },
    {
      "cell_type": "code",
      "source": [
        "request_equipments.isnull().sum()"
      ],
      "metadata": {
        "colab": {
          "base_uri": "https://localhost:8080/"
        },
        "id": "q8LD-u03GEHK",
        "outputId": "1f32a7ee-4e76-4bc1-b34e-e1f56c8a0849"
      },
      "execution_count": 29,
      "outputs": [
        {
          "output_type": "execute_result",
          "data": {
            "text/plain": [
              "Unnamed: 0           0\n",
              "fechas_date_month    0\n",
              "appraisal            0\n",
              "dtype: int64"
            ]
          },
          "metadata": {},
          "execution_count": 29
        }
      ]
    },
    {
      "cell_type": "code",
      "source": [
        "#@ FILTER ONLY NECCESARY FEATURES\n",
        "request_appr = request_equipments[['appraisal','fechas_date_month']]\n",
        "request_appr.head().T"
      ],
      "metadata": {
        "colab": {
          "base_uri": "https://localhost:8080/",
          "height": 112
        },
        "id": "V5YfUOViFGVW",
        "outputId": "feadd14e-97a6-4447-8d08-283663ad07fa"
      },
      "execution_count": 30,
      "outputs": [
        {
          "output_type": "execute_result",
          "data": {
            "text/plain": [
              "                            0           1           2           3           4\n",
              "appraisal                 1.0         0.0         6.0        16.0         7.0\n",
              "fechas_date_month  2017-07-01  2017-08-01  2017-09-01  2017-10-01  2017-11-01"
            ],
            "text/html": [
              "\n",
              "  <div id=\"df-7f66ae71-a75b-45d1-9028-16db810a2c1e\">\n",
              "    <div class=\"colab-df-container\">\n",
              "      <div>\n",
              "<style scoped>\n",
              "    .dataframe tbody tr th:only-of-type {\n",
              "        vertical-align: middle;\n",
              "    }\n",
              "\n",
              "    .dataframe tbody tr th {\n",
              "        vertical-align: top;\n",
              "    }\n",
              "\n",
              "    .dataframe thead th {\n",
              "        text-align: right;\n",
              "    }\n",
              "</style>\n",
              "<table border=\"1\" class=\"dataframe\">\n",
              "  <thead>\n",
              "    <tr style=\"text-align: right;\">\n",
              "      <th></th>\n",
              "      <th>0</th>\n",
              "      <th>1</th>\n",
              "      <th>2</th>\n",
              "      <th>3</th>\n",
              "      <th>4</th>\n",
              "    </tr>\n",
              "  </thead>\n",
              "  <tbody>\n",
              "    <tr>\n",
              "      <th>appraisal</th>\n",
              "      <td>1.0</td>\n",
              "      <td>0.0</td>\n",
              "      <td>6.0</td>\n",
              "      <td>16.0</td>\n",
              "      <td>7.0</td>\n",
              "    </tr>\n",
              "    <tr>\n",
              "      <th>fechas_date_month</th>\n",
              "      <td>2017-07-01</td>\n",
              "      <td>2017-08-01</td>\n",
              "      <td>2017-09-01</td>\n",
              "      <td>2017-10-01</td>\n",
              "      <td>2017-11-01</td>\n",
              "    </tr>\n",
              "  </tbody>\n",
              "</table>\n",
              "</div>\n",
              "      <button class=\"colab-df-convert\" onclick=\"convertToInteractive('df-7f66ae71-a75b-45d1-9028-16db810a2c1e')\"\n",
              "              title=\"Convert this dataframe to an interactive table.\"\n",
              "              style=\"display:none;\">\n",
              "        \n",
              "  <svg xmlns=\"http://www.w3.org/2000/svg\" height=\"24px\"viewBox=\"0 0 24 24\"\n",
              "       width=\"24px\">\n",
              "    <path d=\"M0 0h24v24H0V0z\" fill=\"none\"/>\n",
              "    <path d=\"M18.56 5.44l.94 2.06.94-2.06 2.06-.94-2.06-.94-.94-2.06-.94 2.06-2.06.94zm-11 1L8.5 8.5l.94-2.06 2.06-.94-2.06-.94L8.5 2.5l-.94 2.06-2.06.94zm10 10l.94 2.06.94-2.06 2.06-.94-2.06-.94-.94-2.06-.94 2.06-2.06.94z\"/><path d=\"M17.41 7.96l-1.37-1.37c-.4-.4-.92-.59-1.43-.59-.52 0-1.04.2-1.43.59L10.3 9.45l-7.72 7.72c-.78.78-.78 2.05 0 2.83L4 21.41c.39.39.9.59 1.41.59.51 0 1.02-.2 1.41-.59l7.78-7.78 2.81-2.81c.8-.78.8-2.07 0-2.86zM5.41 20L4 18.59l7.72-7.72 1.47 1.35L5.41 20z\"/>\n",
              "  </svg>\n",
              "      </button>\n",
              "      \n",
              "  <style>\n",
              "    .colab-df-container {\n",
              "      display:flex;\n",
              "      flex-wrap:wrap;\n",
              "      gap: 12px;\n",
              "    }\n",
              "\n",
              "    .colab-df-convert {\n",
              "      background-color: #E8F0FE;\n",
              "      border: none;\n",
              "      border-radius: 50%;\n",
              "      cursor: pointer;\n",
              "      display: none;\n",
              "      fill: #1967D2;\n",
              "      height: 32px;\n",
              "      padding: 0 0 0 0;\n",
              "      width: 32px;\n",
              "    }\n",
              "\n",
              "    .colab-df-convert:hover {\n",
              "      background-color: #E2EBFA;\n",
              "      box-shadow: 0px 1px 2px rgba(60, 64, 67, 0.3), 0px 1px 3px 1px rgba(60, 64, 67, 0.15);\n",
              "      fill: #174EA6;\n",
              "    }\n",
              "\n",
              "    [theme=dark] .colab-df-convert {\n",
              "      background-color: #3B4455;\n",
              "      fill: #D2E3FC;\n",
              "    }\n",
              "\n",
              "    [theme=dark] .colab-df-convert:hover {\n",
              "      background-color: #434B5C;\n",
              "      box-shadow: 0px 1px 3px 1px rgba(0, 0, 0, 0.15);\n",
              "      filter: drop-shadow(0px 1px 2px rgba(0, 0, 0, 0.3));\n",
              "      fill: #FFFFFF;\n",
              "    }\n",
              "  </style>\n",
              "\n",
              "      <script>\n",
              "        const buttonEl =\n",
              "          document.querySelector('#df-7f66ae71-a75b-45d1-9028-16db810a2c1e button.colab-df-convert');\n",
              "        buttonEl.style.display =\n",
              "          google.colab.kernel.accessAllowed ? 'block' : 'none';\n",
              "\n",
              "        async function convertToInteractive(key) {\n",
              "          const element = document.querySelector('#df-7f66ae71-a75b-45d1-9028-16db810a2c1e');\n",
              "          const dataTable =\n",
              "            await google.colab.kernel.invokeFunction('convertToInteractive',\n",
              "                                                     [key], {});\n",
              "          if (!dataTable) return;\n",
              "\n",
              "          const docLinkHtml = 'Like what you see? Visit the ' +\n",
              "            '<a target=\"_blank\" href=https://colab.research.google.com/notebooks/data_table.ipynb>data table notebook</a>'\n",
              "            + ' to learn more about interactive tables.';\n",
              "          element.innerHTML = '';\n",
              "          dataTable['output_type'] = 'display_data';\n",
              "          await google.colab.output.renderOutput(dataTable, element);\n",
              "          const docLink = document.createElement('div');\n",
              "          docLink.innerHTML = docLinkHtml;\n",
              "          element.appendChild(docLink);\n",
              "        }\n",
              "      </script>\n",
              "    </div>\n",
              "  </div>\n",
              "  "
            ]
          },
          "metadata": {},
          "execution_count": 30
        }
      ]
    },
    {
      "cell_type": "markdown",
      "source": [
        "# Data Cleaning\n"
      ],
      "metadata": {
        "id": "lvNzYs1_02AC"
      }
    },
    {
      "cell_type": "markdown",
      "source": [
        "## Change variables types"
      ],
      "metadata": {
        "id": "wsGuE3Gy07q2"
      }
    },
    {
      "cell_type": "code",
      "source": [
        "request_appr['fechas_date_month'] = pd.to_datetime(request_appr['fechas_date_month'], format='%Y-%m-%d')\n",
        "(request_appr['fechas_date_month'].min(), request_appr['fechas_date_month'].max())"
      ],
      "metadata": {
        "colab": {
          "base_uri": "https://localhost:8080/"
        },
        "id": "segJxwU5Fn9t",
        "outputId": "e52eb2ba-6732-47ba-a37d-47f32d8623ff"
      },
      "execution_count": 31,
      "outputs": [
        {
          "output_type": "stream",
          "name": "stderr",
          "text": [
            "<ipython-input-31-294c159e1179>:1: SettingWithCopyWarning: \n",
            "A value is trying to be set on a copy of a slice from a DataFrame.\n",
            "Try using .loc[row_indexer,col_indexer] = value instead\n",
            "\n",
            "See the caveats in the documentation: https://pandas.pydata.org/pandas-docs/stable/user_guide/indexing.html#returning-a-view-versus-a-copy\n",
            "  request_appr['fechas_date_month'] = pd.to_datetime(request_appr['fechas_date_month'], format='%Y-%m-%d')\n"
          ]
        },
        {
          "output_type": "execute_result",
          "data": {
            "text/plain": [
              "(Timestamp('2017-07-01 00:00:00'), Timestamp('2021-09-01 00:00:00'))"
            ]
          },
          "metadata": {},
          "execution_count": 31
        }
      ]
    },
    {
      "cell_type": "markdown",
      "source": [
        "## Analysis Target Variable"
      ],
      "metadata": {
        "id": "cs3brqx61Fqx"
      }
    },
    {
      "cell_type": "code",
      "source": [
        "plt.figure(figsize=(6, 4))\n",
        "\n",
        "sns.histplot(request_appr.appraisal, bins=40, color='black', alpha=1)\n",
        "plt.ylabel('Frequency')\n",
        "plt.xlabel('Amount Appr')\n",
        "plt.title('Distribution of appr')\n",
        "\n",
        "plt.show()"
      ],
      "metadata": {
        "colab": {
          "base_uri": "https://localhost:8080/",
          "height": 295
        },
        "id": "U8Q-6Joq1JUn",
        "outputId": "cbad6439-66d8-4478-b46a-7a8ebe950545"
      },
      "execution_count": 32,
      "outputs": [
        {
          "output_type": "display_data",
          "data": {
            "text/plain": [
              "<Figure size 432x288 with 1 Axes>"
            ],
            "image/png": "[encoded data removed]"
          },
          "metadata": {
            "needs_background": "light"
          }
        }
      ]
    },
    {
      "cell_type": "code",
      "source": [
        "log_price = np.log1p(request_appr.appraisal)\n",
        "\n",
        "plt.figure(figsize=(6, 4))\n",
        "\n",
        "sns.histplot(log_price, bins=50, color='black', alpha=1)\n",
        "plt.ylabel('Frequency')\n",
        "plt.xlabel('Amount Appr')\n",
        "plt.title('Distribution Log(Appr +1)')\n",
        "plt.show()"
      ],
      "metadata": {
        "colab": {
          "base_uri": "https://localhost:8080/",
          "height": 295
        },
        "id": "KsplLHtv1V3W",
        "outputId": "23fa5576-4839-40ea-93cb-c6b9659d8720"
      },
      "execution_count": 33,
      "outputs": [
        {
          "output_type": "display_data",
          "data": {
            "text/plain": [
              "<Figure size 432x288 with 1 Axes>"
            ],
            "image/png": "[encoded data removed]"
          },
          "metadata": {
            "needs_background": "light"
          }
        }
      ]
    },
    {
      "cell_type": "code",
      "source": [
        "fig = px.line(request_appr, x='fechas_date_month', y=\"appraisal\")\n",
        "fig.show()"
      ],
      "metadata": {
        "colab": {
          "base_uri": "https://localhost:8080/",
          "height": 542
        },
        "id": "d8ktkZwE5Apl",
        "outputId": "7f9f65d0-af71-404c-bb28-245dc103aba4"
      },
      "execution_count": 34,
      "outputs": [
        {
          "output_type": "display_data",
          "data": {
            "text/html": [
              "<html>\n",
              "<head><meta charset=\"utf-8\" /></head>\n",
              "<body>\n",
              "    <div>            <script src=\"https://cdnjs.cloudflare.com/ajax/libs/mathjax/2.7.5/MathJax.js?config=TeX-AMS-MML_SVG\"></script><script type=\"text/javascript\">if (window.MathJax) {MathJax.Hub.Config({SVG: {font: \"STIX-Web\"}});}</script>                <script type=\"text/javascript\">window.PlotlyConfig = {MathJaxConfig: 'local'};</script>\n",
              "        <script src=\"https://cdn.plot.ly/plotly-2.8.3.min.js\"></script>                <div id=\"190ea95b-4068-464e-a7ac-6d55cf7f88bc\" class=\"plotly-graph-div\" style=\"height:525px; width:100%;\"></div>            <script type=\"text/javascript\">                                    window.PLOTLYENV=window.PLOTLYENV || {};                                    if (document.getElementById(\"190ea95b-4068-464e-a7ac-6d55cf7f88bc\")) {                    Plotly.newPlot(                        \"190ea95b-4068-464e-a7ac-6d55cf7f88bc\",                        [{\"hovertemplate\":\"fechas_date_month=%{x}<br>appraisal=%{y}<extra></extra>\",\"legendgroup\":\"\",\"line\":{\"color\":\"#636efa\",\"dash\":\"solid\"},\"marker\":{\"symbol\":\"circle\"},\"mode\":\"lines\",\"name\":\"\",\"orientation\":\"v\",\"showlegend\":false,\"x\":[\"2017-07-01T00:00:00\",\"2017-08-01T00:00:00\",\"2017-09-01T00:00:00\",\"2017-10-01T00:00:00\",\"2017-11-01T00:00:00\",\"2017-12-01T00:00:00\",\"2018-01-01T00:00:00\",\"2018-02-01T00:00:00\",\"2018-03-01T00:00:00\",\"2018-04-01T00:00:00\",\"2018-05-01T00:00:00\",\"2018-06-01T00:00:00\",\"2018-07-01T00:00:00\",\"2018-08-01T00:00:00\",\"2018-09-01T00:00:00\",\"2018-10-01T00:00:00\",\"2018-11-01T00:00:00\",\"2018-12-01T00:00:00\",\"2019-01-01T00:00:00\",\"2019-02-01T00:00:00\",\"2019-03-01T00:00:00\",\"2019-04-01T00:00:00\",\"2019-05-01T00:00:00\",\"2019-06-01T00:00:00\",\"2019-07-01T00:00:00\",\"2019-08-01T00:00:00\",\"2019-09-01T00:00:00\",\"2019-10-01T00:00:00\",\"2019-11-01T00:00:00\",\"2019-12-01T00:00:00\",\"2020-01-01T00:00:00\",\"2020-02-01T00:00:00\",\"2020-03-01T00:00:00\",\"2020-04-01T00:00:00\",\"2020-05-01T00:00:00\",\"2020-06-01T00:00:00\",\"2020-07-01T00:00:00\",\"2020-08-01T00:00:00\",\"2020-09-01T00:00:00\",\"2020-10-01T00:00:00\",\"2020-11-01T00:00:00\",\"2020-12-01T00:00:00\",\"2021-01-01T00:00:00\",\"2021-02-01T00:00:00\",\"2021-03-01T00:00:00\",\"2021-04-01T00:00:00\",\"2021-05-01T00:00:00\",\"2021-06-01T00:00:00\",\"2021-07-01T00:00:00\",\"2021-08-01T00:00:00\",\"2021-09-01T00:00:00\"],\"xaxis\":\"x\",\"y\":[1.0,0.0,6.0,16.0,7.0,5.0,4.0,2.0,31.0,35.0,79.0,71.0,66.0,96.0,72.0,111.0,86.0,73.0,95.0,84.0,59.0,77.0,96.0,111.0,124.0,127.0,119.0,98.0,102.0,80.0,124.0,91.0,56.0,2.0,19.0,18.0,112.0,130.0,84.0,62.0,55.0,81.0,121.0,121.0,147.0,151.0,108.0,135.0,77.0,52.0,76.0],\"yaxis\":\"y\",\"type\":\"scatter\"}],                        {\"template\":{\"data\":{\"bar\":[{\"error_x\":{\"color\":\"#2a3f5f\"},\"error_y\":{\"color\":\"#2a3f5f\"},\"marker\":{\"line\":{\"color\":\"#E5ECF6\",\"width\":0.5},\"pattern\":{\"fillmode\":\"overlay\",\"size\":10,\"solidity\":0.2}},\"type\":\"bar\"}],\"barpolar\":[{\"marker\":{\"line\":{\"color\":\"#E5ECF6\",\"width\":0.5},\"pattern\":{\"fillmode\":\"overlay\",\"size\":10,\"solidity\":0.2}},\"type\":\"barpolar\"}],\"carpet\":[{\"aaxis\":{\"endlinecolor\":\"#2a3f5f\",\"gridcolor\":\"white\",\"linecolor\":\"white\",\"minorgridcolor\":\"white\",\"startlinecolor\":\"#2a3f5f\"},\"baxis\":{\"endlinecolor\":\"#2a3f5f\",\"gridcolor\":\"white\",\"linecolor\":\"white\",\"minorgridcolor\":\"white\",\"startlinecolor\":\"#2a3f5f\"},\"type\":\"carpet\"}],\"choropleth\":[{\"colorbar\":{\"outlinewidth\":0,\"ticks\":\"\"},\"type\":\"choropleth\"}],\"contour\":[{\"colorbar\":{\"outlinewidth\":0,\"ticks\":\"\"},\"colorscale\":[[0.0,\"#0d0887\"],[0.1111111111111111,\"#46039f\"],[0.2222222222222222,\"#7201a8\"],[0.3333333333333333,\"#9c179e\"],[0.4444444444444444,\"#bd3786\"],[0.5555555555555556,\"#d8576b\"],[0.6666666666666666,\"#ed7953\"],[0.7777777777777778,\"#fb9f3a\"],[0.8888888888888888,\"#fdca26\"],[1.0,\"#f0f921\"]],\"type\":\"contour\"}],\"contourcarpet\":[{\"colorbar\":{\"outlinewidth\":0,\"ticks\":\"\"},\"type\":\"contourcarpet\"}],\"heatmap\":[{\"colorbar\":{\"outlinewidth\":0,\"ticks\":\"\"},\"colorscale\":[[0.0,\"#0d0887\"],[0.1111111111111111,\"#46039f\"],[0.2222222222222222,\"#7201a8\"],[0.3333333333333333,\"#9c179e\"],[0.4444444444444444,\"#bd3786\"],[0.5555555555555556,\"#d8576b\"],[0.6666666666666666,\"#ed7953\"],[0.7777777777777778,\"#fb9f3a\"],[0.8888888888888888,\"#fdca26\"],[1.0,\"#f0f921\"]],\"type\":\"heatmap\"}],\"heatmapgl\":[{\"colorbar\":{\"outlinewidth\":0,\"ticks\":\"\"},\"colorscale\":[[0.0,\"#0d0887\"],[0.1111111111111111,\"#46039f\"],[0.2222222222222222,\"#7201a8\"],[0.3333333333333333,\"#9c179e\"],[0.4444444444444444,\"#bd3786\"],[0.5555555555555556,\"#d8576b\"],[0.6666666666666666,\"#ed7953\"],[0.7777777777777778,\"#fb9f3a\"],[0.8888888888888888,\"#fdca26\"],[1.0,\"#f0f921\"]],\"type\":\"heatmapgl\"}],\"histogram\":[{\"marker\":{\"pattern\":{\"fillmode\":\"overlay\",\"size\":10,\"solidity\":0.2}},\"type\":\"histogram\"}],\"histogram2d\":[{\"colorbar\":{\"outlinewidth\":0,\"ticks\":\"\"},\"colorscale\":[[0.0,\"#0d0887\"],[0.1111111111111111,\"#46039f\"],[0.2222222222222222,\"#7201a8\"],[0.3333333333333333,\"#9c179e\"],[0.4444444444444444,\"#bd3786\"],[0.5555555555555556,\"#d8576b\"],[0.6666666666666666,\"#ed7953\"],[0.7777777777777778,\"#fb9f3a\"],[0.8888888888888888,\"#fdca26\"],[1.0,\"#f0f921\"]],\"type\":\"histogram2d\"}],\"histogram2dcontour\":[{\"colorbar\":{\"outlinewidth\":0,\"ticks\":\"\"},\"colorscale\":[[0.0,\"#0d0887\"],[0.1111111111111111,\"#46039f\"],[0.2222222222222222,\"#7201a8\"],[0.3333333333333333,\"#9c179e\"],[0.4444444444444444,\"#bd3786\"],[0.5555555555555556,\"#d8576b\"],[0.6666666666666666,\"#ed7953\"],[0.7777777777777778,\"#fb9f3a\"],[0.8888888888888888,\"#fdca26\"],[1.0,\"#f0f921\"]],\"type\":\"histogram2dcontour\"}],\"mesh3d\":[{\"colorbar\":{\"outlinewidth\":0,\"ticks\":\"\"},\"type\":\"mesh3d\"}],\"parcoords\":[{\"line\":{\"colorbar\":{\"outlinewidth\":0,\"ticks\":\"\"}},\"type\":\"parcoords\"}],\"pie\":[{\"automargin\":true,\"type\":\"pie\"}],\"scatter\":[{\"marker\":{\"colorbar\":{\"outlinewidth\":0,\"ticks\":\"\"}},\"type\":\"scatter\"}],\"scatter3d\":[{\"line\":{\"colorbar\":{\"outlinewidth\":0,\"ticks\":\"\"}},\"marker\":{\"colorbar\":{\"outlinewidth\":0,\"ticks\":\"\"}},\"type\":\"scatter3d\"}],\"scattercarpet\":[{\"marker\":{\"colorbar\":{\"outlinewidth\":0,\"ticks\":\"\"}},\"type\":\"scattercarpet\"}],\"scattergeo\":[{\"marker\":{\"colorbar\":{\"outlinewidth\":0,\"ticks\":\"\"}},\"type\":\"scattergeo\"}],\"scattergl\":[{\"marker\":{\"colorbar\":{\"outlinewidth\":0,\"ticks\":\"\"}},\"type\":\"scattergl\"}],\"scattermapbox\":[{\"marker\":{\"colorbar\":{\"outlinewidth\":0,\"ticks\":\"\"}},\"type\":\"scattermapbox\"}],\"scatterpolar\":[{\"marker\":{\"colorbar\":{\"outlinewidth\":0,\"ticks\":\"\"}},\"type\":\"scatterpolar\"}],\"scatterpolargl\":[{\"marker\":{\"colorbar\":{\"outlinewidth\":0,\"ticks\":\"\"}},\"type\":\"scatterpolargl\"}],\"scatterternary\":[{\"marker\":{\"colorbar\":{\"outlinewidth\":0,\"ticks\":\"\"}},\"type\":\"scatterternary\"}],\"surface\":[{\"colorbar\":{\"outlinewidth\":0,\"ticks\":\"\"},\"colorscale\":[[0.0,\"#0d0887\"],[0.1111111111111111,\"#46039f\"],[0.2222222222222222,\"#7201a8\"],[0.3333333333333333,\"#9c179e\"],[0.4444444444444444,\"#bd3786\"],[0.5555555555555556,\"#d8576b\"],[0.6666666666666666,\"#ed7953\"],[0.7777777777777778,\"#fb9f3a\"],[0.8888888888888888,\"#fdca26\"],[1.0,\"#f0f921\"]],\"type\":\"surface\"}],\"table\":[{\"cells\":{\"fill\":{\"color\":\"#EBF0F8\"},\"line\":{\"color\":\"white\"}},\"header\":{\"fill\":{\"color\":\"#C8D4E3\"},\"line\":{\"color\":\"white\"}},\"type\":\"table\"}]},\"layout\":{\"annotationdefaults\":{\"arrowcolor\":\"#2a3f5f\",\"arrowhead\":0,\"arrowwidth\":1},\"autotypenumbers\":\"strict\",\"coloraxis\":{\"colorbar\":{\"outlinewidth\":0,\"ticks\":\"\"}},\"colorscale\":{\"diverging\":[[0,\"#8e0152\"],[0.1,\"#c51b7d\"],[0.2,\"#de77ae\"],[0.3,\"#f1b6da\"],[0.4,\"#fde0ef\"],[0.5,\"#f7f7f7\"],[0.6,\"#e6f5d0\"],[0.7,\"#b8e186\"],[0.8,\"#7fbc41\"],[0.9,\"#4d9221\"],[1,\"#276419\"]],\"sequential\":[[0.0,\"#0d0887\"],[0.1111111111111111,\"#46039f\"],[0.2222222222222222,\"#7201a8\"],[0.3333333333333333,\"#9c179e\"],[0.4444444444444444,\"#bd3786\"],[0.5555555555555556,\"#d8576b\"],[0.6666666666666666,\"#ed7953\"],[0.7777777777777778,\"#fb9f3a\"],[0.8888888888888888,\"#fdca26\"],[1.0,\"#f0f921\"]],\"sequentialminus\":[[0.0,\"#0d0887\"],[0.1111111111111111,\"#46039f\"],[0.2222222222222222,\"#7201a8\"],[0.3333333333333333,\"#9c179e\"],[0.4444444444444444,\"#bd3786\"],[0.5555555555555556,\"#d8576b\"],[0.6666666666666666,\"#ed7953\"],[0.7777777777777778,\"#fb9f3a\"],[0.8888888888888888,\"#fdca26\"],[1.0,\"#f0f921\"]]},\"colorway\":[\"#636efa\",\"#EF553B\",\"#00cc96\",\"#ab63fa\",\"#FFA15A\",\"#19d3f3\",\"#FF6692\",\"#B6E880\",\"#FF97FF\",\"#FECB52\"],\"font\":{\"color\":\"#2a3f5f\"},\"geo\":{\"bgcolor\":\"white\",\"lakecolor\":\"white\",\"landcolor\":\"#E5ECF6\",\"showlakes\":true,\"showland\":true,\"subunitcolor\":\"white\"},\"hoverlabel\":{\"align\":\"left\"},\"hovermode\":\"closest\",\"mapbox\":{\"style\":\"light\"},\"paper_bgcolor\":\"white\",\"plot_bgcolor\":\"#E5ECF6\",\"polar\":{\"angularaxis\":{\"gridcolor\":\"white\",\"linecolor\":\"white\",\"ticks\":\"\"},\"bgcolor\":\"#E5ECF6\",\"radialaxis\":{\"gridcolor\":\"white\",\"linecolor\":\"white\",\"ticks\":\"\"}},\"scene\":{\"xaxis\":{\"backgroundcolor\":\"#E5ECF6\",\"gridcolor\":\"white\",\"gridwidth\":2,\"linecolor\":\"white\",\"showbackground\":true,\"ticks\":\"\",\"zerolinecolor\":\"white\"},\"yaxis\":{\"backgroundcolor\":\"#E5ECF6\",\"gridcolor\":\"white\",\"gridwidth\":2,\"linecolor\":\"white\",\"showbackground\":true,\"ticks\":\"\",\"zerolinecolor\":\"white\"},\"zaxis\":{\"backgroundcolor\":\"#E5ECF6\",\"gridcolor\":\"white\",\"gridwidth\":2,\"linecolor\":\"white\",\"showbackground\":true,\"ticks\":\"\",\"zerolinecolor\":\"white\"}},\"shapedefaults\":{\"line\":{\"color\":\"#2a3f5f\"}},\"ternary\":{\"aaxis\":{\"gridcolor\":\"white\",\"linecolor\":\"white\",\"ticks\":\"\"},\"baxis\":{\"gridcolor\":\"white\",\"linecolor\":\"white\",\"ticks\":\"\"},\"bgcolor\":\"#E5ECF6\",\"caxis\":{\"gridcolor\":\"white\",\"linecolor\":\"white\",\"ticks\":\"\"}},\"title\":{\"x\":0.05},\"xaxis\":{\"automargin\":true,\"gridcolor\":\"white\",\"linecolor\":\"white\",\"ticks\":\"\",\"title\":{\"standoff\":15},\"zerolinecolor\":\"white\",\"zerolinewidth\":2},\"yaxis\":{\"automargin\":true,\"gridcolor\":\"white\",\"linecolor\":\"white\",\"ticks\":\"\",\"title\":{\"standoff\":15},\"zerolinecolor\":\"white\",\"zerolinewidth\":2}}},\"xaxis\":{\"anchor\":\"y\",\"domain\":[0.0,1.0],\"title\":{\"text\":\"fechas_date_month\"}},\"yaxis\":{\"anchor\":\"x\",\"domain\":[0.0,1.0],\"title\":{\"text\":\"appraisal\"}},\"legend\":{\"tracegroupgap\":0},\"margin\":{\"t\":60}},                        {\"responsive\": true}                    ).then(function(){\n",
              "                            \n",
              "var gd = document.getElementById('190ea95b-4068-464e-a7ac-6d55cf7f88bc');\n",
              "var x = new MutationObserver(function (mutations, observer) {{\n",
              "        var display = window.getComputedStyle(gd).display;\n",
              "        if (!display || display === 'none') {{\n",
              "            console.log([gd, 'removed!']);\n",
              "            Plotly.purge(gd);\n",
              "            observer.disconnect();\n",
              "        }}\n",
              "}});\n",
              "\n",
              "// Listen for the removal of the full notebook cells\n",
              "var notebookContainer = gd.closest('#notebook-container');\n",
              "if (notebookContainer) {{\n",
              "    x.observe(notebookContainer, {childList: true});\n",
              "}}\n",
              "\n",
              "// Listen for the clearing of the current output cell\n",
              "var outputEl = gd.closest('.output');\n",
              "if (outputEl) {{\n",
              "    x.observe(outputEl, {childList: true});\n",
              "}}\n",
              "\n",
              "                        })                };                            </script>        </div>\n",
              "</body>\n",
              "</html>"
            ]
          },
          "metadata": {}
        }
      ]
    },
    {
      "cell_type": "markdown",
      "source": [
        "# EDA"
      ],
      "metadata": {
        "id": "smkjh53B10Aa"
      }
    },
    {
      "cell_type": "markdown",
      "source": [
        "## Features Analysis"
      ],
      "metadata": {
        "id": "ohC0C5UE11wE"
      }
    },
    {
      "cell_type": "code",
      "source": [
        "request_appr.head()"
      ],
      "metadata": {
        "colab": {
          "base_uri": "https://localhost:8080/",
          "height": 206
        },
        "id": "o0cDcsSSCysi",
        "outputId": "d1e3b8d2-a30e-4ec0-daa9-a255a096807c"
      },
      "execution_count": 35,
      "outputs": [
        {
          "output_type": "execute_result",
          "data": {
            "text/plain": [
              "   appraisal fechas_date_month\n",
              "0        1.0        2017-07-01\n",
              "1        0.0        2017-08-01\n",
              "2        6.0        2017-09-01\n",
              "3       16.0        2017-10-01\n",
              "4        7.0        2017-11-01"
            ],
            "text/html": [
              "\n",
              "  <div id=\"df-36d02600-f537-4ff4-b76e-58ac4efa3cbb\">\n",
              "    <div class=\"colab-df-container\">\n",
              "      <div>\n",
              "<style scoped>\n",
              "    .dataframe tbody tr th:only-of-type {\n",
              "        vertical-align: middle;\n",
              "    }\n",
              "\n",
              "    .dataframe tbody tr th {\n",
              "        vertical-align: top;\n",
              "    }\n",
              "\n",
              "    .dataframe thead th {\n",
              "        text-align: right;\n",
              "    }\n",
              "</style>\n",
              "<table border=\"1\" class=\"dataframe\">\n",
              "  <thead>\n",
              "    <tr style=\"text-align: right;\">\n",
              "      <th></th>\n",
              "      <th>appraisal</th>\n",
              "      <th>fechas_date_month</th>\n",
              "    </tr>\n",
              "  </thead>\n",
              "  <tbody>\n",
              "    <tr>\n",
              "      <th>0</th>\n",
              "      <td>1.0</td>\n",
              "      <td>2017-07-01</td>\n",
              "    </tr>\n",
              "    <tr>\n",
              "      <th>1</th>\n",
              "      <td>0.0</td>\n",
              "      <td>2017-08-01</td>\n",
              "    </tr>\n",
              "    <tr>\n",
              "      <th>2</th>\n",
              "      <td>6.0</td>\n",
              "      <td>2017-09-01</td>\n",
              "    </tr>\n",
              "    <tr>\n",
              "      <th>3</th>\n",
              "      <td>16.0</td>\n",
              "      <td>2017-10-01</td>\n",
              "    </tr>\n",
              "    <tr>\n",
              "      <th>4</th>\n",
              "      <td>7.0</td>\n",
              "      <td>2017-11-01</td>\n",
              "    </tr>\n",
              "  </tbody>\n",
              "</table>\n",
              "</div>\n",
              "      <button class=\"colab-df-convert\" onclick=\"convertToInteractive('df-36d02600-f537-4ff4-b76e-58ac4efa3cbb')\"\n",
              "              title=\"Convert this dataframe to an interactive table.\"\n",
              "              style=\"display:none;\">\n",
              "        \n",
              "  <svg xmlns=\"http://www.w3.org/2000/svg\" height=\"24px\"viewBox=\"0 0 24 24\"\n",
              "       width=\"24px\">\n",
              "    <path d=\"M0 0h24v24H0V0z\" fill=\"none\"/>\n",
              "    <path d=\"M18.56 5.44l.94 2.06.94-2.06 2.06-.94-2.06-.94-.94-2.06-.94 2.06-2.06.94zm-11 1L8.5 8.5l.94-2.06 2.06-.94-2.06-.94L8.5 2.5l-.94 2.06-2.06.94zm10 10l.94 2.06.94-2.06 2.06-.94-2.06-.94-.94-2.06-.94 2.06-2.06.94z\"/><path d=\"M17.41 7.96l-1.37-1.37c-.4-.4-.92-.59-1.43-.59-.52 0-1.04.2-1.43.59L10.3 9.45l-7.72 7.72c-.78.78-.78 2.05 0 2.83L4 21.41c.39.39.9.59 1.41.59.51 0 1.02-.2 1.41-.59l7.78-7.78 2.81-2.81c.8-.78.8-2.07 0-2.86zM5.41 20L4 18.59l7.72-7.72 1.47 1.35L5.41 20z\"/>\n",
              "  </svg>\n",
              "      </button>\n",
              "      \n",
              "  <style>\n",
              "    .colab-df-container {\n",
              "      display:flex;\n",
              "      flex-wrap:wrap;\n",
              "      gap: 12px;\n",
              "    }\n",
              "\n",
              "    .colab-df-convert {\n",
              "      background-color: #E8F0FE;\n",
              "      border: none;\n",
              "      border-radius: 50%;\n",
              "      cursor: pointer;\n",
              "      display: none;\n",
              "      fill: #1967D2;\n",
              "      height: 32px;\n",
              "      padding: 0 0 0 0;\n",
              "      width: 32px;\n",
              "    }\n",
              "\n",
              "    .colab-df-convert:hover {\n",
              "      background-color: #E2EBFA;\n",
              "      box-shadow: 0px 1px 2px rgba(60, 64, 67, 0.3), 0px 1px 3px 1px rgba(60, 64, 67, 0.15);\n",
              "      fill: #174EA6;\n",
              "    }\n",
              "\n",
              "    [theme=dark] .colab-df-convert {\n",
              "      background-color: #3B4455;\n",
              "      fill: #D2E3FC;\n",
              "    }\n",
              "\n",
              "    [theme=dark] .colab-df-convert:hover {\n",
              "      background-color: #434B5C;\n",
              "      box-shadow: 0px 1px 3px 1px rgba(0, 0, 0, 0.15);\n",
              "      filter: drop-shadow(0px 1px 2px rgba(0, 0, 0, 0.3));\n",
              "      fill: #FFFFFF;\n",
              "    }\n",
              "  </style>\n",
              "\n",
              "      <script>\n",
              "        const buttonEl =\n",
              "          document.querySelector('#df-36d02600-f537-4ff4-b76e-58ac4efa3cbb button.colab-df-convert');\n",
              "        buttonEl.style.display =\n",
              "          google.colab.kernel.accessAllowed ? 'block' : 'none';\n",
              "\n",
              "        async function convertToInteractive(key) {\n",
              "          const element = document.querySelector('#df-36d02600-f537-4ff4-b76e-58ac4efa3cbb');\n",
              "          const dataTable =\n",
              "            await google.colab.kernel.invokeFunction('convertToInteractive',\n",
              "                                                     [key], {});\n",
              "          if (!dataTable) return;\n",
              "\n",
              "          const docLinkHtml = 'Like what you see? Visit the ' +\n",
              "            '<a target=\"_blank\" href=https://colab.research.google.com/notebooks/data_table.ipynb>data table notebook</a>'\n",
              "            + ' to learn more about interactive tables.';\n",
              "          element.innerHTML = '';\n",
              "          dataTable['output_type'] = 'display_data';\n",
              "          await google.colab.output.renderOutput(dataTable, element);\n",
              "          const docLink = document.createElement('div');\n",
              "          docLink.innerHTML = docLinkHtml;\n",
              "          element.appendChild(docLink);\n",
              "        }\n",
              "      </script>\n",
              "    </div>\n",
              "  </div>\n",
              "  "
            ]
          },
          "metadata": {},
          "execution_count": 35
        }
      ]
    },
    {
      "cell_type": "code",
      "source": [
        "#@ Predominant appr\n",
        "request_appr.appraisal.value_counts().head(10)"
      ],
      "metadata": {
        "colab": {
          "base_uri": "https://localhost:8080/"
        },
        "id": "6AFK3M2Q16S3",
        "outputId": "920776c9-9b41-4ee6-f695-5077b8bc40d4"
      },
      "execution_count": 36,
      "outputs": [
        {
          "output_type": "execute_result",
          "data": {
            "text/plain": [
              "124.0    2\n",
              "96.0     2\n",
              "77.0     2\n",
              "84.0     2\n",
              "2.0      2\n",
              "121.0    2\n",
              "111.0    2\n",
              "80.0     1\n",
              "91.0     1\n",
              "56.0     1\n",
              "Name: appraisal, dtype: int64"
            ]
          },
          "metadata": {},
          "execution_count": 36
        }
      ]
    },
    {
      "cell_type": "code",
      "source": [
        "#@ Create exogen variable with perception of covid \n",
        "request_appr['exog_1'] = request_appr.fechas_date_month.apply(create_exogen_variable)"
      ],
      "metadata": {
        "id": "kOBqi3Iv6cxk"
      },
      "execution_count": 37,
      "outputs": []
    },
    {
      "cell_type": "code",
      "source": [
        "fig = px.line(request_appr, x='fechas_date_month', y=\"appraisal\")\n",
        "# fig = px.line(request_appr, x='fechas_date_month', y=\"exog_1\")\n",
        "fig.show()"
      ],
      "metadata": {
        "colab": {
          "base_uri": "https://localhost:8080/",
          "height": 542
        },
        "id": "OnMRUVf0FM1b",
        "outputId": "3c4baeda-9f7a-40d1-f5d2-3c451cd58ea6"
      },
      "execution_count": 38,
      "outputs": [
        {
          "output_type": "display_data",
          "data": {
            "text/html": [
              "<html>\n",
              "<head><meta charset=\"utf-8\" /></head>\n",
              "<body>\n",
              "    <div>            <script src=\"https://cdnjs.cloudflare.com/ajax/libs/mathjax/2.7.5/MathJax.js?config=TeX-AMS-MML_SVG\"></script><script type=\"text/javascript\">if (window.MathJax) {MathJax.Hub.Config({SVG: {font: \"STIX-Web\"}});}</script>                <script type=\"text/javascript\">window.PlotlyConfig = {MathJaxConfig: 'local'};</script>\n",
              "        <script src=\"https://cdn.plot.ly/plotly-2.8.3.min.js\"></script>                <div id=\"1a43e234-06b5-4c67-9305-1adbc6f6c4b8\" class=\"plotly-graph-div\" style=\"height:525px; width:100%;\"></div>            <script type=\"text/javascript\">                                    window.PLOTLYENV=window.PLOTLYENV || {};                                    if (document.getElementById(\"1a43e234-06b5-4c67-9305-1adbc6f6c4b8\")) {                    Plotly.newPlot(                        \"1a43e234-06b5-4c67-9305-1adbc6f6c4b8\",                        [{\"hovertemplate\":\"fechas_date_month=%{x}<br>appraisal=%{y}<extra></extra>\",\"legendgroup\":\"\",\"line\":{\"color\":\"#636efa\",\"dash\":\"solid\"},\"marker\":{\"symbol\":\"circle\"},\"mode\":\"lines\",\"name\":\"\",\"orientation\":\"v\",\"showlegend\":false,\"x\":[\"2017-07-01T00:00:00\",\"2017-08-01T00:00:00\",\"2017-09-01T00:00:00\",\"2017-10-01T00:00:00\",\"2017-11-01T00:00:00\",\"2017-12-01T00:00:00\",\"2018-01-01T00:00:00\",\"2018-02-01T00:00:00\",\"2018-03-01T00:00:00\",\"2018-04-01T00:00:00\",\"2018-05-01T00:00:00\",\"2018-06-01T00:00:00\",\"2018-07-01T00:00:00\",\"2018-08-01T00:00:00\",\"2018-09-01T00:00:00\",\"2018-10-01T00:00:00\",\"2018-11-01T00:00:00\",\"2018-12-01T00:00:00\",\"2019-01-01T00:00:00\",\"2019-02-01T00:00:00\",\"2019-03-01T00:00:00\",\"2019-04-01T00:00:00\",\"2019-05-01T00:00:00\",\"2019-06-01T00:00:00\",\"2019-07-01T00:00:00\",\"2019-08-01T00:00:00\",\"2019-09-01T00:00:00\",\"2019-10-01T00:00:00\",\"2019-11-01T00:00:00\",\"2019-12-01T00:00:00\",\"2020-01-01T00:00:00\",\"2020-02-01T00:00:00\",\"2020-03-01T00:00:00\",\"2020-04-01T00:00:00\",\"2020-05-01T00:00:00\",\"2020-06-01T00:00:00\",\"2020-07-01T00:00:00\",\"2020-08-01T00:00:00\",\"2020-09-01T00:00:00\",\"2020-10-01T00:00:00\",\"2020-11-01T00:00:00\",\"2020-12-01T00:00:00\",\"2021-01-01T00:00:00\",\"2021-02-01T00:00:00\",\"2021-03-01T00:00:00\",\"2021-04-01T00:00:00\",\"2021-05-01T00:00:00\",\"2021-06-01T00:00:00\",\"2021-07-01T00:00:00\",\"2021-08-01T00:00:00\",\"2021-09-01T00:00:00\"],\"xaxis\":\"x\",\"y\":[1.0,0.0,6.0,16.0,7.0,5.0,4.0,2.0,31.0,35.0,79.0,71.0,66.0,96.0,72.0,111.0,86.0,73.0,95.0,84.0,59.0,77.0,96.0,111.0,124.0,127.0,119.0,98.0,102.0,80.0,124.0,91.0,56.0,2.0,19.0,18.0,112.0,130.0,84.0,62.0,55.0,81.0,121.0,121.0,147.0,151.0,108.0,135.0,77.0,52.0,76.0],\"yaxis\":\"y\",\"type\":\"scatter\"}],                        {\"template\":{\"data\":{\"bar\":[{\"error_x\":{\"color\":\"#2a3f5f\"},\"error_y\":{\"color\":\"#2a3f5f\"},\"marker\":{\"line\":{\"color\":\"#E5ECF6\",\"width\":0.5},\"pattern\":{\"fillmode\":\"overlay\",\"size\":10,\"solidity\":0.2}},\"type\":\"bar\"}],\"barpolar\":[{\"marker\":{\"line\":{\"color\":\"#E5ECF6\",\"width\":0.5},\"pattern\":{\"fillmode\":\"overlay\",\"size\":10,\"solidity\":0.2}},\"type\":\"barpolar\"}],\"carpet\":[{\"aaxis\":{\"endlinecolor\":\"#2a3f5f\",\"gridcolor\":\"white\",\"linecolor\":\"white\",\"minorgridcolor\":\"white\",\"startlinecolor\":\"#2a3f5f\"},\"baxis\":{\"endlinecolor\":\"#2a3f5f\",\"gridcolor\":\"white\",\"linecolor\":\"white\",\"minorgridcolor\":\"white\",\"startlinecolor\":\"#2a3f5f\"},\"type\":\"carpet\"}],\"choropleth\":[{\"colorbar\":{\"outlinewidth\":0,\"ticks\":\"\"},\"type\":\"choropleth\"}],\"contour\":[{\"colorbar\":{\"outlinewidth\":0,\"ticks\":\"\"},\"colorscale\":[[0.0,\"#0d0887\"],[0.1111111111111111,\"#46039f\"],[0.2222222222222222,\"#7201a8\"],[0.3333333333333333,\"#9c179e\"],[0.4444444444444444,\"#bd3786\"],[0.5555555555555556,\"#d8576b\"],[0.6666666666666666,\"#ed7953\"],[0.7777777777777778,\"#fb9f3a\"],[0.8888888888888888,\"#fdca26\"],[1.0,\"#f0f921\"]],\"type\":\"contour\"}],\"contourcarpet\":[{\"colorbar\":{\"outlinewidth\":0,\"ticks\":\"\"},\"type\":\"contourcarpet\"}],\"heatmap\":[{\"colorbar\":{\"outlinewidth\":0,\"ticks\":\"\"},\"colorscale\":[[0.0,\"#0d0887\"],[0.1111111111111111,\"#46039f\"],[0.2222222222222222,\"#7201a8\"],[0.3333333333333333,\"#9c179e\"],[0.4444444444444444,\"#bd3786\"],[0.5555555555555556,\"#d8576b\"],[0.6666666666666666,\"#ed7953\"],[0.7777777777777778,\"#fb9f3a\"],[0.8888888888888888,\"#fdca26\"],[1.0,\"#f0f921\"]],\"type\":\"heatmap\"}],\"heatmapgl\":[{\"colorbar\":{\"outlinewidth\":0,\"ticks\":\"\"},\"colorscale\":[[0.0,\"#0d0887\"],[0.1111111111111111,\"#46039f\"],[0.2222222222222222,\"#7201a8\"],[0.3333333333333333,\"#9c179e\"],[0.4444444444444444,\"#bd3786\"],[0.5555555555555556,\"#d8576b\"],[0.6666666666666666,\"#ed7953\"],[0.7777777777777778,\"#fb9f3a\"],[0.8888888888888888,\"#fdca26\"],[1.0,\"#f0f921\"]],\"type\":\"heatmapgl\"}],\"histogram\":[{\"marker\":{\"pattern\":{\"fillmode\":\"overlay\",\"size\":10,\"solidity\":0.2}},\"type\":\"histogram\"}],\"histogram2d\":[{\"colorbar\":{\"outlinewidth\":0,\"ticks\":\"\"},\"colorscale\":[[0.0,\"#0d0887\"],[0.1111111111111111,\"#46039f\"],[0.2222222222222222,\"#7201a8\"],[0.3333333333333333,\"#9c179e\"],[0.4444444444444444,\"#bd3786\"],[0.5555555555555556,\"#d8576b\"],[0.6666666666666666,\"#ed7953\"],[0.7777777777777778,\"#fb9f3a\"],[0.8888888888888888,\"#fdca26\"],[1.0,\"#f0f921\"]],\"type\":\"histogram2d\"}],\"histogram2dcontour\":[{\"colorbar\":{\"outlinewidth\":0,\"ticks\":\"\"},\"colorscale\":[[0.0,\"#0d0887\"],[0.1111111111111111,\"#46039f\"],[0.2222222222222222,\"#7201a8\"],[0.3333333333333333,\"#9c179e\"],[0.4444444444444444,\"#bd3786\"],[0.5555555555555556,\"#d8576b\"],[0.6666666666666666,\"#ed7953\"],[0.7777777777777778,\"#fb9f3a\"],[0.8888888888888888,\"#fdca26\"],[1.0,\"#f0f921\"]],\"type\":\"histogram2dcontour\"}],\"mesh3d\":[{\"colorbar\":{\"outlinewidth\":0,\"ticks\":\"\"},\"type\":\"mesh3d\"}],\"parcoords\":[{\"line\":{\"colorbar\":{\"outlinewidth\":0,\"ticks\":\"\"}},\"type\":\"parcoords\"}],\"pie\":[{\"automargin\":true,\"type\":\"pie\"}],\"scatter\":[{\"marker\":{\"colorbar\":{\"outlinewidth\":0,\"ticks\":\"\"}},\"type\":\"scatter\"}],\"scatter3d\":[{\"line\":{\"colorbar\":{\"outlinewidth\":0,\"ticks\":\"\"}},\"marker\":{\"colorbar\":{\"outlinewidth\":0,\"ticks\":\"\"}},\"type\":\"scatter3d\"}],\"scattercarpet\":[{\"marker\":{\"colorbar\":{\"outlinewidth\":0,\"ticks\":\"\"}},\"type\":\"scattercarpet\"}],\"scattergeo\":[{\"marker\":{\"colorbar\":{\"outlinewidth\":0,\"ticks\":\"\"}},\"type\":\"scattergeo\"}],\"scattergl\":[{\"marker\":{\"colorbar\":{\"outlinewidth\":0,\"ticks\":\"\"}},\"type\":\"scattergl\"}],\"scattermapbox\":[{\"marker\":{\"colorbar\":{\"outlinewidth\":0,\"ticks\":\"\"}},\"type\":\"scattermapbox\"}],\"scatterpolar\":[{\"marker\":{\"colorbar\":{\"outlinewidth\":0,\"ticks\":\"\"}},\"type\":\"scatterpolar\"}],\"scatterpolargl\":[{\"marker\":{\"colorbar\":{\"outlinewidth\":0,\"ticks\":\"\"}},\"type\":\"scatterpolargl\"}],\"scatterternary\":[{\"marker\":{\"colorbar\":{\"outlinewidth\":0,\"ticks\":\"\"}},\"type\":\"scatterternary\"}],\"surface\":[{\"colorbar\":{\"outlinewidth\":0,\"ticks\":\"\"},\"colorscale\":[[0.0,\"#0d0887\"],[0.1111111111111111,\"#46039f\"],[0.2222222222222222,\"#7201a8\"],[0.3333333333333333,\"#9c179e\"],[0.4444444444444444,\"#bd3786\"],[0.5555555555555556,\"#d8576b\"],[0.6666666666666666,\"#ed7953\"],[0.7777777777777778,\"#fb9f3a\"],[0.8888888888888888,\"#fdca26\"],[1.0,\"#f0f921\"]],\"type\":\"surface\"}],\"table\":[{\"cells\":{\"fill\":{\"color\":\"#EBF0F8\"},\"line\":{\"color\":\"white\"}},\"header\":{\"fill\":{\"color\":\"#C8D4E3\"},\"line\":{\"color\":\"white\"}},\"type\":\"table\"}]},\"layout\":{\"annotationdefaults\":{\"arrowcolor\":\"#2a3f5f\",\"arrowhead\":0,\"arrowwidth\":1},\"autotypenumbers\":\"strict\",\"coloraxis\":{\"colorbar\":{\"outlinewidth\":0,\"ticks\":\"\"}},\"colorscale\":{\"diverging\":[[0,\"#8e0152\"],[0.1,\"#c51b7d\"],[0.2,\"#de77ae\"],[0.3,\"#f1b6da\"],[0.4,\"#fde0ef\"],[0.5,\"#f7f7f7\"],[0.6,\"#e6f5d0\"],[0.7,\"#b8e186\"],[0.8,\"#7fbc41\"],[0.9,\"#4d9221\"],[1,\"#276419\"]],\"sequential\":[[0.0,\"#0d0887\"],[0.1111111111111111,\"#46039f\"],[0.2222222222222222,\"#7201a8\"],[0.3333333333333333,\"#9c179e\"],[0.4444444444444444,\"#bd3786\"],[0.5555555555555556,\"#d8576b\"],[0.6666666666666666,\"#ed7953\"],[0.7777777777777778,\"#fb9f3a\"],[0.8888888888888888,\"#fdca26\"],[1.0,\"#f0f921\"]],\"sequentialminus\":[[0.0,\"#0d0887\"],[0.1111111111111111,\"#46039f\"],[0.2222222222222222,\"#7201a8\"],[0.3333333333333333,\"#9c179e\"],[0.4444444444444444,\"#bd3786\"],[0.5555555555555556,\"#d8576b\"],[0.6666666666666666,\"#ed7953\"],[0.7777777777777778,\"#fb9f3a\"],[0.8888888888888888,\"#fdca26\"],[1.0,\"#f0f921\"]]},\"colorway\":[\"#636efa\",\"#EF553B\",\"#00cc96\",\"#ab63fa\",\"#FFA15A\",\"#19d3f3\",\"#FF6692\",\"#B6E880\",\"#FF97FF\",\"#FECB52\"],\"font\":{\"color\":\"#2a3f5f\"},\"geo\":{\"bgcolor\":\"white\",\"lakecolor\":\"white\",\"landcolor\":\"#E5ECF6\",\"showlakes\":true,\"showland\":true,\"subunitcolor\":\"white\"},\"hoverlabel\":{\"align\":\"left\"},\"hovermode\":\"closest\",\"mapbox\":{\"style\":\"light\"},\"paper_bgcolor\":\"white\",\"plot_bgcolor\":\"#E5ECF6\",\"polar\":{\"angularaxis\":{\"gridcolor\":\"white\",\"linecolor\":\"white\",\"ticks\":\"\"},\"bgcolor\":\"#E5ECF6\",\"radialaxis\":{\"gridcolor\":\"white\",\"linecolor\":\"white\",\"ticks\":\"\"}},\"scene\":{\"xaxis\":{\"backgroundcolor\":\"#E5ECF6\",\"gridcolor\":\"white\",\"gridwidth\":2,\"linecolor\":\"white\",\"showbackground\":true,\"ticks\":\"\",\"zerolinecolor\":\"white\"},\"yaxis\":{\"backgroundcolor\":\"#E5ECF6\",\"gridcolor\":\"white\",\"gridwidth\":2,\"linecolor\":\"white\",\"showbackground\":true,\"ticks\":\"\",\"zerolinecolor\":\"white\"},\"zaxis\":{\"backgroundcolor\":\"#E5ECF6\",\"gridcolor\":\"white\",\"gridwidth\":2,\"linecolor\":\"white\",\"showbackground\":true,\"ticks\":\"\",\"zerolinecolor\":\"white\"}},\"shapedefaults\":{\"line\":{\"color\":\"#2a3f5f\"}},\"ternary\":{\"aaxis\":{\"gridcolor\":\"white\",\"linecolor\":\"white\",\"ticks\":\"\"},\"baxis\":{\"gridcolor\":\"white\",\"linecolor\":\"white\",\"ticks\":\"\"},\"bgcolor\":\"#E5ECF6\",\"caxis\":{\"gridcolor\":\"white\",\"linecolor\":\"white\",\"ticks\":\"\"}},\"title\":{\"x\":0.05},\"xaxis\":{\"automargin\":true,\"gridcolor\":\"white\",\"linecolor\":\"white\",\"ticks\":\"\",\"title\":{\"standoff\":15},\"zerolinecolor\":\"white\",\"zerolinewidth\":2},\"yaxis\":{\"automargin\":true,\"gridcolor\":\"white\",\"linecolor\":\"white\",\"ticks\":\"\",\"title\":{\"standoff\":15},\"zerolinecolor\":\"white\",\"zerolinewidth\":2}}},\"xaxis\":{\"anchor\":\"y\",\"domain\":[0.0,1.0],\"title\":{\"text\":\"fechas_date_month\"}},\"yaxis\":{\"anchor\":\"x\",\"domain\":[0.0,1.0],\"title\":{\"text\":\"appraisal\"}},\"legend\":{\"tracegroupgap\":0},\"margin\":{\"t\":60}},                        {\"responsive\": true}                    ).then(function(){\n",
              "                            \n",
              "var gd = document.getElementById('1a43e234-06b5-4c67-9305-1adbc6f6c4b8');\n",
              "var x = new MutationObserver(function (mutations, observer) {{\n",
              "        var display = window.getComputedStyle(gd).display;\n",
              "        if (!display || display === 'none') {{\n",
              "            console.log([gd, 'removed!']);\n",
              "            Plotly.purge(gd);\n",
              "            observer.disconnect();\n",
              "        }}\n",
              "}});\n",
              "\n",
              "// Listen for the removal of the full notebook cells\n",
              "var notebookContainer = gd.closest('#notebook-container');\n",
              "if (notebookContainer) {{\n",
              "    x.observe(notebookContainer, {childList: true});\n",
              "}}\n",
              "\n",
              "// Listen for the clearing of the current output cell\n",
              "var outputEl = gd.closest('.output');\n",
              "if (outputEl) {{\n",
              "    x.observe(outputEl, {childList: true});\n",
              "}}\n",
              "\n",
              "                        })                };                            </script>        </div>\n",
              "</body>\n",
              "</html>"
            ]
          },
          "metadata": {}
        }
      ]
    },
    {
      "cell_type": "markdown",
      "source": [
        "## Split Train-Test"
      ],
      "metadata": {
        "id": "TPaMrPdH2MjN"
      }
    },
    {
      "cell_type": "code",
      "source": [
        "data_train, data_test  = prepare_date_format(request_appr, 'appraisal', 'fechas_date_month', 12)"
      ],
      "metadata": {
        "id": "Jl12Pr7n1_ur"
      },
      "execution_count": 39,
      "outputs": []
    },
    {
      "cell_type": "code",
      "source": [
        "fig, ax = plt.subplots(figsize=(9, 4))\n",
        "data_train['y'].plot(ax=ax, label='train')\n",
        "data_test['y'].plot(ax=ax, label='test')\n",
        "ax.legend()"
      ],
      "metadata": {
        "colab": {
          "base_uri": "https://localhost:8080/",
          "height": 297
        },
        "id": "qOdSniGI45S_",
        "outputId": "d673fd52-fe6e-4282-af07-94969036f69a"
      },
      "execution_count": 40,
      "outputs": [
        {
          "output_type": "execute_result",
          "data": {
            "text/plain": [
              "<matplotlib.legend.Legend at 0x7f4326e92df0>"
            ]
          },
          "metadata": {},
          "execution_count": 40
        },
        {
          "output_type": "display_data",
          "data": {
            "text/plain": [
              "<Figure size 648x288 with 1 Axes>"
            ],
            "image/png": "[encoded data removed]"
          },
          "metadata": {
            "needs_background": "light"
          }
        }
      ]
    },
    {
      "cell_type": "markdown",
      "source": [
        "# Model Selection"
      ],
      "metadata": {
        "id": "fhitaUm22eBX"
      }
    },
    {
      "cell_type": "markdown",
      "source": [
        "## ForecasterAutoreg"
      ],
      "metadata": {
        "id": "VAsvNe7FGDBt"
      }
    },
    {
      "cell_type": "code",
      "source": [
        "steps = 12 \n"
      ],
      "metadata": {
        "id": "zeEZWccpHFxV"
      },
      "execution_count": 41,
      "outputs": []
    },
    {
      "cell_type": "code",
      "source": [
        "# Crear y entrenar forecaster\n",
        "# ==============================================================================\n",
        "forecaster = ForecasterAutoreg(\n",
        "                regressor = RandomForestRegressor(random_state=123),\n",
        "                lags = 12\n",
        "             )\n",
        "\n",
        "forecaster.fit(y=data_train['y'])\n",
        "forecaster"
      ],
      "metadata": {
        "colab": {
          "base_uri": "https://localhost:8080/"
        },
        "id": "y4AS9368GF8K",
        "outputId": "910e0d14-7e0c-4d3f-ba96-ba1d68a330ef"
      },
      "execution_count": 42,
      "outputs": [
        {
          "output_type": "execute_result",
          "data": {
            "text/plain": [
              "================= \n",
              "ForecasterAutoreg \n",
              "================= \n",
              "Regressor: RandomForestRegressor(random_state=123) \n",
              "Lags: [ 1  2  3  4  5  6  7  8  9 10 11 12] \n",
              "Transformer for y: None \n",
              "Transformer for exog: None \n",
              "Window size: 12 \n",
              "Weight function included: False \n",
              "Exogenous included: False \n",
              "Type of exogenous variable: None \n",
              "Exogenous variables names: None \n",
              "Training range: [Timestamp('2017-07-01 00:00:00'), Timestamp('2020-09-01 00:00:00')] \n",
              "Training index type: DatetimeIndex \n",
              "Training index frequency: MS \n",
              "Regressor parameters: {'bootstrap': True, 'ccp_alpha': 0.0, 'criterion': 'squared_error', 'max_depth': None, 'max_features': 'auto', 'max_leaf_nodes': None, 'max_samples': None, 'min_impurity_decrease': 0.0, 'min_samples_leaf': 1, 'min_samples_split': 2, 'min_weight_fraction_leaf': 0.0, 'n_estimators': 100, 'n_jobs': None, 'oob_score': False, 'random_state': 123, 'verbose': 0, 'warm_start': False} \n",
              "Creation date: 2023-01-27 02:25:46 \n",
              "Last fit date: 2023-01-27 02:25:47 \n",
              "Skforecast version: 0.6.0 \n",
              "Python version: 3.8.10 "
            ]
          },
          "metadata": {},
          "execution_count": 42
        }
      ]
    },
    {
      "cell_type": "code",
      "source": [
        "# Predictions\n",
        "# ==============================================================================\n",
        "predicts = forecaster.predict(steps=steps)\n",
        "predicts.head(5)"
      ],
      "metadata": {
        "colab": {
          "base_uri": "https://localhost:8080/"
        },
        "id": "zgUuW3daGPEs",
        "outputId": "a9f6a474-7c1d-4fc2-ebc2-8304b382d72c"
      },
      "execution_count": 43,
      "outputs": [
        {
          "output_type": "execute_result",
          "data": {
            "text/plain": [
              "2020-10-01    53.51\n",
              "2020-11-01    84.82\n",
              "2020-12-01    98.45\n",
              "2021-01-01    96.42\n",
              "2021-02-01    94.83\n",
              "Freq: MS, Name: pred, dtype: float64"
            ]
          },
          "metadata": {},
          "execution_count": 43
        }
      ]
    },
    {
      "cell_type": "code",
      "source": [
        "# Gráfico\n",
        "# ==============================================================================\n",
        "fig, ax = plt.subplots(figsize=(9, 4))\n",
        "data_train['y'].plot(ax=ax, label='train')\n",
        "data_test['y'].plot(ax=ax, label='test')\n",
        "predicts.plot(ax=ax, label='predictions')\n",
        "ax.legend();"
      ],
      "metadata": {
        "colab": {
          "base_uri": "https://localhost:8080/",
          "height": 280
        },
        "id": "wigX5c_AGXA0",
        "outputId": "58670c07-cdc8-4d08-cb68-3e52efe5f0f0"
      },
      "execution_count": 44,
      "outputs": [
        {
          "output_type": "display_data",
          "data": {
            "text/plain": [
              "<Figure size 648x288 with 1 Axes>"
            ],
            "image/png": "[encoded data removed]"
          },
          "metadata": {
            "needs_background": "light"
          }
        }
      ]
    },
    {
      "cell_type": "code",
      "source": [
        "# Error test\n",
        "# ==============================================================================\n",
        "error_rmse = rmse(data_test['y'],predicts)\n",
        "# error_mse = mean_squared_error(\n",
        "#                 y_true = \n",
        "#                 y_pred = predicts\n",
        "#             )\n",
        "print(f\"Error de test (mse): {error_rmse}\")"
      ],
      "metadata": {
        "colab": {
          "base_uri": "https://localhost:8080/"
        },
        "id": "pokAy8RoGdxq",
        "outputId": "39373673-0c8a-4b6a-a87e-ed5d466ba9d8"
      },
      "execution_count": 45,
      "outputs": [
        {
          "output_type": "stream",
          "name": "stdout",
          "text": [
            "Error de test (mse): 44.32395110622097\n"
          ]
        }
      ]
    },
    {
      "cell_type": "markdown",
      "source": [
        "## Tunning"
      ],
      "metadata": {
        "id": "b28QuhdxG2Qz"
      }
    },
    {
      "cell_type": "markdown",
      "source": [
        "### Model Normal\n"
      ],
      "metadata": {
        "id": "6SHqEo5QJeOV"
      }
    },
    {
      "cell_type": "code",
      "source": [
        "metrics = ['mean_absolute_error', mean_squared_error, rmse]\n"
      ],
      "metadata": {
        "id": "T7xtt1vdHzeV"
      },
      "execution_count": 46,
      "outputs": []
    },
    {
      "cell_type": "code",
      "source": [
        "# Grid search de hiperparámetros\n",
        "# ==============================================================================\n",
        "forecaster = ForecasterAutoreg(\n",
        "                regressor = RandomForestRegressor(random_state=123),\n",
        "                lags      = 12 # Este valor será remplazado en el grid search\n",
        "             )\n",
        "\n",
        "# Lags utilizados como predictores\n",
        "lags_grid = [10, 20]\n",
        "\n",
        "# Hiperparámetros del regresor\n",
        "param_grid = {'n_estimators': [100, 500],\n",
        "              'max_depth': [3, 5, 10]}\n",
        "\n",
        "resultados_grid = grid_search_forecaster(\n",
        "                        forecaster         = forecaster,\n",
        "                        y                  = data_train['y'],\n",
        "                        param_grid         = param_grid,\n",
        "                        lags_grid          = lags_grid,\n",
        "                        steps              = steps,\n",
        "                        refit              = True,\n",
        "                        metric             = metrics,\n",
        "                        initial_train_size = int(len(data_train)*0.7),\n",
        "                        fixed_train_size   = False,\n",
        "                        return_best        = True,\n",
        "                        verbose            = False\n",
        "                  )"
      ],
      "metadata": {
        "colab": {
          "base_uri": "https://localhost:8080/"
        },
        "id": "ac5WUtsTG-GS",
        "outputId": "1318ea6f-71e2-471e-d322-a88bd23f8e9d"
      },
      "execution_count": 47,
      "outputs": [
        {
          "output_type": "stream",
          "name": "stdout",
          "text": [
            "Number of models compared: 12.\n"
          ]
        },
        {
          "output_type": "stream",
          "name": "stderr",
          "text": [
            "loop lags_grid:   0%|                                               | 0/2 [00:00<?, ?it/s]\n",
            "loop param_grid:   0%|                                              | 0/6 [00:00<?, ?it/s]\u001b[A\n",
            "loop param_grid:  17%|██████▎                               | 1/6 [00:00<00:01,  3.88it/s]\u001b[A\n",
            "loop param_grid:  33%|████████████▋                         | 2/6 [00:01<00:02,  1.42it/s]\u001b[A\n",
            "loop param_grid:  50%|███████████████████                   | 3/6 [00:01<00:01,  1.72it/s]\u001b[A\n",
            "loop param_grid:  67%|█████████████████████████▎            | 4/6 [00:03<00:02,  1.22s/it]\u001b[A\n",
            "loop param_grid:  83%|███████████████████████████████▋      | 5/6 [00:04<00:00,  1.00it/s]\u001b[A\n",
            "loop param_grid: 100%|██████████████████████████████████████| 6/6 [00:06<00:00,  1.44s/it]\u001b[A\n",
            "loop lags_grid:  50%|███████████████████▌                   | 1/2 [00:06<00:06,  6.84s/it]\n",
            "loop param_grid:   0%|                                              | 0/6 [00:00<?, ?it/s]\u001b[A\n",
            "loop param_grid:  17%|██████▎                               | 1/6 [00:00<00:02,  1.99it/s]\u001b[A\n",
            "loop param_grid:  33%|████████████▋                         | 2/6 [00:03<00:07,  1.77s/it]\u001b[A\n",
            "loop param_grid:  50%|███████████████████                   | 3/6 [00:03<00:03,  1.33s/it]\u001b[A\n",
            "loop param_grid:  67%|█████████████████████████▎            | 4/6 [00:06<00:03,  1.97s/it]\u001b[A\n",
            "loop param_grid:  83%|███████████████████████████████▋      | 5/6 [00:07<00:01,  1.41s/it]\u001b[A\n",
            "loop param_grid: 100%|██████████████████████████████████████| 6/6 [00:10<00:00,  1.99s/it]\u001b[A\n",
            "loop lags_grid: 100%|███████████████████████████████████████| 2/2 [00:17<00:00,  8.69s/it]\n"
          ]
        },
        {
          "output_type": "stream",
          "name": "stdout",
          "text": [
            "`Forecaster` refitted using the best-found lags and parameters, and the whole data set: \n",
            "  Lags: [ 1  2  3  4  5  6  7  8  9 10 11 12 13 14 15 16 17 18 19 20] \n",
            "  Parameters: {'max_depth': 5, 'n_estimators': 100}\n",
            "  Backtesting metric: 39.818333333333335\n",
            "\n"
          ]
        }
      ]
    },
    {
      "cell_type": "code",
      "source": [
        "lags_forecaster = 20\n",
        "max_depth = 3\n",
        "n_estaimators = 500\n",
        "# Crear y entrenar forecaster con mejores hiperparámetros\n",
        "# ==============================================================================\n",
        "regressor = RandomForestRegressor(max_depth=max_depth, n_estimators=n_estaimators, random_state=123)\n",
        "forecaster = ForecasterAutoreg(\n",
        "                regressor = regressor,\n",
        "                lags      = lags_forecaster\n",
        "             )\n",
        "\n",
        "forecaster.fit(y=data_train['y'])"
      ],
      "metadata": {
        "id": "7wFa8T0NIZ5G"
      },
      "execution_count": 48,
      "outputs": []
    },
    {
      "cell_type": "code",
      "source": [
        "prediction_tunning = forecaster.predict(steps=steps)\n"
      ],
      "metadata": {
        "id": "ce9V6VUPIqIC"
      },
      "execution_count": 49,
      "outputs": []
    },
    {
      "cell_type": "code",
      "source": [
        "# Gráfico\n",
        "# ==============================================================================\n",
        "fig, ax = plt.subplots(figsize=(9, 4))\n",
        "data_train['y'].plot(ax=ax, label='train')\n",
        "data_test['y'].plot(ax=ax, label='test')\n",
        "prediction_tunning.plot(ax=ax, label='predictions tunning')\n",
        "predicts.plot(ax=ax, label='predictions normal')\n",
        "ax.legend();"
      ],
      "metadata": {
        "colab": {
          "base_uri": "https://localhost:8080/",
          "height": 280
        },
        "id": "-Jz76FebIzPx",
        "outputId": "0dcefa01-feb8-45d9-efd5-a0ce8541874d"
      },
      "execution_count": 50,
      "outputs": [
        {
          "output_type": "display_data",
          "data": {
            "text/plain": [
              "<Figure size 648x288 with 1 Axes>"
            ],
            "image/png": "[encoded data removed]"
          },
          "metadata": {
            "needs_background": "light"
          }
        }
      ]
    },
    {
      "cell_type": "code",
      "source": [
        "# Error test\n",
        "# ==============================================================================\n",
        "error_rmse = rmse(data_test['y'],prediction_tunning)\n",
        "# error_mse = mean_squared_error(\n",
        "#                 y_true = \n",
        "#                 y_pred = predicts\n",
        "#             )\n",
        "print(f\"Error de test (mse): {error_rmse}\")"
      ],
      "metadata": {
        "colab": {
          "base_uri": "https://localhost:8080/"
        },
        "id": "elCAA-fVJDar",
        "outputId": "898a0cc3-48bc-4549-b1c6-4f5cee5da595"
      },
      "execution_count": 51,
      "outputs": [
        {
          "output_type": "stream",
          "name": "stdout",
          "text": [
            "Error de test (mse): 51.07395001981491\n"
          ]
        }
      ]
    },
    {
      "cell_type": "markdown",
      "source": [
        "### Backtesting"
      ],
      "metadata": {
        "id": "ZBNk931zJj_i"
      }
    },
    {
      "cell_type": "code",
      "source": [
        "# Backtesting\n",
        "# ==============================================================================\n",
        "steps = 12\n",
        "n_backtesting = 12*2\n",
        "\n",
        "metrica, predicciones_backtest = backtesting_forecaster(\n",
        "                                    forecaster         = forecaster,\n",
        "                                    y                  = request_appr['appraisal'],\n",
        "                                    initial_train_size = len(request_appr) - n_backtesting,\n",
        "                                    fixed_train_size   = False,\n",
        "                                    steps              = steps,\n",
        "                                    refit              = True,\n",
        "                                    metric             = ['mean_squared_error', rmse],\n",
        "                                    verbose            = True\n",
        "                                 )\n",
        "\n",
        "print(f\"Error de backtest: {metrica}\")"
      ],
      "metadata": {
        "colab": {
          "base_uri": "https://localhost:8080/"
        },
        "id": "nD-AHbG3JPzK",
        "outputId": "812ffbbc-768a-4049-a96c-758f9c2d3640"
      },
      "execution_count": 52,
      "outputs": [
        {
          "output_type": "stream",
          "name": "stdout",
          "text": [
            "Information of backtesting process\n",
            "----------------------------------\n",
            "Number of observations used for initial training: 27\n",
            "Number of observations used for backtesting: 24\n",
            "    Number of folds: 2\n",
            "    Number of steps per fold: 12\n",
            "\n",
            "Data partition in fold: 0\n",
            "    Training:   0 -- 26  (n=27)\n",
            "    Validation: 27 -- 38  (n=12)\n",
            "Data partition in fold: 1\n",
            "    Training:   0 -- 38  (n=39)\n",
            "    Validation: 39 -- 50  (n=12)\n",
            "\n",
            "Error de backtest: [2795.830470054016, 52.875613188444596]\n"
          ]
        }
      ]
    },
    {
      "cell_type": "code",
      "source": [
        "fig, ax = plt.subplots(figsize=(9, 4))\n",
        "request_appr.loc[predicciones_backtest.index, 'appraisal'].plot(ax=ax, label='test')\n",
        "predicciones_backtest.plot(ax=ax, label='predicciones')\n",
        "ax.legend();\n"
      ],
      "metadata": {
        "colab": {
          "base_uri": "https://localhost:8080/",
          "height": 265
        },
        "id": "FbEgblkxKCof",
        "outputId": "a3109644-5421-4632-b79f-1ae49760df9d"
      },
      "execution_count": 53,
      "outputs": [
        {
          "output_type": "display_data",
          "data": {
            "text/plain": [
              "<Figure size 648x288 with 1 Axes>"
            ],
            "image/png": "[encoded data removed]"
          },
          "metadata": {
            "needs_background": "light"
          }
        }
      ]
    },
    {
      "cell_type": "code",
      "source": [
        "# Importancia predictores\n",
        "# ==============================================================================\n",
        "impotancia = forecaster.get_feature_importance()\n",
        "impotancia"
      ],
      "metadata": {
        "colab": {
          "base_uri": "https://localhost:8080/",
          "height": 677
        },
        "id": "bfNACKM2KMhN",
        "outputId": "ee487ab1-51e2-4643-8b23-aeef6a4d6e9c"
      },
      "execution_count": 54,
      "outputs": [
        {
          "output_type": "execute_result",
          "data": {
            "text/plain": [
              "   feature  importance\n",
              "0    lag_1    0.091702\n",
              "1    lag_2    0.012130\n",
              "2    lag_3    0.010827\n",
              "3    lag_4    0.008001\n",
              "4    lag_5    0.018684\n",
              "5    lag_6    0.009308\n",
              "6    lag_7    0.011254\n",
              "7    lag_8    0.062111\n",
              "8    lag_9    0.395740\n",
              "9   lag_10    0.055385\n",
              "10  lag_11    0.014484\n",
              "11  lag_12    0.050590\n",
              "12  lag_13    0.012076\n",
              "13  lag_14    0.015136\n",
              "14  lag_15    0.008312\n",
              "15  lag_16    0.048265\n",
              "16  lag_17    0.045867\n",
              "17  lag_18    0.025292\n",
              "18  lag_19    0.069915\n",
              "19  lag_20    0.034920"
            ],
            "text/html": [
              "\n",
              "  <div id=\"df-1bc48d53-020e-4b7f-ad5f-8a549614fba7\">\n",
              "    <div class=\"colab-df-container\">\n",
              "      <div>\n",
              "<style scoped>\n",
              "    .dataframe tbody tr th:only-of-type {\n",
              "        vertical-align: middle;\n",
              "    }\n",
              "\n",
              "    .dataframe tbody tr th {\n",
              "        vertical-align: top;\n",
              "    }\n",
              "\n",
              "    .dataframe thead th {\n",
              "        text-align: right;\n",
              "    }\n",
              "</style>\n",
              "<table border=\"1\" class=\"dataframe\">\n",
              "  <thead>\n",
              "    <tr style=\"text-align: right;\">\n",
              "      <th></th>\n",
              "      <th>feature</th>\n",
              "      <th>importance</th>\n",
              "    </tr>\n",
              "  </thead>\n",
              "  <tbody>\n",
              "    <tr>\n",
              "      <th>0</th>\n",
              "      <td>lag_1</td>\n",
              "      <td>0.091702</td>\n",
              "    </tr>\n",
              "    <tr>\n",
              "      <th>1</th>\n",
              "      <td>lag_2</td>\n",
              "      <td>0.012130</td>\n",
              "    </tr>\n",
              "    <tr>\n",
              "      <th>2</th>\n",
              "      <td>lag_3</td>\n",
              "      <td>0.010827</td>\n",
              "    </tr>\n",
              "    <tr>\n",
              "      <th>3</th>\n",
              "      <td>lag_4</td>\n",
              "      <td>0.008001</td>\n",
              "    </tr>\n",
              "    <tr>\n",
              "      <th>4</th>\n",
              "      <td>lag_5</td>\n",
              "      <td>0.018684</td>\n",
              "    </tr>\n",
              "    <tr>\n",
              "      <th>5</th>\n",
              "      <td>lag_6</td>\n",
              "      <td>0.009308</td>\n",
              "    </tr>\n",
              "    <tr>\n",
              "      <th>6</th>\n",
              "      <td>lag_7</td>\n",
              "      <td>0.011254</td>\n",
              "    </tr>\n",
              "    <tr>\n",
              "      <th>7</th>\n",
              "      <td>lag_8</td>\n",
              "      <td>0.062111</td>\n",
              "    </tr>\n",
              "    <tr>\n",
              "      <th>8</th>\n",
              "      <td>lag_9</td>\n",
              "      <td>0.395740</td>\n",
              "    </tr>\n",
              "    <tr>\n",
              "      <th>9</th>\n",
              "      <td>lag_10</td>\n",
              "      <td>0.055385</td>\n",
              "    </tr>\n",
              "    <tr>\n",
              "      <th>10</th>\n",
              "      <td>lag_11</td>\n",
              "      <td>0.014484</td>\n",
              "    </tr>\n",
              "    <tr>\n",
              "      <th>11</th>\n",
              "      <td>lag_12</td>\n",
              "      <td>0.050590</td>\n",
              "    </tr>\n",
              "    <tr>\n",
              "      <th>12</th>\n",
              "      <td>lag_13</td>\n",
              "      <td>0.012076</td>\n",
              "    </tr>\n",
              "    <tr>\n",
              "      <th>13</th>\n",
              "      <td>lag_14</td>\n",
              "      <td>0.015136</td>\n",
              "    </tr>\n",
              "    <tr>\n",
              "      <th>14</th>\n",
              "      <td>lag_15</td>\n",
              "      <td>0.008312</td>\n",
              "    </tr>\n",
              "    <tr>\n",
              "      <th>15</th>\n",
              "      <td>lag_16</td>\n",
              "      <td>0.048265</td>\n",
              "    </tr>\n",
              "    <tr>\n",
              "      <th>16</th>\n",
              "      <td>lag_17</td>\n",
              "      <td>0.045867</td>\n",
              "    </tr>\n",
              "    <tr>\n",
              "      <th>17</th>\n",
              "      <td>lag_18</td>\n",
              "      <td>0.025292</td>\n",
              "    </tr>\n",
              "    <tr>\n",
              "      <th>18</th>\n",
              "      <td>lag_19</td>\n",
              "      <td>0.069915</td>\n",
              "    </tr>\n",
              "    <tr>\n",
              "      <th>19</th>\n",
              "      <td>lag_20</td>\n",
              "      <td>0.034920</td>\n",
              "    </tr>\n",
              "  </tbody>\n",
              "</table>\n",
              "</div>\n",
              "      <button class=\"colab-df-convert\" onclick=\"convertToInteractive('df-1bc48d53-020e-4b7f-ad5f-8a549614fba7')\"\n",
              "              title=\"Convert this dataframe to an interactive table.\"\n",
              "              style=\"display:none;\">\n",
              "        \n",
              "  <svg xmlns=\"http://www.w3.org/2000/svg\" height=\"24px\"viewBox=\"0 0 24 24\"\n",
              "       width=\"24px\">\n",
              "    <path d=\"M0 0h24v24H0V0z\" fill=\"none\"/>\n",
              "    <path d=\"M18.56 5.44l.94 2.06.94-2.06 2.06-.94-2.06-.94-.94-2.06-.94 2.06-2.06.94zm-11 1L8.5 8.5l.94-2.06 2.06-.94-2.06-.94L8.5 2.5l-.94 2.06-2.06.94zm10 10l.94 2.06.94-2.06 2.06-.94-2.06-.94-.94-2.06-.94 2.06-2.06.94z\"/><path d=\"M17.41 7.96l-1.37-1.37c-.4-.4-.92-.59-1.43-.59-.52 0-1.04.2-1.43.59L10.3 9.45l-7.72 7.72c-.78.78-.78 2.05 0 2.83L4 21.41c.39.39.9.59 1.41.59.51 0 1.02-.2 1.41-.59l7.78-7.78 2.81-2.81c.8-.78.8-2.07 0-2.86zM5.41 20L4 18.59l7.72-7.72 1.47 1.35L5.41 20z\"/>\n",
              "  </svg>\n",
              "      </button>\n",
              "      \n",
              "  <style>\n",
              "    .colab-df-container {\n",
              "      display:flex;\n",
              "      flex-wrap:wrap;\n",
              "      gap: 12px;\n",
              "    }\n",
              "\n",
              "    .colab-df-convert {\n",
              "      background-color: #E8F0FE;\n",
              "      border: none;\n",
              "      border-radius: 50%;\n",
              "      cursor: pointer;\n",
              "      display: none;\n",
              "      fill: #1967D2;\n",
              "      height: 32px;\n",
              "      padding: 0 0 0 0;\n",
              "      width: 32px;\n",
              "    }\n",
              "\n",
              "    .colab-df-convert:hover {\n",
              "      background-color: #E2EBFA;\n",
              "      box-shadow: 0px 1px 2px rgba(60, 64, 67, 0.3), 0px 1px 3px 1px rgba(60, 64, 67, 0.15);\n",
              "      fill: #174EA6;\n",
              "    }\n",
              "\n",
              "    [theme=dark] .colab-df-convert {\n",
              "      background-color: #3B4455;\n",
              "      fill: #D2E3FC;\n",
              "    }\n",
              "\n",
              "    [theme=dark] .colab-df-convert:hover {\n",
              "      background-color: #434B5C;\n",
              "      box-shadow: 0px 1px 3px 1px rgba(0, 0, 0, 0.15);\n",
              "      filter: drop-shadow(0px 1px 2px rgba(0, 0, 0, 0.3));\n",
              "      fill: #FFFFFF;\n",
              "    }\n",
              "  </style>\n",
              "\n",
              "      <script>\n",
              "        const buttonEl =\n",
              "          document.querySelector('#df-1bc48d53-020e-4b7f-ad5f-8a549614fba7 button.colab-df-convert');\n",
              "        buttonEl.style.display =\n",
              "          google.colab.kernel.accessAllowed ? 'block' : 'none';\n",
              "\n",
              "        async function convertToInteractive(key) {\n",
              "          const element = document.querySelector('#df-1bc48d53-020e-4b7f-ad5f-8a549614fba7');\n",
              "          const dataTable =\n",
              "            await google.colab.kernel.invokeFunction('convertToInteractive',\n",
              "                                                     [key], {});\n",
              "          if (!dataTable) return;\n",
              "\n",
              "          const docLinkHtml = 'Like what you see? Visit the ' +\n",
              "            '<a target=\"_blank\" href=https://colab.research.google.com/notebooks/data_table.ipynb>data table notebook</a>'\n",
              "            + ' to learn more about interactive tables.';\n",
              "          element.innerHTML = '';\n",
              "          dataTable['output_type'] = 'display_data';\n",
              "          await google.colab.output.renderOutput(dataTable, element);\n",
              "          const docLink = document.createElement('div');\n",
              "          docLink.innerHTML = docLinkHtml;\n",
              "          element.appendChild(docLink);\n",
              "        }\n",
              "      </script>\n",
              "    </div>\n",
              "  </div>\n",
              "  "
            ]
          },
          "metadata": {},
          "execution_count": 54
        }
      ]
    },
    {
      "cell_type": "markdown",
      "source": [
        "### Exogen Variables"
      ],
      "metadata": {
        "id": "qnxL5iZ3KPyX"
      }
    },
    {
      "cell_type": "code",
      "source": [
        "data_train, data_test  = prepare_date_format_exog(request_appr, 'appraisal', 'fechas_date_month', 12, 'exog_1')\n",
        "\n",
        "# def prepare_date_format(months_request, sucursal, fechas_date_month, steps):\n"
      ],
      "metadata": {
        "id": "aKNzlPB3LGes"
      },
      "execution_count": 55,
      "outputs": []
    },
    {
      "cell_type": "code",
      "source": [
        "fig, ax = plt.subplots(figsize=(9, 4))\n",
        "request_appr['appraisal'].plot(ax=ax, label='y')\n",
        "request_appr['exog_1'].plot(ax=ax, label='variable exógena')\n",
        "ax.legend();"
      ],
      "metadata": {
        "colab": {
          "base_uri": "https://localhost:8080/",
          "height": 265
        },
        "id": "klJjXN9pKUZh",
        "outputId": "24af25be-450d-4f0a-fd03-2090a0fd8342"
      },
      "execution_count": 56,
      "outputs": [
        {
          "output_type": "display_data",
          "data": {
            "text/plain": [
              "<Figure size 648x288 with 1 Axes>"
            ],
            "image/png": "[encoded data removed]"
          },
          "metadata": {
            "needs_background": "light"
          }
        }
      ]
    },
    {
      "cell_type": "code",
      "source": [
        "# Crear y entrenar forecaster\n",
        "# ==============================================================================\n",
        "forecaster = ForecasterAutoreg(\n",
        "                regressor = RandomForestRegressor(random_state=123),\n",
        "                lags      = 8\n",
        "             )\n",
        "\n",
        "forecaster.fit(y=data_train['y'], exog=data_train['exog_1'])\n",
        "forecaster"
      ],
      "metadata": {
        "colab": {
          "base_uri": "https://localhost:8080/"
        },
        "id": "fAE5asRqKtRd",
        "outputId": "a3851d38-8480-4cca-abde-6b6ecea4f741"
      },
      "execution_count": 57,
      "outputs": [
        {
          "output_type": "execute_result",
          "data": {
            "text/plain": [
              "================= \n",
              "ForecasterAutoreg \n",
              "================= \n",
              "Regressor: RandomForestRegressor(random_state=123) \n",
              "Lags: [1 2 3 4 5 6 7 8] \n",
              "Transformer for y: None \n",
              "Transformer for exog: None \n",
              "Window size: 8 \n",
              "Weight function included: False \n",
              "Exogenous included: True \n",
              "Type of exogenous variable: <class 'pandas.core.series.Series'> \n",
              "Exogenous variables names: exog_1 \n",
              "Training range: [Timestamp('2017-07-01 00:00:00'), Timestamp('2020-09-01 00:00:00')] \n",
              "Training index type: DatetimeIndex \n",
              "Training index frequency: MS \n",
              "Regressor parameters: {'bootstrap': True, 'ccp_alpha': 0.0, 'criterion': 'squared_error', 'max_depth': None, 'max_features': 'auto', 'max_leaf_nodes': None, 'max_samples': None, 'min_impurity_decrease': 0.0, 'min_samples_leaf': 1, 'min_samples_split': 2, 'min_weight_fraction_leaf': 0.0, 'n_estimators': 100, 'n_jobs': None, 'oob_score': False, 'random_state': 123, 'verbose': 0, 'warm_start': False} \n",
              "Creation date: 2023-01-27 02:26:25 \n",
              "Last fit date: 2023-01-27 02:26:25 \n",
              "Skforecast version: 0.6.0 \n",
              "Python version: 3.8.10 "
            ]
          },
          "metadata": {},
          "execution_count": 57
        }
      ]
    },
    {
      "cell_type": "code",
      "source": [
        "# Crear y entrenar forecaster\n",
        "# ==============================================================================\n",
        "forecaster = ForecasterAutoreg(\n",
        "                regressor = RandomForestRegressor(random_state=123),\n",
        "                lags      = 8\n",
        "             )\n",
        "\n",
        "forecaster.fit(y=data_train['y'], exog=data_train['exog_1'])\n",
        "forecaster"
      ],
      "metadata": {
        "colab": {
          "base_uri": "https://localhost:8080/"
        },
        "id": "nLA--uIIMMJ1",
        "outputId": "55c80d6f-993c-4391-a80a-be236055d6eb"
      },
      "execution_count": 58,
      "outputs": [
        {
          "output_type": "execute_result",
          "data": {
            "text/plain": [
              "================= \n",
              "ForecasterAutoreg \n",
              "================= \n",
              "Regressor: RandomForestRegressor(random_state=123) \n",
              "Lags: [1 2 3 4 5 6 7 8] \n",
              "Transformer for y: None \n",
              "Transformer for exog: None \n",
              "Window size: 8 \n",
              "Weight function included: False \n",
              "Exogenous included: True \n",
              "Type of exogenous variable: <class 'pandas.core.series.Series'> \n",
              "Exogenous variables names: exog_1 \n",
              "Training range: [Timestamp('2017-07-01 00:00:00'), Timestamp('2020-09-01 00:00:00')] \n",
              "Training index type: DatetimeIndex \n",
              "Training index frequency: MS \n",
              "Regressor parameters: {'bootstrap': True, 'ccp_alpha': 0.0, 'criterion': 'squared_error', 'max_depth': None, 'max_features': 'auto', 'max_leaf_nodes': None, 'max_samples': None, 'min_impurity_decrease': 0.0, 'min_samples_leaf': 1, 'min_samples_split': 2, 'min_weight_fraction_leaf': 0.0, 'n_estimators': 100, 'n_jobs': None, 'oob_score': False, 'random_state': 123, 'verbose': 0, 'warm_start': False} \n",
              "Creation date: 2023-01-27 02:26:25 \n",
              "Last fit date: 2023-01-27 02:26:26 \n",
              "Skforecast version: 0.6.0 \n",
              "Python version: 3.8.10 "
            ]
          },
          "metadata": {},
          "execution_count": 58
        }
      ]
    },
    {
      "cell_type": "code",
      "source": [
        "# Predicciones\n",
        "# ==============================================================================\n",
        "predictions = forecaster.predict(steps=steps, exog=data_test['exog_1'])"
      ],
      "metadata": {
        "id": "mxN5-pM6MMHC"
      },
      "execution_count": 59,
      "outputs": []
    },
    {
      "cell_type": "code",
      "source": [
        "# Gráfico\n",
        "# ==============================================================================\n",
        "fig, ax=plt.subplots(figsize=(9, 4))\n",
        "data_train['y'].plot(ax=ax, label='train')\n",
        "data_test['y'].plot(ax=ax, label='test')\n",
        "predictions.plot(ax=ax, label='predicciones')\n",
        "ax.legend();"
      ],
      "metadata": {
        "colab": {
          "base_uri": "https://localhost:8080/",
          "height": 280
        },
        "id": "HkFloyf6MVIb",
        "outputId": "41954c25-efb4-4ca4-c985-8261792659ab"
      },
      "execution_count": 60,
      "outputs": [
        {
          "output_type": "display_data",
          "data": {
            "text/plain": [
              "<Figure size 648x288 with 1 Axes>"
            ],
            "image/png": "[encoded data removed]"
          },
          "metadata": {
            "needs_background": "light"
          }
        }
      ]
    },
    {
      "cell_type": "code",
      "source": [
        "rmse(data_test['y'], predictions )"
      ],
      "metadata": {
        "colab": {
          "base_uri": "https://localhost:8080/"
        },
        "id": "OnID9o-2MMCa",
        "outputId": "4a238f8d-a059-4e38-abf9-1befc72c7e23"
      },
      "execution_count": 61,
      "outputs": [
        {
          "output_type": "execute_result",
          "data": {
            "text/plain": [
              "40.49076520228615"
            ]
          },
          "metadata": {},
          "execution_count": 61
        }
      ]
    },
    {
      "cell_type": "code",
      "source": [
        "# Grid search de hiperparámetros\n",
        "# ==============================================================================\n",
        "steps = 12\n",
        "forecaster = ForecasterAutoreg(\n",
        "                regressor = RandomForestRegressor(random_state=123),\n",
        "                lags      = 12 # Este valor será remplazado en el grid search\n",
        "             )\n",
        "\n",
        "lags_grid = [5, 12, 20]\n",
        "\n",
        "param_grid = {'n_estimators': [50, 100, 500],\n",
        "              'max_depth': [3, 5, 10]}\n",
        "\n",
        "resultados_grid = grid_search_forecaster(\n",
        "                        forecaster         = forecaster,\n",
        "                        y                  = data_train['y'],\n",
        "                        exog               = data_train['exog_1'],\n",
        "                        param_grid         = param_grid,\n",
        "                        lags_grid          = lags_grid,\n",
        "                        steps              = steps,\n",
        "                        refit              = True,\n",
        "                        metric             = rmse,\n",
        "                        initial_train_size = int(len(data_train)*0.7),\n",
        "                        fixed_train_size   = False,\n",
        "                        return_best        = True,\n",
        "                        verbose            = False\n",
        "                    )"
      ],
      "metadata": {
        "colab": {
          "base_uri": "https://localhost:8080/"
        },
        "id": "yZvqneaBMmg5",
        "outputId": "dba50baa-bff7-4e03-f221-67d6e5cb7179"
      },
      "execution_count": 62,
      "outputs": [
        {
          "output_type": "stream",
          "name": "stdout",
          "text": [
            "Number of models compared: 27.\n"
          ]
        },
        {
          "output_type": "stream",
          "name": "stderr",
          "text": [
            "loop lags_grid:   0%|                                               | 0/3 [00:00<?, ?it/s]\n",
            "loop param_grid:   0%|                                              | 0/9 [00:00<?, ?it/s]\u001b[A\n",
            "loop param_grid:  11%|████▏                                 | 1/9 [00:00<00:03,  2.12it/s]\u001b[A\n",
            "loop param_grid:  22%|████████▍                             | 2/9 [00:01<00:06,  1.12it/s]\u001b[A\n",
            "loop param_grid:  33%|████████████▋                         | 3/9 [00:05<00:12,  2.06s/it]\u001b[A\n",
            "loop param_grid:  44%|████████████████▉                     | 4/9 [00:05<00:06,  1.35s/it]\u001b[A\n",
            "loop param_grid:  56%|█████████████████████                 | 5/9 [00:05<00:04,  1.08s/it]\u001b[A\n",
            "loop param_grid:  67%|█████████████████████████▎            | 6/9 [00:07<00:04,  1.36s/it]\u001b[A\n",
            "loop param_grid:  78%|█████████████████████████████▌        | 7/9 [00:08<00:01,  1.04it/s]\u001b[A\n",
            "loop param_grid:  89%|█████████████████████████████████▊    | 8/9 [00:08<00:00,  1.37it/s]\u001b[A\n",
            "loop param_grid: 100%|██████████████████████████████████████| 9/9 [00:09<00:00,  1.22it/s]\u001b[A\n",
            "loop lags_grid:  33%|█████████████                          | 1/3 [00:09<00:18,  9.30s/it]\n",
            "loop param_grid:   0%|                                              | 0/9 [00:00<?, ?it/s]\u001b[A\n",
            "loop param_grid:  11%|████▏                                 | 1/9 [00:00<00:01,  7.60it/s]\u001b[A\n",
            "loop param_grid:  22%|████████▍                             | 2/9 [00:00<00:01,  5.30it/s]\u001b[A\n",
            "loop param_grid:  33%|████████████▋                         | 3/9 [00:01<00:03,  1.72it/s]\u001b[A\n",
            "loop param_grid:  44%|████████████████▉                     | 4/9 [00:01<00:02,  2.48it/s]\u001b[A\n",
            "loop param_grid:  56%|█████████████████████                 | 5/9 [00:01<00:01,  2.92it/s]\u001b[A\n",
            "loop param_grid:  67%|█████████████████████████▎            | 6/9 [00:03<00:01,  1.51it/s]\u001b[A\n",
            "loop param_grid:  78%|█████████████████████████████▌        | 7/9 [00:03<00:01,  1.99it/s]\u001b[A\n",
            "loop param_grid:  89%|█████████████████████████████████▊    | 8/9 [00:03<00:00,  2.10it/s]\u001b[A\n",
            "loop param_grid: 100%|██████████████████████████████████████| 9/9 [00:04<00:00,  1.51it/s]\u001b[A\n",
            "loop lags_grid:  67%|██████████████████████████             | 2/3 [00:14<00:06,  6.62s/it]\n",
            "loop param_grid:   0%|                                              | 0/9 [00:00<?, ?it/s]\u001b[A\n",
            "loop param_grid:  11%|████▏                                 | 1/9 [00:00<00:01,  7.84it/s]\u001b[A\n",
            "loop param_grid:  22%|████████▍                             | 2/9 [00:00<00:01,  5.37it/s]\u001b[A\n",
            "loop param_grid:  33%|████████████▋                         | 3/9 [00:01<00:03,  1.79it/s]\u001b[A\n",
            "loop param_grid:  44%|████████████████▉                     | 4/9 [00:01<00:01,  2.52it/s]\u001b[A\n",
            "loop param_grid:  56%|█████████████████████                 | 5/9 [00:01<00:01,  2.97it/s]\u001b[A\n",
            "loop param_grid:  67%|█████████████████████████▎            | 6/9 [00:02<00:01,  1.76it/s]\u001b[A\n",
            "loop param_grid:  78%|█████████████████████████████▌        | 7/9 [00:02<00:00,  2.36it/s]\u001b[A\n",
            "loop param_grid:  89%|█████████████████████████████████▊    | 8/9 [00:03<00:00,  2.74it/s]\u001b[A\n",
            "loop param_grid: 100%|██████████████████████████████████████| 9/9 [00:04<00:00,  1.76it/s]\u001b[A\n",
            "loop lags_grid: 100%|███████████████████████████████████████| 3/3 [00:18<00:00,  6.06s/it]"
          ]
        },
        {
          "output_type": "stream",
          "name": "stdout",
          "text": [
            "`Forecaster` refitted using the best-found lags and parameters, and the whole data set: \n",
            "  Lags: [1 2 3 4 5] \n",
            "  Parameters: {'max_depth': 3, 'n_estimators': 50}\n",
            "  Backtesting metric: 49.83673617323793\n",
            "\n"
          ]
        },
        {
          "output_type": "stream",
          "name": "stderr",
          "text": [
            "\n"
          ]
        }
      ]
    },
    {
      "cell_type": "markdown",
      "source": [
        "### Forecaster Standar"
      ],
      "metadata": {
        "id": "wJfYZrKCNYio"
      }
    },
    {
      "cell_type": "code",
      "source": [
        "# Grid search de hiperparámetros\n",
        "# ==============================================================================\n",
        "forecaster = ForecasterAutoregDirect(\n",
        "                regressor     = Lasso(random_state=123),\n",
        "                transformer_y = StandardScaler(),\n",
        "                steps         = steps,\n",
        "                lags          = 6 # Este valor será remplazado en el grid search\n",
        "             )\n",
        "\n",
        "param_grid = {'alpha': np.logspace(-5, 5, 10)}\n",
        "lags_grid = [5, 12, 20]\n",
        "\n",
        "resultados_grid = grid_search_forecaster(\n",
        "                    forecaster         = forecaster,\n",
        "                    y                  = data_train['y'],\n",
        "                    param_grid         = param_grid,\n",
        "                    lags_grid          = lags_grid,\n",
        "                    steps              = steps,\n",
        "                    refit              = True,\n",
        "                    metric             = rmse,\n",
        "                    initial_train_size = int(len(data_train)*0.9),\n",
        "                    fixed_train_size   = False,\n",
        "                    return_best        = True,\n",
        "                    verbose            = False\n",
        "                )"
      ],
      "metadata": {
        "colab": {
          "base_uri": "https://localhost:8080/"
        },
        "id": "U2bLktFtNNp5",
        "outputId": "8bc0a13e-874d-40d8-fc83-bc408f89ccb5"
      },
      "execution_count": 63,
      "outputs": [
        {
          "output_type": "stream",
          "name": "stdout",
          "text": [
            "Number of models compared: 30.\n"
          ]
        },
        {
          "output_type": "stream",
          "name": "stderr",
          "text": [
            "loop lags_grid:   0%|                                               | 0/3 [00:00<?, ?it/s]\n",
            "loop param_grid:   0%|                                             | 0/10 [00:00<?, ?it/s]\u001b[A\n",
            "loop param_grid:  30%|███████████                          | 3/10 [00:00<00:00, 27.64it/s]\u001b[A\n",
            "loop param_grid:  60%|██████████████████████▏              | 6/10 [00:00<00:00, 26.41it/s]\u001b[A\n",
            "loop param_grid:  90%|█████████████████████████████████▎   | 9/10 [00:00<00:00, 26.08it/s]\u001b[A\n",
            "loop lags_grid:  33%|█████████████                          | 1/3 [00:00<00:00,  2.48it/s]\n",
            "loop param_grid:   0%|                                             | 0/10 [00:00<?, ?it/s]\u001b[A/usr/local/lib/python3.8/dist-packages/sklearn/linear_model/_coordinate_descent.py:647: ConvergenceWarning:\n",
            "\n",
            "Objective did not converge. You might want to increase the number of iterations, check the scale of the features or consider increasing regularisation. Duality gap: 2.270e-03, tolerance: 1.741e-04\n",
            "\n",
            "/usr/local/lib/python3.8/dist-packages/sklearn/linear_model/_coordinate_descent.py:647: ConvergenceWarning:\n",
            "\n",
            "Objective did not converge. You might want to increase the number of iterations, check the scale of the features or consider increasing regularisation. Duality gap: 1.509e-03, tolerance: 2.201e-04\n",
            "\n",
            "/usr/local/lib/python3.8/dist-packages/sklearn/linear_model/_coordinate_descent.py:647: ConvergenceWarning:\n",
            "\n",
            "Objective did not converge. You might want to increase the number of iterations, check the scale of the features or consider increasing regularisation. Duality gap: 1.898e-03, tolerance: 2.891e-04\n",
            "\n",
            "/usr/local/lib/python3.8/dist-packages/sklearn/linear_model/_coordinate_descent.py:647: ConvergenceWarning:\n",
            "\n",
            "Objective did not converge. You might want to increase the number of iterations, check the scale of the features or consider increasing regularisation. Duality gap: 1.825e-03, tolerance: 2.805e-04\n",
            "\n",
            "/usr/local/lib/python3.8/dist-packages/sklearn/linear_model/_coordinate_descent.py:647: ConvergenceWarning:\n",
            "\n",
            "Objective did not converge. You might want to increase the number of iterations, check the scale of the features or consider increasing regularisation. Duality gap: 3.185e-04, tolerance: 2.598e-04\n",
            "\n",
            "/usr/local/lib/python3.8/dist-packages/sklearn/linear_model/_coordinate_descent.py:647: ConvergenceWarning:\n",
            "\n",
            "Objective did not converge. You might want to increase the number of iterations, check the scale of the features or consider increasing regularisation. Duality gap: 3.589e-04, tolerance: 2.987e-04\n",
            "\n",
            "/usr/local/lib/python3.8/dist-packages/sklearn/linear_model/_coordinate_descent.py:647: ConvergenceWarning:\n",
            "\n",
            "Objective did not converge. You might want to increase the number of iterations, check the scale of the features or consider increasing regularisation. Duality gap: 3.080e-03, tolerance: 7.844e-04\n",
            "\n",
            "/usr/local/lib/python3.8/dist-packages/sklearn/linear_model/_coordinate_descent.py:647: ConvergenceWarning:\n",
            "\n",
            "Objective did not converge. You might want to increase the number of iterations, check the scale of the features or consider increasing regularisation. Duality gap: 1.244e-02, tolerance: 1.741e-04\n",
            "\n",
            "/usr/local/lib/python3.8/dist-packages/sklearn/linear_model/_coordinate_descent.py:647: ConvergenceWarning:\n",
            "\n",
            "Objective did not converge. You might want to increase the number of iterations, check the scale of the features or consider increasing regularisation. Duality gap: 1.178e-02, tolerance: 2.201e-04\n",
            "\n",
            "/usr/local/lib/python3.8/dist-packages/sklearn/linear_model/_coordinate_descent.py:647: ConvergenceWarning:\n",
            "\n",
            "Objective did not converge. You might want to increase the number of iterations, check the scale of the features or consider increasing regularisation. Duality gap: 1.000e-02, tolerance: 2.891e-04\n",
            "\n",
            "/usr/local/lib/python3.8/dist-packages/sklearn/linear_model/_coordinate_descent.py:647: ConvergenceWarning:\n",
            "\n",
            "Objective did not converge. You might want to increase the number of iterations, check the scale of the features or consider increasing regularisation. Duality gap: 9.737e-03, tolerance: 2.805e-04\n",
            "\n",
            "/usr/local/lib/python3.8/dist-packages/sklearn/linear_model/_coordinate_descent.py:647: ConvergenceWarning:\n",
            "\n",
            "Objective did not converge. You might want to increase the number of iterations, check the scale of the features or consider increasing regularisation. Duality gap: 5.005e-04, tolerance: 2.761e-04\n",
            "\n",
            "/usr/local/lib/python3.8/dist-packages/sklearn/linear_model/_coordinate_descent.py:647: ConvergenceWarning:\n",
            "\n",
            "Objective did not converge. You might want to increase the number of iterations, check the scale of the features or consider increasing regularisation. Duality gap: 1.508e-03, tolerance: 2.598e-04\n",
            "\n",
            "/usr/local/lib/python3.8/dist-packages/sklearn/linear_model/_coordinate_descent.py:647: ConvergenceWarning:\n",
            "\n",
            "Objective did not converge. You might want to increase the number of iterations, check the scale of the features or consider increasing regularisation. Duality gap: 5.796e-04, tolerance: 2.943e-04\n",
            "\n",
            "/usr/local/lib/python3.8/dist-packages/sklearn/linear_model/_coordinate_descent.py:647: ConvergenceWarning:\n",
            "\n",
            "Objective did not converge. You might want to increase the number of iterations, check the scale of the features or consider increasing regularisation. Duality gap: 5.983e-04, tolerance: 2.842e-04\n",
            "\n",
            "/usr/local/lib/python3.8/dist-packages/sklearn/linear_model/_coordinate_descent.py:647: ConvergenceWarning:\n",
            "\n",
            "Objective did not converge. You might want to increase the number of iterations, check the scale of the features or consider increasing regularisation. Duality gap: 2.560e-03, tolerance: 2.987e-04\n",
            "\n",
            "/usr/local/lib/python3.8/dist-packages/sklearn/linear_model/_coordinate_descent.py:647: ConvergenceWarning:\n",
            "\n",
            "Objective did not converge. You might want to increase the number of iterations, check the scale of the features or consider increasing regularisation. Duality gap: 1.712e-02, tolerance: 7.844e-04\n",
            "\n",
            "/usr/local/lib/python3.8/dist-packages/sklearn/linear_model/_coordinate_descent.py:647: ConvergenceWarning:\n",
            "\n",
            "Objective did not converge. You might want to increase the number of iterations, check the scale of the features or consider increasing regularisation. Duality gap: 1.671e-03, tolerance: 1.073e-03\n",
            "\n",
            "\n",
            "loop param_grid:  20%|███████▍                             | 2/10 [00:00<00:00, 18.38it/s]\u001b[A/usr/local/lib/python3.8/dist-packages/sklearn/linear_model/_coordinate_descent.py:647: ConvergenceWarning:\n",
            "\n",
            "Objective did not converge. You might want to increase the number of iterations, check the scale of the features or consider increasing regularisation. Duality gap: 8.134e-03, tolerance: 7.844e-04\n",
            "\n",
            "/usr/local/lib/python3.8/dist-packages/sklearn/linear_model/_coordinate_descent.py:647: ConvergenceWarning:\n",
            "\n",
            "Objective did not converge. You might want to increase the number of iterations, check the scale of the features or consider increasing regularisation. Duality gap: 1.634e-03, tolerance: 1.073e-03\n",
            "\n",
            "\n",
            "loop param_grid:  40%|██████████████▊                      | 4/10 [00:00<00:00, 18.75it/s]\u001b[A\n",
            "loop param_grid:  70%|█████████████████████████▉           | 7/10 [00:00<00:00, 21.66it/s]\u001b[A\n",
            "loop param_grid: 100%|████████████████████████████████████| 10/10 [00:00<00:00, 23.95it/s]\u001b[A\n",
            "loop lags_grid:  67%|██████████████████████████             | 2/3 [00:00<00:00,  2.24it/s]\n",
            "loop param_grid:   0%|                                             | 0/10 [00:00<?, ?it/s]\u001b[A/usr/local/lib/python3.8/dist-packages/sklearn/linear_model/_coordinate_descent.py:647: ConvergenceWarning:\n",
            "\n",
            "Objective did not converge. You might want to increase the number of iterations, check the scale of the features or consider increasing regularisation. Duality gap: 1.040e-04, tolerance: 8.599e-05\n",
            "\n",
            "/usr/local/lib/python3.8/dist-packages/sklearn/linear_model/_coordinate_descent.py:647: ConvergenceWarning:\n",
            "\n",
            "Objective did not converge. You might want to increase the number of iterations, check the scale of the features or consider increasing regularisation. Duality gap: 9.217e-05, tolerance: 6.869e-05\n",
            "\n",
            "/usr/local/lib/python3.8/dist-packages/sklearn/linear_model/_coordinate_descent.py:647: ConvergenceWarning:\n",
            "\n",
            "Objective did not converge. You might want to increase the number of iterations, check the scale of the features or consider increasing regularisation. Duality gap: 3.874e-05, tolerance: 3.367e-05\n",
            "\n",
            "/usr/local/lib/python3.8/dist-packages/sklearn/linear_model/_coordinate_descent.py:647: ConvergenceWarning:\n",
            "\n",
            "Objective did not converge. You might want to increase the number of iterations, check the scale of the features or consider increasing regularisation. Duality gap: 1.512e-05, tolerance: 8.222e-06\n",
            "\n",
            "/usr/local/lib/python3.8/dist-packages/sklearn/linear_model/_coordinate_descent.py:647: ConvergenceWarning:\n",
            "\n",
            "Objective did not converge. You might want to increase the number of iterations, check the scale of the features or consider increasing regularisation. Duality gap: 4.744e-05, tolerance: 2.880e-05\n",
            "\n",
            "/usr/local/lib/python3.8/dist-packages/sklearn/linear_model/_coordinate_descent.py:647: ConvergenceWarning:\n",
            "\n",
            "Objective did not converge. You might want to increase the number of iterations, check the scale of the features or consider increasing regularisation. Duality gap: 3.517e-05, tolerance: 3.188e-05\n",
            "\n",
            "/usr/local/lib/python3.8/dist-packages/sklearn/linear_model/_coordinate_descent.py:647: ConvergenceWarning:\n",
            "\n",
            "Objective did not converge. You might want to increase the number of iterations, check the scale of the features or consider increasing regularisation. Duality gap: 7.566e-05, tolerance: 4.307e-05\n",
            "\n",
            "/usr/local/lib/python3.8/dist-packages/sklearn/linear_model/_coordinate_descent.py:647: ConvergenceWarning:\n",
            "\n",
            "Objective did not converge. You might want to increase the number of iterations, check the scale of the features or consider increasing regularisation. Duality gap: 7.973e-05, tolerance: 5.491e-05\n",
            "\n",
            "/usr/local/lib/python3.8/dist-packages/sklearn/linear_model/_coordinate_descent.py:647: ConvergenceWarning:\n",
            "\n",
            "Objective did not converge. You might want to increase the number of iterations, check the scale of the features or consider increasing regularisation. Duality gap: 8.203e-05, tolerance: 5.932e-05\n",
            "\n",
            "/usr/local/lib/python3.8/dist-packages/sklearn/linear_model/_coordinate_descent.py:647: ConvergenceWarning:\n",
            "\n",
            "Objective did not converge. You might want to increase the number of iterations, check the scale of the features or consider increasing regularisation. Duality gap: 1.481e-04, tolerance: 8.599e-05\n",
            "\n",
            "/usr/local/lib/python3.8/dist-packages/sklearn/linear_model/_coordinate_descent.py:647: ConvergenceWarning:\n",
            "\n",
            "Objective did not converge. You might want to increase the number of iterations, check the scale of the features or consider increasing regularisation. Duality gap: 1.390e-04, tolerance: 6.869e-05\n",
            "\n",
            "/usr/local/lib/python3.8/dist-packages/sklearn/linear_model/_coordinate_descent.py:647: ConvergenceWarning:\n",
            "\n",
            "Objective did not converge. You might want to increase the number of iterations, check the scale of the features or consider increasing regularisation. Duality gap: 7.285e-05, tolerance: 3.367e-05\n",
            "\n",
            "/usr/local/lib/python3.8/dist-packages/sklearn/linear_model/_coordinate_descent.py:647: ConvergenceWarning:\n",
            "\n",
            "Objective did not converge. You might want to increase the number of iterations, check the scale of the features or consider increasing regularisation. Duality gap: 3.994e-05, tolerance: 2.880e-05\n",
            "\n",
            "/usr/local/lib/python3.8/dist-packages/sklearn/linear_model/_coordinate_descent.py:647: ConvergenceWarning:\n",
            "\n",
            "Objective did not converge. You might want to increase the number of iterations, check the scale of the features or consider increasing regularisation. Duality gap: 3.252e-05, tolerance: 3.188e-05\n",
            "\n",
            "/usr/local/lib/python3.8/dist-packages/sklearn/linear_model/_coordinate_descent.py:647: ConvergenceWarning:\n",
            "\n",
            "Objective did not converge. You might want to increase the number of iterations, check the scale of the features or consider increasing regularisation. Duality gap: 1.012e-04, tolerance: 4.307e-05\n",
            "\n",
            "/usr/local/lib/python3.8/dist-packages/sklearn/linear_model/_coordinate_descent.py:647: ConvergenceWarning:\n",
            "\n",
            "Objective did not converge. You might want to increase the number of iterations, check the scale of the features or consider increasing regularisation. Duality gap: 9.757e-05, tolerance: 5.491e-05\n",
            "\n",
            "/usr/local/lib/python3.8/dist-packages/sklearn/linear_model/_coordinate_descent.py:647: ConvergenceWarning:\n",
            "\n",
            "Objective did not converge. You might want to increase the number of iterations, check the scale of the features or consider increasing regularisation. Duality gap: 1.125e-03, tolerance: 4.574e-04\n",
            "\n",
            "/usr/local/lib/python3.8/dist-packages/sklearn/linear_model/_coordinate_descent.py:647: ConvergenceWarning:\n",
            "\n",
            "Objective did not converge. You might want to increase the number of iterations, check the scale of the features or consider increasing regularisation. Duality gap: 5.029e-04, tolerance: 2.648e-04\n",
            "\n",
            "\n",
            "loop param_grid:  20%|███████▍                             | 2/10 [00:00<00:00, 16.37it/s]\u001b[A/usr/local/lib/python3.8/dist-packages/sklearn/linear_model/_coordinate_descent.py:647: ConvergenceWarning:\n",
            "\n",
            "Objective did not converge. You might want to increase the number of iterations, check the scale of the features or consider increasing regularisation. Duality gap: 3.388e-04, tolerance: 1.341e-04\n",
            "\n",
            "\n",
            "loop param_grid:  50%|██████████████████▌                  | 5/10 [00:00<00:00, 21.08it/s]\u001b[A\n",
            "loop param_grid:  80%|█████████████████████████████▌       | 8/10 [00:00<00:00, 22.21it/s]\u001b[A\n",
            "loop lags_grid: 100%|███████████████████████████████████████| 3/3 [00:01<00:00,  2.22it/s]"
          ]
        },
        {
          "output_type": "stream",
          "name": "stdout",
          "text": [
            "`Forecaster` refitted using the best-found lags and parameters, and the whole data set: \n",
            "  Lags: [ 1  2  3  4  5  6  7  8  9 10 11 12 13 14 15 16 17 18 19 20] \n",
            "  Parameters: {'alpha': 100000.0}\n",
            "  Backtesting metric: 39.5106789362066\n",
            "\n"
          ]
        },
        {
          "output_type": "stream",
          "name": "stderr",
          "text": [
            "\n"
          ]
        }
      ]
    },
    {
      "cell_type": "code",
      "source": [
        "# Predicciones\n",
        "# ==============================================================================\n",
        "predicciones = forecaster.predict()\n",
        "\n",
        "# Gráfico\n",
        "# ==============================================================================\n",
        "fig, ax = plt.subplots(figsize=(9, 4))\n",
        "data_train['y'].plot(ax=ax, label='train')\n",
        "data_test['y'].plot(ax=ax, label='test')\n",
        "predicciones.plot(ax=ax, label='predicciones')\n",
        "ax.legend();"
      ],
      "metadata": {
        "colab": {
          "base_uri": "https://localhost:8080/",
          "height": 280
        },
        "id": "Exjl_AyuUplA",
        "outputId": "11721990-95b7-46c5-e7be-dfa1c0eaf1c8"
      },
      "execution_count": 64,
      "outputs": [
        {
          "output_type": "display_data",
          "data": {
            "text/plain": [
              "<Figure size 648x288 with 1 Axes>"
            ],
            "image/png": "[encoded data removed]"
          },
          "metadata": {
            "needs_background": "light"
          }
        }
      ]
    },
    {
      "cell_type": "code",
      "source": [
        "output_file = f'model_appr.bin'"
      ],
      "metadata": {
        "id": "zEVlI6ONbedX"
      },
      "execution_count": 65,
      "outputs": []
    },
    {
      "cell_type": "code",
      "source": [
        "f_out = open(output_file, 'wb') \n",
        "pickle.dump(forecaster, f_out)\n",
        "f_out.close()"
      ],
      "metadata": {
        "id": "9z1m9Sclbge1"
      },
      "execution_count": 66,
      "outputs": []
    },
    {
      "cell_type": "code",
      "source": [
        "# Open the file with Vectorizer\n",
        "with open(output_file, 'rb') as f_in:\n",
        "    model_forecaster = pickle.load(f_in)\n",
        "f_in.close()"
      ],
      "metadata": {
        "id": "-8i661S6cSgR"
      },
      "execution_count": 67,
      "outputs": []
    },
    {
      "cell_type": "code",
      "source": [
        "model_forecaster.predict(12)"
      ],
      "metadata": {
        "colab": {
          "base_uri": "https://localhost:8080/"
        },
        "id": "NMPHrRwocfwd",
        "outputId": "154c41bd-4ff7-432b-8508-de45f8d2244c"
      },
      "execution_count": 68,
      "outputs": [
        {
          "output_type": "execute_result",
          "data": {
            "text/plain": [
              "2020-10-01    101.375\n",
              "2020-11-01    106.750\n",
              "2020-12-01    107.125\n",
              "2021-01-01    110.625\n",
              "2021-02-01    108.125\n",
              "2021-03-01     99.625\n",
              "2021-04-01     84.000\n",
              "2021-05-01     71.500\n",
              "2021-06-01     61.500\n",
              "2021-07-01     62.750\n",
              "2021-08-01     69.000\n",
              "2021-09-01     64.000\n",
              "Name: pred, dtype: float64"
            ]
          },
          "metadata": {},
          "execution_count": 68
        }
      ]
    },
    {
      "cell_type": "code",
      "source": [
        "session_info.show(html=False)"
      ],
      "metadata": {
        "colab": {
          "base_uri": "https://localhost:8080/"
        },
        "id": "bnIKnZGkczQf",
        "outputId": "a2bf6beb-3da5-4bad-c792-d0cdd64805de"
      },
      "execution_count": 71,
      "outputs": [
        {
          "output_type": "stream",
          "name": "stdout",
          "text": [
            "-----\n",
            "matplotlib          3.2.2\n",
            "numpy               1.21.6\n",
            "pandas              1.3.5\n",
            "plotly              5.5.0\n",
            "seaborn             0.11.2\n",
            "session_info        1.0.0\n",
            "skforecast          0.6.0\n",
            "sklearn             1.0.2\n",
            "statsmodels         0.12.2\n",
            "-----\n",
            "IPython             7.9.0\n",
            "jupyter_client      6.1.12\n",
            "jupyter_core        5.1.3\n",
            "notebook            5.7.16\n",
            "-----\n",
            "Python 3.8.10 (default, Nov 14 2022, 12:59:47) [GCC 9.4.0]\n",
            "Linux-5.10.147+-x86_64-with-glibc2.29\n",
            "-----\n",
            "Session information updated at 2023-01-27 02:27\n"
          ]
        }
      ]
    }
  ]
}